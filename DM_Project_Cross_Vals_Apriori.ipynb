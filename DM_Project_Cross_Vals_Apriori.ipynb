{
  "nbformat": 4,
  "nbformat_minor": 0,
  "metadata": {
    "colab": {
      "provenance": [],
      "toc_visible": true
    },
    "kernelspec": {
      "name": "python3",
      "display_name": "Python 3"
    },
    "language_info": {
      "name": "python"
    }
  },
  "cells": [
    {
      "cell_type": "code",
      "source": [
        "import pandas as pd\n",
        "import numpy as np\n",
        "import matplotlib.pyplot as plt\n",
        "import seaborn as sns"
      ],
      "metadata": {
        "id": "3wAfYh9PiYZK"
      },
      "execution_count": 1,
      "outputs": []
    },
    {
      "cell_type": "code",
      "execution_count": 2,
      "metadata": {
        "colab": {
          "base_uri": "https://localhost:8080/"
        },
        "id": "MVFUsWODiIg6",
        "outputId": "e7808ef6-fb86-47a5-d595-c8d41a497468"
      },
      "outputs": [
        {
          "output_type": "stream",
          "name": "stdout",
          "text": [
            "Mounted at /content/drive\n"
          ]
        }
      ],
      "source": [
        "from google.colab import drive\n",
        "drive.mount('/content/drive')"
      ]
    },
    {
      "cell_type": "markdown",
      "source": [
        "### Data Sourcing\n",
        "https://www.kaggle.com/ <br>\n",
        "https://www.airlinequality.com/review-pages/a-z-airline-reviews/"
      ],
      "metadata": {
        "id": "WoCB7DNqmvK7"
      }
    },
    {
      "cell_type": "markdown",
      "source": [
        "### Data loading"
      ],
      "metadata": {
        "id": "4LGGRyrBmzID"
      }
    },
    {
      "cell_type": "code",
      "source": [
        "data = pd.read_csv(\"/content/drive/My Drive/Colab Notebooks/CSCI_B_565/Project/Final/Airline-Dataset.csv\", index_col=0)"
      ],
      "metadata": {
        "id": "VZD64V0UiUBg"
      },
      "execution_count": 471,
      "outputs": []
    },
    {
      "cell_type": "code",
      "source": [
        "data.head()"
      ],
      "metadata": {
        "colab": {
          "base_uri": "https://localhost:8080/",
          "height": 739
        },
        "id": "-TnZAPTSih4h",
        "outputId": "ddcc8f34-fdf6-4ca2-b5f7-2014195d54fe"
      },
      "execution_count": 422,
      "outputs": [
        {
          "output_type": "execute_result",
          "data": {
            "text/plain": [
              "    airline_name        author author_country  \\\n",
              "0  adria-airways         D Ito        Germany   \n",
              "1  adria-airways  Ron Kuhlmann  United States   \n",
              "2  adria-airways       E Albin    Switzerland   \n",
              "3  adria-airways  Tercon Bojan      Singapore   \n",
              "4  adria-airways       L James         Poland   \n",
              "\n",
              "                                             content     cabin_flown  \\\n",
              "0  Outbound flight FRA/PRN A319. 2 hours 10 min f...         Economy   \n",
              "1  Two short hops ZRH-LJU and LJU-VIE. Very fast ...  Business Class   \n",
              "2  Flew Zurich-Ljubljana on JP365 newish CRJ900. ...         Economy   \n",
              "3  Adria serves this 100 min flight from Ljubljan...  Business Class   \n",
              "4  WAW-SKJ Economy. No free snacks or drinks on t...         Economy   \n",
              "\n",
              "   overall_rating  seat_comfort_rating  cabin_staff_rating  \\\n",
              "0             7.0                  4.0                 4.0   \n",
              "1            10.0                  4.0                 5.0   \n",
              "2             9.0                  5.0                 5.0   \n",
              "3             8.0                  4.0                 4.0   \n",
              "4             4.0                  4.0                 2.0   \n",
              "\n",
              "   food_beverages_rating  inflight_entertainment_rating  value_money_rating  \\\n",
              "0                    4.0                            0.0                 4.0   \n",
              "1                    4.0                            1.0                 5.0   \n",
              "2                    4.0                            0.0                 5.0   \n",
              "3                    3.0                            1.0                 4.0   \n",
              "4                    1.0                            2.0                 2.0   \n",
              "\n",
              "   Month  Year  recommended  \n",
              "0      4  2015            1  \n",
              "1      1  2015            1  \n",
              "2      9  2014            1  \n",
              "3      9  2014            1  \n",
              "4      6  2014            0  "
            ],
            "text/html": [
              "\n",
              "  <div id=\"df-362042cf-79d9-4cc5-883b-6fdc57ea8738\">\n",
              "    <div class=\"colab-df-container\">\n",
              "      <div>\n",
              "<style scoped>\n",
              "    .dataframe tbody tr th:only-of-type {\n",
              "        vertical-align: middle;\n",
              "    }\n",
              "\n",
              "    .dataframe tbody tr th {\n",
              "        vertical-align: top;\n",
              "    }\n",
              "\n",
              "    .dataframe thead th {\n",
              "        text-align: right;\n",
              "    }\n",
              "</style>\n",
              "<table border=\"1\" class=\"dataframe\">\n",
              "  <thead>\n",
              "    <tr style=\"text-align: right;\">\n",
              "      <th></th>\n",
              "      <th>airline_name</th>\n",
              "      <th>author</th>\n",
              "      <th>author_country</th>\n",
              "      <th>content</th>\n",
              "      <th>cabin_flown</th>\n",
              "      <th>overall_rating</th>\n",
              "      <th>seat_comfort_rating</th>\n",
              "      <th>cabin_staff_rating</th>\n",
              "      <th>food_beverages_rating</th>\n",
              "      <th>inflight_entertainment_rating</th>\n",
              "      <th>value_money_rating</th>\n",
              "      <th>Month</th>\n",
              "      <th>Year</th>\n",
              "      <th>recommended</th>\n",
              "    </tr>\n",
              "  </thead>\n",
              "  <tbody>\n",
              "    <tr>\n",
              "      <th>0</th>\n",
              "      <td>adria-airways</td>\n",
              "      <td>D Ito</td>\n",
              "      <td>Germany</td>\n",
              "      <td>Outbound flight FRA/PRN A319. 2 hours 10 min f...</td>\n",
              "      <td>Economy</td>\n",
              "      <td>7.0</td>\n",
              "      <td>4.0</td>\n",
              "      <td>4.0</td>\n",
              "      <td>4.0</td>\n",
              "      <td>0.0</td>\n",
              "      <td>4.0</td>\n",
              "      <td>4</td>\n",
              "      <td>2015</td>\n",
              "      <td>1</td>\n",
              "    </tr>\n",
              "    <tr>\n",
              "      <th>1</th>\n",
              "      <td>adria-airways</td>\n",
              "      <td>Ron Kuhlmann</td>\n",
              "      <td>United States</td>\n",
              "      <td>Two short hops ZRH-LJU and LJU-VIE. Very fast ...</td>\n",
              "      <td>Business Class</td>\n",
              "      <td>10.0</td>\n",
              "      <td>4.0</td>\n",
              "      <td>5.0</td>\n",
              "      <td>4.0</td>\n",
              "      <td>1.0</td>\n",
              "      <td>5.0</td>\n",
              "      <td>1</td>\n",
              "      <td>2015</td>\n",
              "      <td>1</td>\n",
              "    </tr>\n",
              "    <tr>\n",
              "      <th>2</th>\n",
              "      <td>adria-airways</td>\n",
              "      <td>E Albin</td>\n",
              "      <td>Switzerland</td>\n",
              "      <td>Flew Zurich-Ljubljana on JP365 newish CRJ900. ...</td>\n",
              "      <td>Economy</td>\n",
              "      <td>9.0</td>\n",
              "      <td>5.0</td>\n",
              "      <td>5.0</td>\n",
              "      <td>4.0</td>\n",
              "      <td>0.0</td>\n",
              "      <td>5.0</td>\n",
              "      <td>9</td>\n",
              "      <td>2014</td>\n",
              "      <td>1</td>\n",
              "    </tr>\n",
              "    <tr>\n",
              "      <th>3</th>\n",
              "      <td>adria-airways</td>\n",
              "      <td>Tercon Bojan</td>\n",
              "      <td>Singapore</td>\n",
              "      <td>Adria serves this 100 min flight from Ljubljan...</td>\n",
              "      <td>Business Class</td>\n",
              "      <td>8.0</td>\n",
              "      <td>4.0</td>\n",
              "      <td>4.0</td>\n",
              "      <td>3.0</td>\n",
              "      <td>1.0</td>\n",
              "      <td>4.0</td>\n",
              "      <td>9</td>\n",
              "      <td>2014</td>\n",
              "      <td>1</td>\n",
              "    </tr>\n",
              "    <tr>\n",
              "      <th>4</th>\n",
              "      <td>adria-airways</td>\n",
              "      <td>L James</td>\n",
              "      <td>Poland</td>\n",
              "      <td>WAW-SKJ Economy. No free snacks or drinks on t...</td>\n",
              "      <td>Economy</td>\n",
              "      <td>4.0</td>\n",
              "      <td>4.0</td>\n",
              "      <td>2.0</td>\n",
              "      <td>1.0</td>\n",
              "      <td>2.0</td>\n",
              "      <td>2.0</td>\n",
              "      <td>6</td>\n",
              "      <td>2014</td>\n",
              "      <td>0</td>\n",
              "    </tr>\n",
              "  </tbody>\n",
              "</table>\n",
              "</div>\n",
              "      <button class=\"colab-df-convert\" onclick=\"convertToInteractive('df-362042cf-79d9-4cc5-883b-6fdc57ea8738')\"\n",
              "              title=\"Convert this dataframe to an interactive table.\"\n",
              "              style=\"display:none;\">\n",
              "        \n",
              "  <svg xmlns=\"http://www.w3.org/2000/svg\" height=\"24px\"viewBox=\"0 0 24 24\"\n",
              "       width=\"24px\">\n",
              "    <path d=\"M0 0h24v24H0V0z\" fill=\"none\"/>\n",
              "    <path d=\"M18.56 5.44l.94 2.06.94-2.06 2.06-.94-2.06-.94-.94-2.06-.94 2.06-2.06.94zm-11 1L8.5 8.5l.94-2.06 2.06-.94-2.06-.94L8.5 2.5l-.94 2.06-2.06.94zm10 10l.94 2.06.94-2.06 2.06-.94-2.06-.94-.94-2.06-.94 2.06-2.06.94z\"/><path d=\"M17.41 7.96l-1.37-1.37c-.4-.4-.92-.59-1.43-.59-.52 0-1.04.2-1.43.59L10.3 9.45l-7.72 7.72c-.78.78-.78 2.05 0 2.83L4 21.41c.39.39.9.59 1.41.59.51 0 1.02-.2 1.41-.59l7.78-7.78 2.81-2.81c.8-.78.8-2.07 0-2.86zM5.41 20L4 18.59l7.72-7.72 1.47 1.35L5.41 20z\"/>\n",
              "  </svg>\n",
              "      </button>\n",
              "      \n",
              "  <style>\n",
              "    .colab-df-container {\n",
              "      display:flex;\n",
              "      flex-wrap:wrap;\n",
              "      gap: 12px;\n",
              "    }\n",
              "\n",
              "    .colab-df-convert {\n",
              "      background-color: #E8F0FE;\n",
              "      border: none;\n",
              "      border-radius: 50%;\n",
              "      cursor: pointer;\n",
              "      display: none;\n",
              "      fill: #1967D2;\n",
              "      height: 32px;\n",
              "      padding: 0 0 0 0;\n",
              "      width: 32px;\n",
              "    }\n",
              "\n",
              "    .colab-df-convert:hover {\n",
              "      background-color: #E2EBFA;\n",
              "      box-shadow: 0px 1px 2px rgba(60, 64, 67, 0.3), 0px 1px 3px 1px rgba(60, 64, 67, 0.15);\n",
              "      fill: #174EA6;\n",
              "    }\n",
              "\n",
              "    [theme=dark] .colab-df-convert {\n",
              "      background-color: #3B4455;\n",
              "      fill: #D2E3FC;\n",
              "    }\n",
              "\n",
              "    [theme=dark] .colab-df-convert:hover {\n",
              "      background-color: #434B5C;\n",
              "      box-shadow: 0px 1px 3px 1px rgba(0, 0, 0, 0.15);\n",
              "      filter: drop-shadow(0px 1px 2px rgba(0, 0, 0, 0.3));\n",
              "      fill: #FFFFFF;\n",
              "    }\n",
              "  </style>\n",
              "\n",
              "      <script>\n",
              "        const buttonEl =\n",
              "          document.querySelector('#df-362042cf-79d9-4cc5-883b-6fdc57ea8738 button.colab-df-convert');\n",
              "        buttonEl.style.display =\n",
              "          google.colab.kernel.accessAllowed ? 'block' : 'none';\n",
              "\n",
              "        async function convertToInteractive(key) {\n",
              "          const element = document.querySelector('#df-362042cf-79d9-4cc5-883b-6fdc57ea8738');\n",
              "          const dataTable =\n",
              "            await google.colab.kernel.invokeFunction('convertToInteractive',\n",
              "                                                     [key], {});\n",
              "          if (!dataTable) return;\n",
              "\n",
              "          const docLinkHtml = 'Like what you see? Visit the ' +\n",
              "            '<a target=\"_blank\" href=https://colab.research.google.com/notebooks/data_table.ipynb>data table notebook</a>'\n",
              "            + ' to learn more about interactive tables.';\n",
              "          element.innerHTML = '';\n",
              "          dataTable['output_type'] = 'display_data';\n",
              "          await google.colab.output.renderOutput(dataTable, element);\n",
              "          const docLink = document.createElement('div');\n",
              "          docLink.innerHTML = docLinkHtml;\n",
              "          element.appendChild(docLink);\n",
              "        }\n",
              "      </script>\n",
              "    </div>\n",
              "  </div>\n",
              "  "
            ]
          },
          "metadata": {},
          "execution_count": 422
        }
      ]
    },
    {
      "cell_type": "markdown",
      "source": [
        "### Data Cleaning\n",
        "\n"
      ],
      "metadata": {
        "id": "t0PAOFX3S_Td"
      }
    },
    {
      "cell_type": "markdown",
      "source": [
        "#### Outliers: <br>\n",
        "We have an outlier in the data. There is one single entry for year 1970, rest are from 2011 to 2015. We can remove the outlier from the dataset."
      ],
      "metadata": {
        "id": "3nWePF4fZRj3"
      }
    },
    {
      "cell_type": "code",
      "source": [
        "data.loc[data[\"Year\"] == 1970]"
      ],
      "metadata": {
        "colab": {
          "base_uri": "https://localhost:8080/",
          "height": 284
        },
        "id": "EKLZbl55ZmxM",
        "outputId": "53debb9d-0523-4a5c-e45e-4fe463fe00b3"
      },
      "execution_count": 472,
      "outputs": [
        {
          "output_type": "execute_result",
          "data": {
            "text/plain": [
              "          airline_name     author  author_country  \\\n",
              "11620  british-airways  Russ King  United Kingdom   \n",
              "\n",
              "                                                 content  cabin_flown  \\\n",
              "11620  SIN-LHR BA12 B747-436 First Class. Old aircraf...  First Class   \n",
              "\n",
              "       overall_rating  seat_comfort_rating  cabin_staff_rating  \\\n",
              "11620             4.0                  4.0                 5.0   \n",
              "\n",
              "       food_beverages_rating  inflight_entertainment_rating  \\\n",
              "11620                    5.0                            2.0   \n",
              "\n",
              "       value_money_rating  Month  Year  recommended  \n",
              "11620                 2.0      1  1970            0  "
            ],
            "text/html": [
              "\n",
              "  <div id=\"df-37df4bd3-73a8-4d98-a257-279b8845af13\">\n",
              "    <div class=\"colab-df-container\">\n",
              "      <div>\n",
              "<style scoped>\n",
              "    .dataframe tbody tr th:only-of-type {\n",
              "        vertical-align: middle;\n",
              "    }\n",
              "\n",
              "    .dataframe tbody tr th {\n",
              "        vertical-align: top;\n",
              "    }\n",
              "\n",
              "    .dataframe thead th {\n",
              "        text-align: right;\n",
              "    }\n",
              "</style>\n",
              "<table border=\"1\" class=\"dataframe\">\n",
              "  <thead>\n",
              "    <tr style=\"text-align: right;\">\n",
              "      <th></th>\n",
              "      <th>airline_name</th>\n",
              "      <th>author</th>\n",
              "      <th>author_country</th>\n",
              "      <th>content</th>\n",
              "      <th>cabin_flown</th>\n",
              "      <th>overall_rating</th>\n",
              "      <th>seat_comfort_rating</th>\n",
              "      <th>cabin_staff_rating</th>\n",
              "      <th>food_beverages_rating</th>\n",
              "      <th>inflight_entertainment_rating</th>\n",
              "      <th>value_money_rating</th>\n",
              "      <th>Month</th>\n",
              "      <th>Year</th>\n",
              "      <th>recommended</th>\n",
              "    </tr>\n",
              "  </thead>\n",
              "  <tbody>\n",
              "    <tr>\n",
              "      <th>11620</th>\n",
              "      <td>british-airways</td>\n",
              "      <td>Russ King</td>\n",
              "      <td>United Kingdom</td>\n",
              "      <td>SIN-LHR BA12 B747-436 First Class. Old aircraf...</td>\n",
              "      <td>First Class</td>\n",
              "      <td>4.0</td>\n",
              "      <td>4.0</td>\n",
              "      <td>5.0</td>\n",
              "      <td>5.0</td>\n",
              "      <td>2.0</td>\n",
              "      <td>2.0</td>\n",
              "      <td>1</td>\n",
              "      <td>1970</td>\n",
              "      <td>0</td>\n",
              "    </tr>\n",
              "  </tbody>\n",
              "</table>\n",
              "</div>\n",
              "      <button class=\"colab-df-convert\" onclick=\"convertToInteractive('df-37df4bd3-73a8-4d98-a257-279b8845af13')\"\n",
              "              title=\"Convert this dataframe to an interactive table.\"\n",
              "              style=\"display:none;\">\n",
              "        \n",
              "  <svg xmlns=\"http://www.w3.org/2000/svg\" height=\"24px\"viewBox=\"0 0 24 24\"\n",
              "       width=\"24px\">\n",
              "    <path d=\"M0 0h24v24H0V0z\" fill=\"none\"/>\n",
              "    <path d=\"M18.56 5.44l.94 2.06.94-2.06 2.06-.94-2.06-.94-.94-2.06-.94 2.06-2.06.94zm-11 1L8.5 8.5l.94-2.06 2.06-.94-2.06-.94L8.5 2.5l-.94 2.06-2.06.94zm10 10l.94 2.06.94-2.06 2.06-.94-2.06-.94-.94-2.06-.94 2.06-2.06.94z\"/><path d=\"M17.41 7.96l-1.37-1.37c-.4-.4-.92-.59-1.43-.59-.52 0-1.04.2-1.43.59L10.3 9.45l-7.72 7.72c-.78.78-.78 2.05 0 2.83L4 21.41c.39.39.9.59 1.41.59.51 0 1.02-.2 1.41-.59l7.78-7.78 2.81-2.81c.8-.78.8-2.07 0-2.86zM5.41 20L4 18.59l7.72-7.72 1.47 1.35L5.41 20z\"/>\n",
              "  </svg>\n",
              "      </button>\n",
              "      \n",
              "  <style>\n",
              "    .colab-df-container {\n",
              "      display:flex;\n",
              "      flex-wrap:wrap;\n",
              "      gap: 12px;\n",
              "    }\n",
              "\n",
              "    .colab-df-convert {\n",
              "      background-color: #E8F0FE;\n",
              "      border: none;\n",
              "      border-radius: 50%;\n",
              "      cursor: pointer;\n",
              "      display: none;\n",
              "      fill: #1967D2;\n",
              "      height: 32px;\n",
              "      padding: 0 0 0 0;\n",
              "      width: 32px;\n",
              "    }\n",
              "\n",
              "    .colab-df-convert:hover {\n",
              "      background-color: #E2EBFA;\n",
              "      box-shadow: 0px 1px 2px rgba(60, 64, 67, 0.3), 0px 1px 3px 1px rgba(60, 64, 67, 0.15);\n",
              "      fill: #174EA6;\n",
              "    }\n",
              "\n",
              "    [theme=dark] .colab-df-convert {\n",
              "      background-color: #3B4455;\n",
              "      fill: #D2E3FC;\n",
              "    }\n",
              "\n",
              "    [theme=dark] .colab-df-convert:hover {\n",
              "      background-color: #434B5C;\n",
              "      box-shadow: 0px 1px 3px 1px rgba(0, 0, 0, 0.15);\n",
              "      filter: drop-shadow(0px 1px 2px rgba(0, 0, 0, 0.3));\n",
              "      fill: #FFFFFF;\n",
              "    }\n",
              "  </style>\n",
              "\n",
              "      <script>\n",
              "        const buttonEl =\n",
              "          document.querySelector('#df-37df4bd3-73a8-4d98-a257-279b8845af13 button.colab-df-convert');\n",
              "        buttonEl.style.display =\n",
              "          google.colab.kernel.accessAllowed ? 'block' : 'none';\n",
              "\n",
              "        async function convertToInteractive(key) {\n",
              "          const element = document.querySelector('#df-37df4bd3-73a8-4d98-a257-279b8845af13');\n",
              "          const dataTable =\n",
              "            await google.colab.kernel.invokeFunction('convertToInteractive',\n",
              "                                                     [key], {});\n",
              "          if (!dataTable) return;\n",
              "\n",
              "          const docLinkHtml = 'Like what you see? Visit the ' +\n",
              "            '<a target=\"_blank\" href=https://colab.research.google.com/notebooks/data_table.ipynb>data table notebook</a>'\n",
              "            + ' to learn more about interactive tables.';\n",
              "          element.innerHTML = '';\n",
              "          dataTable['output_type'] = 'display_data';\n",
              "          await google.colab.output.renderOutput(dataTable, element);\n",
              "          const docLink = document.createElement('div');\n",
              "          docLink.innerHTML = docLinkHtml;\n",
              "          element.appendChild(docLink);\n",
              "        }\n",
              "      </script>\n",
              "    </div>\n",
              "  </div>\n",
              "  "
            ]
          },
          "metadata": {},
          "execution_count": 472
        }
      ]
    },
    {
      "cell_type": "code",
      "source": [
        "data.drop(data.loc[data[\"Year\"] == 1970].index , inplace=True)"
      ],
      "metadata": {
        "id": "8Hu7uqXzZoOO"
      },
      "execution_count": 473,
      "outputs": []
    },
    {
      "cell_type": "markdown",
      "source": [
        "Here we remove the 'content' column which we identified as comments of the travellers. We can do Sentimental analysis in it to identify weather the comment is positive, negative, or neutral. The sentimental analysis results are in different Notebook."
      ],
      "metadata": {
        "id": "d6ivans2TKY0"
      }
    },
    {
      "cell_type": "code",
      "source": [
        "review = data.pop('content')"
      ],
      "metadata": {
        "id": "D7Wh70vETLyS"
      },
      "execution_count": 474,
      "outputs": []
    },
    {
      "cell_type": "code",
      "source": [
        "review"
      ],
      "metadata": {
        "colab": {
          "base_uri": "https://localhost:8080/"
        },
        "id": "RJq-40kWTPst",
        "outputId": "81a134b2-a850-4ede-8819-e8a479c6ea7d"
      },
      "execution_count": 475,
      "outputs": [
        {
          "output_type": "execute_result",
          "data": {
            "text/plain": [
              "0        Outbound flight FRA/PRN A319. 2 hours 10 min f...\n",
              "1        Two short hops ZRH-LJU and LJU-VIE. Very fast ...\n",
              "2        Flew Zurich-Ljubljana on JP365 newish CRJ900. ...\n",
              "3        Adria serves this 100 min flight from Ljubljan...\n",
              "4        WAW-SKJ Economy. No free snacks or drinks on t...\n",
              "                               ...                        \n",
              "41207    Gdansk - Turku. I recognise all the comments h...\n",
              "41210    I travelled from Bourgas/Luton 2 weeks ago on ...\n",
              "41213    Luton to Budapest. Aware of the draconian appl...\n",
              "41216    VNO to LTN. The flight departed 6:10am in the ...\n",
              "41217    We fly often with Wizzair and this is purely a...\n",
              "Name: content, Length: 27283, dtype: object"
            ]
          },
          "metadata": {},
          "execution_count": 475
        }
      ]
    },
    {
      "cell_type": "code",
      "source": [
        "data.head()"
      ],
      "metadata": {
        "colab": {
          "base_uri": "https://localhost:8080/",
          "height": 305
        },
        "id": "KArrcz0pTTka",
        "outputId": "fdd400be-32ff-4203-df50-e0791c02f0be"
      },
      "execution_count": 476,
      "outputs": [
        {
          "output_type": "execute_result",
          "data": {
            "text/plain": [
              "    airline_name        author author_country     cabin_flown  overall_rating  \\\n",
              "0  adria-airways         D Ito        Germany         Economy             7.0   \n",
              "1  adria-airways  Ron Kuhlmann  United States  Business Class            10.0   \n",
              "2  adria-airways       E Albin    Switzerland         Economy             9.0   \n",
              "3  adria-airways  Tercon Bojan      Singapore  Business Class             8.0   \n",
              "4  adria-airways       L James         Poland         Economy             4.0   \n",
              "\n",
              "   seat_comfort_rating  cabin_staff_rating  food_beverages_rating  \\\n",
              "0                  4.0                 4.0                    4.0   \n",
              "1                  4.0                 5.0                    4.0   \n",
              "2                  5.0                 5.0                    4.0   \n",
              "3                  4.0                 4.0                    3.0   \n",
              "4                  4.0                 2.0                    1.0   \n",
              "\n",
              "   inflight_entertainment_rating  value_money_rating  Month  Year  recommended  \n",
              "0                            0.0                 4.0      4  2015            1  \n",
              "1                            1.0                 5.0      1  2015            1  \n",
              "2                            0.0                 5.0      9  2014            1  \n",
              "3                            1.0                 4.0      9  2014            1  \n",
              "4                            2.0                 2.0      6  2014            0  "
            ],
            "text/html": [
              "\n",
              "  <div id=\"df-5358ca50-e509-4cb7-b78c-bbd596c110b0\">\n",
              "    <div class=\"colab-df-container\">\n",
              "      <div>\n",
              "<style scoped>\n",
              "    .dataframe tbody tr th:only-of-type {\n",
              "        vertical-align: middle;\n",
              "    }\n",
              "\n",
              "    .dataframe tbody tr th {\n",
              "        vertical-align: top;\n",
              "    }\n",
              "\n",
              "    .dataframe thead th {\n",
              "        text-align: right;\n",
              "    }\n",
              "</style>\n",
              "<table border=\"1\" class=\"dataframe\">\n",
              "  <thead>\n",
              "    <tr style=\"text-align: right;\">\n",
              "      <th></th>\n",
              "      <th>airline_name</th>\n",
              "      <th>author</th>\n",
              "      <th>author_country</th>\n",
              "      <th>cabin_flown</th>\n",
              "      <th>overall_rating</th>\n",
              "      <th>seat_comfort_rating</th>\n",
              "      <th>cabin_staff_rating</th>\n",
              "      <th>food_beverages_rating</th>\n",
              "      <th>inflight_entertainment_rating</th>\n",
              "      <th>value_money_rating</th>\n",
              "      <th>Month</th>\n",
              "      <th>Year</th>\n",
              "      <th>recommended</th>\n",
              "    </tr>\n",
              "  </thead>\n",
              "  <tbody>\n",
              "    <tr>\n",
              "      <th>0</th>\n",
              "      <td>adria-airways</td>\n",
              "      <td>D Ito</td>\n",
              "      <td>Germany</td>\n",
              "      <td>Economy</td>\n",
              "      <td>7.0</td>\n",
              "      <td>4.0</td>\n",
              "      <td>4.0</td>\n",
              "      <td>4.0</td>\n",
              "      <td>0.0</td>\n",
              "      <td>4.0</td>\n",
              "      <td>4</td>\n",
              "      <td>2015</td>\n",
              "      <td>1</td>\n",
              "    </tr>\n",
              "    <tr>\n",
              "      <th>1</th>\n",
              "      <td>adria-airways</td>\n",
              "      <td>Ron Kuhlmann</td>\n",
              "      <td>United States</td>\n",
              "      <td>Business Class</td>\n",
              "      <td>10.0</td>\n",
              "      <td>4.0</td>\n",
              "      <td>5.0</td>\n",
              "      <td>4.0</td>\n",
              "      <td>1.0</td>\n",
              "      <td>5.0</td>\n",
              "      <td>1</td>\n",
              "      <td>2015</td>\n",
              "      <td>1</td>\n",
              "    </tr>\n",
              "    <tr>\n",
              "      <th>2</th>\n",
              "      <td>adria-airways</td>\n",
              "      <td>E Albin</td>\n",
              "      <td>Switzerland</td>\n",
              "      <td>Economy</td>\n",
              "      <td>9.0</td>\n",
              "      <td>5.0</td>\n",
              "      <td>5.0</td>\n",
              "      <td>4.0</td>\n",
              "      <td>0.0</td>\n",
              "      <td>5.0</td>\n",
              "      <td>9</td>\n",
              "      <td>2014</td>\n",
              "      <td>1</td>\n",
              "    </tr>\n",
              "    <tr>\n",
              "      <th>3</th>\n",
              "      <td>adria-airways</td>\n",
              "      <td>Tercon Bojan</td>\n",
              "      <td>Singapore</td>\n",
              "      <td>Business Class</td>\n",
              "      <td>8.0</td>\n",
              "      <td>4.0</td>\n",
              "      <td>4.0</td>\n",
              "      <td>3.0</td>\n",
              "      <td>1.0</td>\n",
              "      <td>4.0</td>\n",
              "      <td>9</td>\n",
              "      <td>2014</td>\n",
              "      <td>1</td>\n",
              "    </tr>\n",
              "    <tr>\n",
              "      <th>4</th>\n",
              "      <td>adria-airways</td>\n",
              "      <td>L James</td>\n",
              "      <td>Poland</td>\n",
              "      <td>Economy</td>\n",
              "      <td>4.0</td>\n",
              "      <td>4.0</td>\n",
              "      <td>2.0</td>\n",
              "      <td>1.0</td>\n",
              "      <td>2.0</td>\n",
              "      <td>2.0</td>\n",
              "      <td>6</td>\n",
              "      <td>2014</td>\n",
              "      <td>0</td>\n",
              "    </tr>\n",
              "  </tbody>\n",
              "</table>\n",
              "</div>\n",
              "      <button class=\"colab-df-convert\" onclick=\"convertToInteractive('df-5358ca50-e509-4cb7-b78c-bbd596c110b0')\"\n",
              "              title=\"Convert this dataframe to an interactive table.\"\n",
              "              style=\"display:none;\">\n",
              "        \n",
              "  <svg xmlns=\"http://www.w3.org/2000/svg\" height=\"24px\"viewBox=\"0 0 24 24\"\n",
              "       width=\"24px\">\n",
              "    <path d=\"M0 0h24v24H0V0z\" fill=\"none\"/>\n",
              "    <path d=\"M18.56 5.44l.94 2.06.94-2.06 2.06-.94-2.06-.94-.94-2.06-.94 2.06-2.06.94zm-11 1L8.5 8.5l.94-2.06 2.06-.94-2.06-.94L8.5 2.5l-.94 2.06-2.06.94zm10 10l.94 2.06.94-2.06 2.06-.94-2.06-.94-.94-2.06-.94 2.06-2.06.94z\"/><path d=\"M17.41 7.96l-1.37-1.37c-.4-.4-.92-.59-1.43-.59-.52 0-1.04.2-1.43.59L10.3 9.45l-7.72 7.72c-.78.78-.78 2.05 0 2.83L4 21.41c.39.39.9.59 1.41.59.51 0 1.02-.2 1.41-.59l7.78-7.78 2.81-2.81c.8-.78.8-2.07 0-2.86zM5.41 20L4 18.59l7.72-7.72 1.47 1.35L5.41 20z\"/>\n",
              "  </svg>\n",
              "      </button>\n",
              "      \n",
              "  <style>\n",
              "    .colab-df-container {\n",
              "      display:flex;\n",
              "      flex-wrap:wrap;\n",
              "      gap: 12px;\n",
              "    }\n",
              "\n",
              "    .colab-df-convert {\n",
              "      background-color: #E8F0FE;\n",
              "      border: none;\n",
              "      border-radius: 50%;\n",
              "      cursor: pointer;\n",
              "      display: none;\n",
              "      fill: #1967D2;\n",
              "      height: 32px;\n",
              "      padding: 0 0 0 0;\n",
              "      width: 32px;\n",
              "    }\n",
              "\n",
              "    .colab-df-convert:hover {\n",
              "      background-color: #E2EBFA;\n",
              "      box-shadow: 0px 1px 2px rgba(60, 64, 67, 0.3), 0px 1px 3px 1px rgba(60, 64, 67, 0.15);\n",
              "      fill: #174EA6;\n",
              "    }\n",
              "\n",
              "    [theme=dark] .colab-df-convert {\n",
              "      background-color: #3B4455;\n",
              "      fill: #D2E3FC;\n",
              "    }\n",
              "\n",
              "    [theme=dark] .colab-df-convert:hover {\n",
              "      background-color: #434B5C;\n",
              "      box-shadow: 0px 1px 3px 1px rgba(0, 0, 0, 0.15);\n",
              "      filter: drop-shadow(0px 1px 2px rgba(0, 0, 0, 0.3));\n",
              "      fill: #FFFFFF;\n",
              "    }\n",
              "  </style>\n",
              "\n",
              "      <script>\n",
              "        const buttonEl =\n",
              "          document.querySelector('#df-5358ca50-e509-4cb7-b78c-bbd596c110b0 button.colab-df-convert');\n",
              "        buttonEl.style.display =\n",
              "          google.colab.kernel.accessAllowed ? 'block' : 'none';\n",
              "\n",
              "        async function convertToInteractive(key) {\n",
              "          const element = document.querySelector('#df-5358ca50-e509-4cb7-b78c-bbd596c110b0');\n",
              "          const dataTable =\n",
              "            await google.colab.kernel.invokeFunction('convertToInteractive',\n",
              "                                                     [key], {});\n",
              "          if (!dataTable) return;\n",
              "\n",
              "          const docLinkHtml = 'Like what you see? Visit the ' +\n",
              "            '<a target=\"_blank\" href=https://colab.research.google.com/notebooks/data_table.ipynb>data table notebook</a>'\n",
              "            + ' to learn more about interactive tables.';\n",
              "          element.innerHTML = '';\n",
              "          dataTable['output_type'] = 'display_data';\n",
              "          await google.colab.output.renderOutput(dataTable, element);\n",
              "          const docLink = document.createElement('div');\n",
              "          docLink.innerHTML = docLinkHtml;\n",
              "          element.appendChild(docLink);\n",
              "        }\n",
              "      </script>\n",
              "    </div>\n",
              "  </div>\n",
              "  "
            ]
          },
          "metadata": {},
          "execution_count": 476
        }
      ]
    },
    {
      "cell_type": "markdown",
      "source": [
        "#### Merging Columns:\n",
        "Lets merge 'Month' and 'Year' column, in the format: 'MM.YYYY' and name it 'date' and drop the individual columns."
      ],
      "metadata": {
        "id": "F2pRTZGZTZ6W"
      }
    },
    {
      "cell_type": "code",
      "source": [
        "data[\"date\"] = (data['Month'].astype(str) +\"/\"+ data[\"Year\"].astype(str))"
      ],
      "metadata": {
        "id": "0PwkJtQMTdzI"
      },
      "execution_count": 477,
      "outputs": []
    },
    {
      "cell_type": "code",
      "source": [
        "data.drop('Month', axis = 1, inplace=True)\n",
        "data.drop('Year', axis = 1, inplace=True)"
      ],
      "metadata": {
        "id": "-g43my8WTsjw"
      },
      "execution_count": 478,
      "outputs": []
    },
    {
      "cell_type": "code",
      "source": [
        "data.shape"
      ],
      "metadata": {
        "colab": {
          "base_uri": "https://localhost:8080/"
        },
        "id": "XkizWIyyTxPL",
        "outputId": "839f7da0-71b8-4a7c-e37d-aeb1e2095041"
      },
      "execution_count": 479,
      "outputs": [
        {
          "output_type": "execute_result",
          "data": {
            "text/plain": [
              "(27283, 12)"
            ]
          },
          "metadata": {},
          "execution_count": 479
        }
      ]
    },
    {
      "cell_type": "code",
      "source": [
        "data.head()"
      ],
      "metadata": {
        "colab": {
          "base_uri": "https://localhost:8080/",
          "height": 305
        },
        "id": "f9NhpXHrTzDT",
        "outputId": "fa05ac41-cc4a-45ec-bd5d-dfd15e5db5f2"
      },
      "execution_count": 148,
      "outputs": [
        {
          "output_type": "execute_result",
          "data": {
            "text/plain": [
              "    airline_name        author author_country     cabin_flown  overall_rating  \\\n",
              "0  adria-airways         D Ito        Germany         Economy             7.0   \n",
              "1  adria-airways  Ron Kuhlmann  United States  Business Class            10.0   \n",
              "2  adria-airways       E Albin    Switzerland         Economy             9.0   \n",
              "3  adria-airways  Tercon Bojan      Singapore  Business Class             8.0   \n",
              "4  adria-airways       L James         Poland         Economy             4.0   \n",
              "\n",
              "   seat_comfort_rating  cabin_staff_rating  food_beverages_rating  \\\n",
              "0                  4.0                 4.0                    4.0   \n",
              "1                  4.0                 5.0                    4.0   \n",
              "2                  5.0                 5.0                    4.0   \n",
              "3                  4.0                 4.0                    3.0   \n",
              "4                  4.0                 2.0                    1.0   \n",
              "\n",
              "   inflight_entertainment_rating  value_money_rating  recommended    date  \n",
              "0                            0.0                 4.0            1  4.2015  \n",
              "1                            1.0                 5.0            1  1.2015  \n",
              "2                            0.0                 5.0            1  9.2014  \n",
              "3                            1.0                 4.0            1  9.2014  \n",
              "4                            2.0                 2.0            0  6.2014  "
            ],
            "text/html": [
              "\n",
              "  <div id=\"df-1e1cd10f-4f00-476d-b2a4-d5493ab26e63\">\n",
              "    <div class=\"colab-df-container\">\n",
              "      <div>\n",
              "<style scoped>\n",
              "    .dataframe tbody tr th:only-of-type {\n",
              "        vertical-align: middle;\n",
              "    }\n",
              "\n",
              "    .dataframe tbody tr th {\n",
              "        vertical-align: top;\n",
              "    }\n",
              "\n",
              "    .dataframe thead th {\n",
              "        text-align: right;\n",
              "    }\n",
              "</style>\n",
              "<table border=\"1\" class=\"dataframe\">\n",
              "  <thead>\n",
              "    <tr style=\"text-align: right;\">\n",
              "      <th></th>\n",
              "      <th>airline_name</th>\n",
              "      <th>author</th>\n",
              "      <th>author_country</th>\n",
              "      <th>cabin_flown</th>\n",
              "      <th>overall_rating</th>\n",
              "      <th>seat_comfort_rating</th>\n",
              "      <th>cabin_staff_rating</th>\n",
              "      <th>food_beverages_rating</th>\n",
              "      <th>inflight_entertainment_rating</th>\n",
              "      <th>value_money_rating</th>\n",
              "      <th>recommended</th>\n",
              "      <th>date</th>\n",
              "    </tr>\n",
              "  </thead>\n",
              "  <tbody>\n",
              "    <tr>\n",
              "      <th>0</th>\n",
              "      <td>adria-airways</td>\n",
              "      <td>D Ito</td>\n",
              "      <td>Germany</td>\n",
              "      <td>Economy</td>\n",
              "      <td>7.0</td>\n",
              "      <td>4.0</td>\n",
              "      <td>4.0</td>\n",
              "      <td>4.0</td>\n",
              "      <td>0.0</td>\n",
              "      <td>4.0</td>\n",
              "      <td>1</td>\n",
              "      <td>4.2015</td>\n",
              "    </tr>\n",
              "    <tr>\n",
              "      <th>1</th>\n",
              "      <td>adria-airways</td>\n",
              "      <td>Ron Kuhlmann</td>\n",
              "      <td>United States</td>\n",
              "      <td>Business Class</td>\n",
              "      <td>10.0</td>\n",
              "      <td>4.0</td>\n",
              "      <td>5.0</td>\n",
              "      <td>4.0</td>\n",
              "      <td>1.0</td>\n",
              "      <td>5.0</td>\n",
              "      <td>1</td>\n",
              "      <td>1.2015</td>\n",
              "    </tr>\n",
              "    <tr>\n",
              "      <th>2</th>\n",
              "      <td>adria-airways</td>\n",
              "      <td>E Albin</td>\n",
              "      <td>Switzerland</td>\n",
              "      <td>Economy</td>\n",
              "      <td>9.0</td>\n",
              "      <td>5.0</td>\n",
              "      <td>5.0</td>\n",
              "      <td>4.0</td>\n",
              "      <td>0.0</td>\n",
              "      <td>5.0</td>\n",
              "      <td>1</td>\n",
              "      <td>9.2014</td>\n",
              "    </tr>\n",
              "    <tr>\n",
              "      <th>3</th>\n",
              "      <td>adria-airways</td>\n",
              "      <td>Tercon Bojan</td>\n",
              "      <td>Singapore</td>\n",
              "      <td>Business Class</td>\n",
              "      <td>8.0</td>\n",
              "      <td>4.0</td>\n",
              "      <td>4.0</td>\n",
              "      <td>3.0</td>\n",
              "      <td>1.0</td>\n",
              "      <td>4.0</td>\n",
              "      <td>1</td>\n",
              "      <td>9.2014</td>\n",
              "    </tr>\n",
              "    <tr>\n",
              "      <th>4</th>\n",
              "      <td>adria-airways</td>\n",
              "      <td>L James</td>\n",
              "      <td>Poland</td>\n",
              "      <td>Economy</td>\n",
              "      <td>4.0</td>\n",
              "      <td>4.0</td>\n",
              "      <td>2.0</td>\n",
              "      <td>1.0</td>\n",
              "      <td>2.0</td>\n",
              "      <td>2.0</td>\n",
              "      <td>0</td>\n",
              "      <td>6.2014</td>\n",
              "    </tr>\n",
              "  </tbody>\n",
              "</table>\n",
              "</div>\n",
              "      <button class=\"colab-df-convert\" onclick=\"convertToInteractive('df-1e1cd10f-4f00-476d-b2a4-d5493ab26e63')\"\n",
              "              title=\"Convert this dataframe to an interactive table.\"\n",
              "              style=\"display:none;\">\n",
              "        \n",
              "  <svg xmlns=\"http://www.w3.org/2000/svg\" height=\"24px\"viewBox=\"0 0 24 24\"\n",
              "       width=\"24px\">\n",
              "    <path d=\"M0 0h24v24H0V0z\" fill=\"none\"/>\n",
              "    <path d=\"M18.56 5.44l.94 2.06.94-2.06 2.06-.94-2.06-.94-.94-2.06-.94 2.06-2.06.94zm-11 1L8.5 8.5l.94-2.06 2.06-.94-2.06-.94L8.5 2.5l-.94 2.06-2.06.94zm10 10l.94 2.06.94-2.06 2.06-.94-2.06-.94-.94-2.06-.94 2.06-2.06.94z\"/><path d=\"M17.41 7.96l-1.37-1.37c-.4-.4-.92-.59-1.43-.59-.52 0-1.04.2-1.43.59L10.3 9.45l-7.72 7.72c-.78.78-.78 2.05 0 2.83L4 21.41c.39.39.9.59 1.41.59.51 0 1.02-.2 1.41-.59l7.78-7.78 2.81-2.81c.8-.78.8-2.07 0-2.86zM5.41 20L4 18.59l7.72-7.72 1.47 1.35L5.41 20z\"/>\n",
              "  </svg>\n",
              "      </button>\n",
              "      \n",
              "  <style>\n",
              "    .colab-df-container {\n",
              "      display:flex;\n",
              "      flex-wrap:wrap;\n",
              "      gap: 12px;\n",
              "    }\n",
              "\n",
              "    .colab-df-convert {\n",
              "      background-color: #E8F0FE;\n",
              "      border: none;\n",
              "      border-radius: 50%;\n",
              "      cursor: pointer;\n",
              "      display: none;\n",
              "      fill: #1967D2;\n",
              "      height: 32px;\n",
              "      padding: 0 0 0 0;\n",
              "      width: 32px;\n",
              "    }\n",
              "\n",
              "    .colab-df-convert:hover {\n",
              "      background-color: #E2EBFA;\n",
              "      box-shadow: 0px 1px 2px rgba(60, 64, 67, 0.3), 0px 1px 3px 1px rgba(60, 64, 67, 0.15);\n",
              "      fill: #174EA6;\n",
              "    }\n",
              "\n",
              "    [theme=dark] .colab-df-convert {\n",
              "      background-color: #3B4455;\n",
              "      fill: #D2E3FC;\n",
              "    }\n",
              "\n",
              "    [theme=dark] .colab-df-convert:hover {\n",
              "      background-color: #434B5C;\n",
              "      box-shadow: 0px 1px 3px 1px rgba(0, 0, 0, 0.15);\n",
              "      filter: drop-shadow(0px 1px 2px rgba(0, 0, 0, 0.3));\n",
              "      fill: #FFFFFF;\n",
              "    }\n",
              "  </style>\n",
              "\n",
              "      <script>\n",
              "        const buttonEl =\n",
              "          document.querySelector('#df-1e1cd10f-4f00-476d-b2a4-d5493ab26e63 button.colab-df-convert');\n",
              "        buttonEl.style.display =\n",
              "          google.colab.kernel.accessAllowed ? 'block' : 'none';\n",
              "\n",
              "        async function convertToInteractive(key) {\n",
              "          const element = document.querySelector('#df-1e1cd10f-4f00-476d-b2a4-d5493ab26e63');\n",
              "          const dataTable =\n",
              "            await google.colab.kernel.invokeFunction('convertToInteractive',\n",
              "                                                     [key], {});\n",
              "          if (!dataTable) return;\n",
              "\n",
              "          const docLinkHtml = 'Like what you see? Visit the ' +\n",
              "            '<a target=\"_blank\" href=https://colab.research.google.com/notebooks/data_table.ipynb>data table notebook</a>'\n",
              "            + ' to learn more about interactive tables.';\n",
              "          element.innerHTML = '';\n",
              "          dataTable['output_type'] = 'display_data';\n",
              "          await google.colab.output.renderOutput(dataTable, element);\n",
              "          const docLink = document.createElement('div');\n",
              "          docLink.innerHTML = docLinkHtml;\n",
              "          element.appendChild(docLink);\n",
              "        }\n",
              "      </script>\n",
              "    </div>\n",
              "  </div>\n",
              "  "
            ]
          },
          "metadata": {},
          "execution_count": 148
        }
      ]
    },
    {
      "cell_type": "markdown",
      "source": [
        "### Exploratory Data Analysis\n",
        "\n",
        "References:\n",
        "1. https://thinkingneuron.com/how-to-visualize-the-relationship-between-two-categorical-variables-in-python/\n",
        "2. https://towardsdatascience.com/exploratory-data-analysis-eda-python-87178e35b14\n",
        "3. https://www.shanelynn.ie/bar-plots-in-python-using-pandas-dataframes/\n",
        "4. https://www.dataquest.io/blog/how-to-plot-a-bar-graph-matplotlib/\n",
        "5. https://chart-studio.plotly.com/~i/26/yes-or-no/#/"
      ],
      "metadata": {
        "id": "59-yANKkm6Gk"
      }
    },
    {
      "cell_type": "markdown",
      "source": [
        "#### Columns"
      ],
      "metadata": {
        "id": "LzHBOljpnAeR"
      }
    },
    {
      "cell_type": "code",
      "source": [
        "data.columns"
      ],
      "metadata": {
        "colab": {
          "base_uri": "https://localhost:8080/"
        },
        "id": "tBoXbaDTikx8",
        "outputId": "7b5acd64-f5bc-4ceb-cb7f-957969c25aec"
      },
      "execution_count": 149,
      "outputs": [
        {
          "output_type": "execute_result",
          "data": {
            "text/plain": [
              "Index(['airline_name', 'author', 'author_country', 'cabin_flown',\n",
              "       'overall_rating', 'seat_comfort_rating', 'cabin_staff_rating',\n",
              "       'food_beverages_rating', 'inflight_entertainment_rating',\n",
              "       'value_money_rating', 'recommended', 'date'],\n",
              "      dtype='object')"
            ]
          },
          "metadata": {},
          "execution_count": 149
        }
      ]
    },
    {
      "cell_type": "markdown",
      "source": [
        "#### Unique Values"
      ],
      "metadata": {
        "id": "tN9jIMxQnCfD"
      }
    },
    {
      "cell_type": "code",
      "source": [
        "for col in data.columns:\n",
        "  print(data[col].unique())"
      ],
      "metadata": {
        "colab": {
          "base_uri": "https://localhost:8080/"
        },
        "id": "q2_JLSp5imh3",
        "outputId": "b5dc52ab-ee2e-4a7b-ed6a-129a37cf947e"
      },
      "execution_count": 150,
      "outputs": [
        {
          "output_type": "stream",
          "name": "stdout",
          "text": [
            "['adria-airways' 'aegean-airlines' 'aer-lingus'\n",
            " 'aeroflot-russian-airlines' 'aerolineas-argentinas' 'aeromexico'\n",
            " 'aerosur' 'aigle-azur' 'air-algerie' 'air-arabia' 'air-astana'\n",
            " 'air-bagan' 'air-berlin' 'air-botswana' 'air-busan' 'air-canada'\n",
            " 'air-canada-rouge' 'air-caraibes' 'air-china' 'air-corsica'\n",
            " 'air-dolomiti' 'air-europa' 'air-france' 'air-india' 'air-india-express'\n",
            " 'air-koryo' 'air-labrador' 'air-macau' 'air-madagascar' 'air-malta'\n",
            " 'air-mauritius' 'air-mediterranee' 'air-moldova' 'air-namibia'\n",
            " 'air-new-zealand' 'air-niugini' 'air-nostrum' 'air-serbia'\n",
            " 'air-seychelles' 'air-tahiti-nui' 'air-transat' 'air-vanuata'\n",
            " 'air-zimbabwe' 'airasia' 'airasia-x' 'airasia-zest' 'airbaltic'\n",
            " 'air-blue' 'aircalin' 'airnorth' 'alaska-airlines' 'alitalia'\n",
            " 'allegiant-air' 'american-airlines' 'american-eagle'\n",
            " 'ana-all-nippon-airways' 'anadolujet' 'arik-air' 'arkefly'\n",
            " 'arkia-israeli' 'asiana-airlines' 'asky-airlines' 'atlantic-airways'\n",
            " 'atlasjet-airlines' 'austrian-airlines' 'avianca' 'avianca-brasil'\n",
            " 'aerogal-aerolineas-galapagos' 'azerbaijan-airlines'\n",
            " 'azul-linhas-aereas-brasileiras' 'bangkok-airways'\n",
            " 'beijing-capital-airlines' 'berjaya-air' 'bhutan-airlines'\n",
            " 'biman-bangladesh' 'binter-canarias' 'blue-air' 'blue1'\n",
            " 'bmi-british-midland-international' 'bmi-regional' 'boliviana-de-aviacin'\n",
            " 'british-airways' 'brussels-airlines' 'buddha-air' 'bulgaria-air'\n",
            " 'cambodia-angkor-airlines' 'canjet-airlines' 'cape-air'\n",
            " 'caribbean-airlines' 'cathay-pacific-airways' 'cayman-airways'\n",
            " 'cebu-pacific' 'china-airlines' 'china-eastern-airlines'\n",
            " 'china-southern-airlines' 'china-united-airlines' 'cityjet'\n",
            " 'condor-airlines' 'continental-airlines' 'copa-airlines'\n",
            " 'corendon-airlines' 'corsair' 'croatia-airlines' 'csa-czech-airlines'\n",
            " 'cubana-airlines' 'danish-air' 'darwin' 'delta-air-lines' 'dragonair'\n",
            " 'druk-air' 'eastarjet' 'eastern-airways' 'easyjet' 'edelweiss-air'\n",
            " 'egyptair' 'el-al-israel-airlines' 'emirates' 'estonian-air'\n",
            " 'ethiopian-airlines' 'etihad-airways' 'europe-airpost' 'eurowings'\n",
            " 'eva-air' 'fiji-airways' 'finnair' 'firefly' 'fly540-com' 'flybe'\n",
            " 'flydubai' 'free-bird' 'frontier-airlines' 'garuda-indonesia'\n",
            " 'georgian-airways' 'germanwings' 'goair' 'gol' 'gulf-air'\n",
            " 'hainan-airlines' 'hawaiian-airlines' 'hong-kong' 'hong-kong-airlines'\n",
            " 'iberia' 'icelandair' 'indigo-airlines' 'interjet' 'intersky' 'iran-air'\n",
            " 'iran-aseman' 'island' 'israir-airlines' 'japan-airlines' 'jazz'\n",
            " 'jeju-air' 'jet-airways' 'jet2-com' 'jetairfly' 'jetblue-airways'\n",
            " 'jetstar-airways' 'jetstar-asia' 'jetstar-pacific' 'jin-air'\n",
            " 'juneyao-airlines' 'kenya-airways' 'kish-air' 'klm-royal-dutch-airlines'\n",
            " 'korean-air' 'kuwait-airways' 'la-compagnie' 'lan-airlines'\n",
            " 'lan-colombia' 'lao-airlines' 'liat' 'lion-air' 'loch-lomond-seaplanes'\n",
            " 'lot-polish-airlines' 'lucky-air' 'lufthansa' 'luxair' 'mahan-air'\n",
            " 'malaysia-airlines' 'malindo-air' 'malm-aviation' 'mango' 'meridiana'\n",
            " 'miat-mongolian' 'mea-middle-east-airlines' 'mokulele-airlines'\n",
            " 'monarch-airlines' 'montenegro-airlines' 'myanmar-airways'\n",
            " 'nepal-airlines' 'nextjet' 'niki' 'nok-air' 'norwegian' 'okay-airways'\n",
            " 'olympic-air' 'oman-air' 'onur-air' 'openskies' 'orient-thai'\n",
            " 'pia-pakistan-international-airlines' 'pal-express' 'peach-aviation'\n",
            " 'pegasus-airlines' 'peruvian-airlines' 'philippine-airlines'\n",
            " 'porter-airlines' 'precision' 'qantas-airways' 'qantaslink'\n",
            " 'qatar-airways' 'regional-express' 'rossiya-airlines' 'royal-air-maroc'\n",
            " 'royal-brunei-airlines' 'royal-jordanian-airlines' 'rwandair' 'ryanair'\n",
            " 's7-siberia-airlines' 'sa-express' 'santa-barbara'\n",
            " 'sas-scandinavian-airlines' 'sata-air-azores' 'sata-internacional'\n",
            " 'saudi-arabian-airlines' 'scoot' 'shaheen-air' 'shandong-airlines'\n",
            " 'shanghai-airlines' 'shenzhen-airlines' 'sichuan-airlines' 'silkair'\n",
            " 'singapore-airlines' 'sky-airline' 'skymark-airlines' 'skywest-airlines'\n",
            " 'small-planet-airlines-uab' 'smartwings' 'solomon-airlines' 'somon-air'\n",
            " 'south-african-airways' 'southwest-airlines' 'spicejet' 'spirit-airlines'\n",
            " 'spring' 'srilankan-airlines' 'sriwijaya-air' 'star-per' 'starflyer'\n",
            " 'sun-country-airlines' 'sunwing-airlines' 'swiss-international-air-lines'\n",
            " 'taag-angola-airlines' 'taca' 'tacv-cabo' 'tam-airlines' 'tame'\n",
            " 'tap-portugal' 'tarom-romanian-airlines' 'thai-airways'\n",
            " 'thomas-cook-airlines' 'thomas-cook-belgium-airlines-customer'\n",
            " 'thomson-airways' 'tianjin-airlines' 'tigerair' 'transaero-airlines'\n",
            " 'transavia' 'tuifly' 'tunisair' 'turkish-airlines'\n",
            " 'turkmenistan-airlines' 'ukraine-international-airlines'\n",
            " 'united-airlines' 'us-airways' 'utair-aviation' 'uzbekistan-airways'\n",
            " 'vietjetair' 'vietnam-airlines' 'virgin-america'\n",
            " 'virgin-atlantic-airways' 'virgin-australia' 'volaris' 'volotea'\n",
            " 'vueling-airlines' 'westjet' 'wideroe' 'wizz-air' 'wow-air'\n",
            " 'xiamen-airlines' 'xl-airways-france' 'yangon-airways']\n",
            "['D Ito' 'Ron Kuhlmann' 'E Albin' ... 'C Forestier-Walker' 'M Bacon'\n",
            " 'J Monro']\n",
            "['Germany' 'United States' 'Switzerland' 'Singapore' 'Poland' 'France'\n",
            " 'Slovenia' 'Turkey' 'Malaysia' 'Canada' 'Greece' 'United Kingdom'\n",
            " 'Sweden' 'Belgium' 'Australia' 'Egypt' 'Israel' 'Ireland' 'Cyprus'\n",
            " 'Spain' 'China' 'Slovakia' 'New Zealand' 'Czech Republic' 'India'\n",
            " 'Netherlands' 'Russian Federation' 'Italy' 'Hungary' 'Argentina'\n",
            " 'Romania' 'Ukraine' 'Denmark' 'Bermuda' 'Thailand' 'Chile' 'Brazil'\n",
            " 'Mexico' 'Iran' 'Colombia' 'Philippines' 'Hong Kong' 'Latvia' 'Lithuania'\n",
            " 'Austria' 'Japan' 'Peru' 'Norway' 'United Arab Emirates' 'Saudi Arabia'\n",
            " 'Costa Rica' 'Trinidad & Tobago' 'Bahamas' 'Kazakhstan' 'Uzbekistan'\n",
            " 'Bulgaria' 'Croatia' 'Serbia' 'Finland' 'South Africa' 'Botswana'\n",
            " 'Portugal' 'Estonia' 'Qatar' 'Brunei' 'Bahrain' 'Taiwan' 'Iceland'\n",
            " 'Kuwait' 'Vietnam' 'South Korea' 'Indonesia' 'Cayman Islands' 'Barbados'\n",
            " 'Bhutan' 'Macau' 'Cambodia' 'Venezuela' 'Jamaica' 'Sri Lanka' 'Lebanon'\n",
            " 'Malta' 'Mauritius' 'Namibia' 'Rwanda' 'Papua New Guinea' 'Luxembourg'\n",
            " 'Montenegro' 'Tanzania' 'New Caledonia' 'Vanuatu' 'Andorra' 'Pakistan'\n",
            " 'Myanmar' 'Albania' 'Palestinian Territories' 'Jordan'\n",
            " 'Dominican Republic' 'Ghana' 'Nigeria' 'Kenya' 'Bolivia' 'Panama'\n",
            " 'Bangladesh' 'Azerbaijan' 'Ecuador' 'Moldova' 'Ethiopia' 'Monaco'\n",
            " 'Guatemala' 'Oman' 'Guam' 'Zambia' 'Puerto Rico' 'Zimbabwe' 'Tunisia'\n",
            " 'Cuba' 'Honduras' 'Nepal' 'Angola' 'Uganda' 'Malawi' 'Mali' 'Fiji'\n",
            " 'South Sudan' 'Armenia' 'British Virgin Islands'\n",
            " 'Democratic Republic of the Congo' 'Paraguay' 'Uruguay' 'Dominica'\n",
            " 'Georgia' 'Lesotho' 'Belarus' 'East Timor' 'Morocco' 'Laos' 'Seychelles'\n",
            " 'Benin' 'Mauritania' 'Mozambique' 'Macedonia']\n",
            "['Economy' 'Business Class' 'Premium Economy' 'First Class']\n",
            "[ 7. 10.  9.  8.  4.  5.  2.  3.  1.  6.]\n",
            "[4. 5. 3. 2. 1. 0.]\n",
            "[4. 5. 2. 3. 1. 0.]\n",
            "[4. 3. 1. 5. 2. 0.]\n",
            "[0. 1. 2. 3. 4. 5.]\n",
            "[4. 5. 2. 3. 1. 0.]\n",
            "[1 0]\n",
            "['4.2015' '1.2015' '9.2014' '6.2014' '5.2014' '1.2014' '10.2013' '8.2013'\n",
            " '6.2013' '5.2013' '10.2012' '7.2015' '6.2015' '5.2015' '3.2015' '2.2015'\n",
            " '12.2014' '11.2014' '10.2014' '8.2014' '7.2014' '4.2014' '3.2014'\n",
            " '2.2014' '12.2013' '11.2013' '9.2013' '7.2013' '8.2012' '2.2012'\n",
            " '10.2011' '4.2013' '3.2013' '2.2013' '1.2013' '12.2012' '9.2012'\n",
            " '11.2012' '7.2012' '6.2012' '5.2012' '4.2012' '3.2012' '1.2012' '12.2011'\n",
            " '11.2011' '8.2015']\n"
          ]
        }
      ]
    },
    {
      "cell_type": "code",
      "source": [
        "data.shape"
      ],
      "metadata": {
        "colab": {
          "base_uri": "https://localhost:8080/"
        },
        "id": "zMWmPwqrk8bl",
        "outputId": "1943077f-4297-4d17-88c5-d81723ad16c6"
      },
      "execution_count": 151,
      "outputs": [
        {
          "output_type": "execute_result",
          "data": {
            "text/plain": [
              "(27283, 12)"
            ]
          },
          "metadata": {},
          "execution_count": 151
        }
      ]
    },
    {
      "cell_type": "code",
      "source": [
        "data.describe()"
      ],
      "metadata": {
        "colab": {
          "base_uri": "https://localhost:8080/",
          "height": 300
        },
        "id": "kfcdqjfEmD1o",
        "outputId": "f4034b1a-6424-471e-892e-c9d0074724df"
      },
      "execution_count": 152,
      "outputs": [
        {
          "output_type": "execute_result",
          "data": {
            "text/plain": [
              "       overall_rating  seat_comfort_rating  cabin_staff_rating  \\\n",
              "count    27283.000000         27283.000000        27283.000000   \n",
              "mean         6.067954             3.259539            3.522890   \n",
              "std          3.216101             1.351706            1.460052   \n",
              "min          1.000000             0.000000            0.000000   \n",
              "25%          3.000000             2.000000            2.000000   \n",
              "50%          7.000000             4.000000            4.000000   \n",
              "75%          9.000000             4.000000            5.000000   \n",
              "max         10.000000             5.000000            5.000000   \n",
              "\n",
              "       food_beverages_rating  inflight_entertainment_rating  \\\n",
              "count           27283.000000                   27283.000000   \n",
              "mean                3.016420                       2.553128   \n",
              "std                 1.515076                       1.696036   \n",
              "min                 0.000000                       0.000000   \n",
              "25%                 2.000000                       1.000000   \n",
              "50%                 3.000000                       3.000000   \n",
              "75%                 4.000000                       4.000000   \n",
              "max                 5.000000                       5.000000   \n",
              "\n",
              "       value_money_rating   recommended  \n",
              "count        27283.000000  27283.000000  \n",
              "mean             3.411465      0.603893  \n",
              "std              1.440928      0.489096  \n",
              "min              0.000000      0.000000  \n",
              "25%              2.000000      0.000000  \n",
              "50%              4.000000      1.000000  \n",
              "75%              5.000000      1.000000  \n",
              "max              5.000000      1.000000  "
            ],
            "text/html": [
              "\n",
              "  <div id=\"df-ee03140d-aea4-4c86-b57e-631252a52fd6\">\n",
              "    <div class=\"colab-df-container\">\n",
              "      <div>\n",
              "<style scoped>\n",
              "    .dataframe tbody tr th:only-of-type {\n",
              "        vertical-align: middle;\n",
              "    }\n",
              "\n",
              "    .dataframe tbody tr th {\n",
              "        vertical-align: top;\n",
              "    }\n",
              "\n",
              "    .dataframe thead th {\n",
              "        text-align: right;\n",
              "    }\n",
              "</style>\n",
              "<table border=\"1\" class=\"dataframe\">\n",
              "  <thead>\n",
              "    <tr style=\"text-align: right;\">\n",
              "      <th></th>\n",
              "      <th>overall_rating</th>\n",
              "      <th>seat_comfort_rating</th>\n",
              "      <th>cabin_staff_rating</th>\n",
              "      <th>food_beverages_rating</th>\n",
              "      <th>inflight_entertainment_rating</th>\n",
              "      <th>value_money_rating</th>\n",
              "      <th>recommended</th>\n",
              "    </tr>\n",
              "  </thead>\n",
              "  <tbody>\n",
              "    <tr>\n",
              "      <th>count</th>\n",
              "      <td>27283.000000</td>\n",
              "      <td>27283.000000</td>\n",
              "      <td>27283.000000</td>\n",
              "      <td>27283.000000</td>\n",
              "      <td>27283.000000</td>\n",
              "      <td>27283.000000</td>\n",
              "      <td>27283.000000</td>\n",
              "    </tr>\n",
              "    <tr>\n",
              "      <th>mean</th>\n",
              "      <td>6.067954</td>\n",
              "      <td>3.259539</td>\n",
              "      <td>3.522890</td>\n",
              "      <td>3.016420</td>\n",
              "      <td>2.553128</td>\n",
              "      <td>3.411465</td>\n",
              "      <td>0.603893</td>\n",
              "    </tr>\n",
              "    <tr>\n",
              "      <th>std</th>\n",
              "      <td>3.216101</td>\n",
              "      <td>1.351706</td>\n",
              "      <td>1.460052</td>\n",
              "      <td>1.515076</td>\n",
              "      <td>1.696036</td>\n",
              "      <td>1.440928</td>\n",
              "      <td>0.489096</td>\n",
              "    </tr>\n",
              "    <tr>\n",
              "      <th>min</th>\n",
              "      <td>1.000000</td>\n",
              "      <td>0.000000</td>\n",
              "      <td>0.000000</td>\n",
              "      <td>0.000000</td>\n",
              "      <td>0.000000</td>\n",
              "      <td>0.000000</td>\n",
              "      <td>0.000000</td>\n",
              "    </tr>\n",
              "    <tr>\n",
              "      <th>25%</th>\n",
              "      <td>3.000000</td>\n",
              "      <td>2.000000</td>\n",
              "      <td>2.000000</td>\n",
              "      <td>2.000000</td>\n",
              "      <td>1.000000</td>\n",
              "      <td>2.000000</td>\n",
              "      <td>0.000000</td>\n",
              "    </tr>\n",
              "    <tr>\n",
              "      <th>50%</th>\n",
              "      <td>7.000000</td>\n",
              "      <td>4.000000</td>\n",
              "      <td>4.000000</td>\n",
              "      <td>3.000000</td>\n",
              "      <td>3.000000</td>\n",
              "      <td>4.000000</td>\n",
              "      <td>1.000000</td>\n",
              "    </tr>\n",
              "    <tr>\n",
              "      <th>75%</th>\n",
              "      <td>9.000000</td>\n",
              "      <td>4.000000</td>\n",
              "      <td>5.000000</td>\n",
              "      <td>4.000000</td>\n",
              "      <td>4.000000</td>\n",
              "      <td>5.000000</td>\n",
              "      <td>1.000000</td>\n",
              "    </tr>\n",
              "    <tr>\n",
              "      <th>max</th>\n",
              "      <td>10.000000</td>\n",
              "      <td>5.000000</td>\n",
              "      <td>5.000000</td>\n",
              "      <td>5.000000</td>\n",
              "      <td>5.000000</td>\n",
              "      <td>5.000000</td>\n",
              "      <td>1.000000</td>\n",
              "    </tr>\n",
              "  </tbody>\n",
              "</table>\n",
              "</div>\n",
              "      <button class=\"colab-df-convert\" onclick=\"convertToInteractive('df-ee03140d-aea4-4c86-b57e-631252a52fd6')\"\n",
              "              title=\"Convert this dataframe to an interactive table.\"\n",
              "              style=\"display:none;\">\n",
              "        \n",
              "  <svg xmlns=\"http://www.w3.org/2000/svg\" height=\"24px\"viewBox=\"0 0 24 24\"\n",
              "       width=\"24px\">\n",
              "    <path d=\"M0 0h24v24H0V0z\" fill=\"none\"/>\n",
              "    <path d=\"M18.56 5.44l.94 2.06.94-2.06 2.06-.94-2.06-.94-.94-2.06-.94 2.06-2.06.94zm-11 1L8.5 8.5l.94-2.06 2.06-.94-2.06-.94L8.5 2.5l-.94 2.06-2.06.94zm10 10l.94 2.06.94-2.06 2.06-.94-2.06-.94-.94-2.06-.94 2.06-2.06.94z\"/><path d=\"M17.41 7.96l-1.37-1.37c-.4-.4-.92-.59-1.43-.59-.52 0-1.04.2-1.43.59L10.3 9.45l-7.72 7.72c-.78.78-.78 2.05 0 2.83L4 21.41c.39.39.9.59 1.41.59.51 0 1.02-.2 1.41-.59l7.78-7.78 2.81-2.81c.8-.78.8-2.07 0-2.86zM5.41 20L4 18.59l7.72-7.72 1.47 1.35L5.41 20z\"/>\n",
              "  </svg>\n",
              "      </button>\n",
              "      \n",
              "  <style>\n",
              "    .colab-df-container {\n",
              "      display:flex;\n",
              "      flex-wrap:wrap;\n",
              "      gap: 12px;\n",
              "    }\n",
              "\n",
              "    .colab-df-convert {\n",
              "      background-color: #E8F0FE;\n",
              "      border: none;\n",
              "      border-radius: 50%;\n",
              "      cursor: pointer;\n",
              "      display: none;\n",
              "      fill: #1967D2;\n",
              "      height: 32px;\n",
              "      padding: 0 0 0 0;\n",
              "      width: 32px;\n",
              "    }\n",
              "\n",
              "    .colab-df-convert:hover {\n",
              "      background-color: #E2EBFA;\n",
              "      box-shadow: 0px 1px 2px rgba(60, 64, 67, 0.3), 0px 1px 3px 1px rgba(60, 64, 67, 0.15);\n",
              "      fill: #174EA6;\n",
              "    }\n",
              "\n",
              "    [theme=dark] .colab-df-convert {\n",
              "      background-color: #3B4455;\n",
              "      fill: #D2E3FC;\n",
              "    }\n",
              "\n",
              "    [theme=dark] .colab-df-convert:hover {\n",
              "      background-color: #434B5C;\n",
              "      box-shadow: 0px 1px 3px 1px rgba(0, 0, 0, 0.15);\n",
              "      filter: drop-shadow(0px 1px 2px rgba(0, 0, 0, 0.3));\n",
              "      fill: #FFFFFF;\n",
              "    }\n",
              "  </style>\n",
              "\n",
              "      <script>\n",
              "        const buttonEl =\n",
              "          document.querySelector('#df-ee03140d-aea4-4c86-b57e-631252a52fd6 button.colab-df-convert');\n",
              "        buttonEl.style.display =\n",
              "          google.colab.kernel.accessAllowed ? 'block' : 'none';\n",
              "\n",
              "        async function convertToInteractive(key) {\n",
              "          const element = document.querySelector('#df-ee03140d-aea4-4c86-b57e-631252a52fd6');\n",
              "          const dataTable =\n",
              "            await google.colab.kernel.invokeFunction('convertToInteractive',\n",
              "                                                     [key], {});\n",
              "          if (!dataTable) return;\n",
              "\n",
              "          const docLinkHtml = 'Like what you see? Visit the ' +\n",
              "            '<a target=\"_blank\" href=https://colab.research.google.com/notebooks/data_table.ipynb>data table notebook</a>'\n",
              "            + ' to learn more about interactive tables.';\n",
              "          element.innerHTML = '';\n",
              "          dataTable['output_type'] = 'display_data';\n",
              "          await google.colab.output.renderOutput(dataTable, element);\n",
              "          const docLink = document.createElement('div');\n",
              "          docLink.innerHTML = docLinkHtml;\n",
              "          element.appendChild(docLink);\n",
              "        }\n",
              "      </script>\n",
              "    </div>\n",
              "  </div>\n",
              "  "
            ]
          },
          "metadata": {},
          "execution_count": 152
        }
      ]
    },
    {
      "cell_type": "code",
      "source": [
        "data.isnull().sum()"
      ],
      "metadata": {
        "colab": {
          "base_uri": "https://localhost:8080/"
        },
        "id": "QQ08RAq2mDsU",
        "outputId": "7e61a7ba-e596-467b-e5bf-829a02f7c6f7"
      },
      "execution_count": 153,
      "outputs": [
        {
          "output_type": "execute_result",
          "data": {
            "text/plain": [
              "airline_name                     0\n",
              "author                           0\n",
              "author_country                   0\n",
              "cabin_flown                      0\n",
              "overall_rating                   0\n",
              "seat_comfort_rating              0\n",
              "cabin_staff_rating               0\n",
              "food_beverages_rating            0\n",
              "inflight_entertainment_rating    0\n",
              "value_money_rating               0\n",
              "recommended                      0\n",
              "date                             0\n",
              "dtype: int64"
            ]
          },
          "metadata": {},
          "execution_count": 153
        }
      ]
    },
    {
      "cell_type": "markdown",
      "source": [
        "As we can see above, there are no missing values in the columns. "
      ],
      "metadata": {
        "id": "2WaZ58bHnyyv"
      }
    },
    {
      "cell_type": "code",
      "source": [
        "data.info()"
      ],
      "metadata": {
        "colab": {
          "base_uri": "https://localhost:8080/"
        },
        "id": "_e72PYfTmPm0",
        "outputId": "a0cf575b-5375-4f42-b84e-112c06e19974"
      },
      "execution_count": 431,
      "outputs": [
        {
          "output_type": "stream",
          "name": "stdout",
          "text": [
            "<class 'pandas.core.frame.DataFrame'>\n",
            "Int64Index: 27283 entries, 0 to 41217\n",
            "Data columns (total 12 columns):\n",
            " #   Column                         Non-Null Count  Dtype  \n",
            "---  ------                         --------------  -----  \n",
            " 0   airline_name                   27283 non-null  object \n",
            " 1   author                         27283 non-null  object \n",
            " 2   author_country                 27283 non-null  object \n",
            " 3   cabin_flown                    27283 non-null  object \n",
            " 4   overall_rating                 27283 non-null  float64\n",
            " 5   seat_comfort_rating            27283 non-null  float64\n",
            " 6   cabin_staff_rating             27283 non-null  float64\n",
            " 7   food_beverages_rating          27283 non-null  float64\n",
            " 8   inflight_entertainment_rating  27283 non-null  float64\n",
            " 9   value_money_rating             27283 non-null  float64\n",
            " 10  recommended                    27283 non-null  int64  \n",
            " 11  date                           27283 non-null  object \n",
            "dtypes: float64(6), int64(1), object(5)\n",
            "memory usage: 2.7+ MB\n"
          ]
        }
      ]
    },
    {
      "cell_type": "code",
      "source": [
        "data.head(2)"
      ],
      "metadata": {
        "colab": {
          "base_uri": "https://localhost:8080/",
          "height": 193
        },
        "id": "QG4X_F6MjwtY",
        "outputId": "f9e5e9ba-51d4-43fb-fe48-25a1b227a235"
      },
      "execution_count": 155,
      "outputs": [
        {
          "output_type": "execute_result",
          "data": {
            "text/plain": [
              "    airline_name        author author_country     cabin_flown  overall_rating  \\\n",
              "0  adria-airways         D Ito        Germany         Economy             7.0   \n",
              "1  adria-airways  Ron Kuhlmann  United States  Business Class            10.0   \n",
              "\n",
              "   seat_comfort_rating  cabin_staff_rating  food_beverages_rating  \\\n",
              "0                  4.0                 4.0                    4.0   \n",
              "1                  4.0                 5.0                    4.0   \n",
              "\n",
              "   inflight_entertainment_rating  value_money_rating  recommended    date  \n",
              "0                            0.0                 4.0            1  4.2015  \n",
              "1                            1.0                 5.0            1  1.2015  "
            ],
            "text/html": [
              "\n",
              "  <div id=\"df-49954fd4-6627-4fe8-a867-e6556e5be897\">\n",
              "    <div class=\"colab-df-container\">\n",
              "      <div>\n",
              "<style scoped>\n",
              "    .dataframe tbody tr th:only-of-type {\n",
              "        vertical-align: middle;\n",
              "    }\n",
              "\n",
              "    .dataframe tbody tr th {\n",
              "        vertical-align: top;\n",
              "    }\n",
              "\n",
              "    .dataframe thead th {\n",
              "        text-align: right;\n",
              "    }\n",
              "</style>\n",
              "<table border=\"1\" class=\"dataframe\">\n",
              "  <thead>\n",
              "    <tr style=\"text-align: right;\">\n",
              "      <th></th>\n",
              "      <th>airline_name</th>\n",
              "      <th>author</th>\n",
              "      <th>author_country</th>\n",
              "      <th>cabin_flown</th>\n",
              "      <th>overall_rating</th>\n",
              "      <th>seat_comfort_rating</th>\n",
              "      <th>cabin_staff_rating</th>\n",
              "      <th>food_beverages_rating</th>\n",
              "      <th>inflight_entertainment_rating</th>\n",
              "      <th>value_money_rating</th>\n",
              "      <th>recommended</th>\n",
              "      <th>date</th>\n",
              "    </tr>\n",
              "  </thead>\n",
              "  <tbody>\n",
              "    <tr>\n",
              "      <th>0</th>\n",
              "      <td>adria-airways</td>\n",
              "      <td>D Ito</td>\n",
              "      <td>Germany</td>\n",
              "      <td>Economy</td>\n",
              "      <td>7.0</td>\n",
              "      <td>4.0</td>\n",
              "      <td>4.0</td>\n",
              "      <td>4.0</td>\n",
              "      <td>0.0</td>\n",
              "      <td>4.0</td>\n",
              "      <td>1</td>\n",
              "      <td>4.2015</td>\n",
              "    </tr>\n",
              "    <tr>\n",
              "      <th>1</th>\n",
              "      <td>adria-airways</td>\n",
              "      <td>Ron Kuhlmann</td>\n",
              "      <td>United States</td>\n",
              "      <td>Business Class</td>\n",
              "      <td>10.0</td>\n",
              "      <td>4.0</td>\n",
              "      <td>5.0</td>\n",
              "      <td>4.0</td>\n",
              "      <td>1.0</td>\n",
              "      <td>5.0</td>\n",
              "      <td>1</td>\n",
              "      <td>1.2015</td>\n",
              "    </tr>\n",
              "  </tbody>\n",
              "</table>\n",
              "</div>\n",
              "      <button class=\"colab-df-convert\" onclick=\"convertToInteractive('df-49954fd4-6627-4fe8-a867-e6556e5be897')\"\n",
              "              title=\"Convert this dataframe to an interactive table.\"\n",
              "              style=\"display:none;\">\n",
              "        \n",
              "  <svg xmlns=\"http://www.w3.org/2000/svg\" height=\"24px\"viewBox=\"0 0 24 24\"\n",
              "       width=\"24px\">\n",
              "    <path d=\"M0 0h24v24H0V0z\" fill=\"none\"/>\n",
              "    <path d=\"M18.56 5.44l.94 2.06.94-2.06 2.06-.94-2.06-.94-.94-2.06-.94 2.06-2.06.94zm-11 1L8.5 8.5l.94-2.06 2.06-.94-2.06-.94L8.5 2.5l-.94 2.06-2.06.94zm10 10l.94 2.06.94-2.06 2.06-.94-2.06-.94-.94-2.06-.94 2.06-2.06.94z\"/><path d=\"M17.41 7.96l-1.37-1.37c-.4-.4-.92-.59-1.43-.59-.52 0-1.04.2-1.43.59L10.3 9.45l-7.72 7.72c-.78.78-.78 2.05 0 2.83L4 21.41c.39.39.9.59 1.41.59.51 0 1.02-.2 1.41-.59l7.78-7.78 2.81-2.81c.8-.78.8-2.07 0-2.86zM5.41 20L4 18.59l7.72-7.72 1.47 1.35L5.41 20z\"/>\n",
              "  </svg>\n",
              "      </button>\n",
              "      \n",
              "  <style>\n",
              "    .colab-df-container {\n",
              "      display:flex;\n",
              "      flex-wrap:wrap;\n",
              "      gap: 12px;\n",
              "    }\n",
              "\n",
              "    .colab-df-convert {\n",
              "      background-color: #E8F0FE;\n",
              "      border: none;\n",
              "      border-radius: 50%;\n",
              "      cursor: pointer;\n",
              "      display: none;\n",
              "      fill: #1967D2;\n",
              "      height: 32px;\n",
              "      padding: 0 0 0 0;\n",
              "      width: 32px;\n",
              "    }\n",
              "\n",
              "    .colab-df-convert:hover {\n",
              "      background-color: #E2EBFA;\n",
              "      box-shadow: 0px 1px 2px rgba(60, 64, 67, 0.3), 0px 1px 3px 1px rgba(60, 64, 67, 0.15);\n",
              "      fill: #174EA6;\n",
              "    }\n",
              "\n",
              "    [theme=dark] .colab-df-convert {\n",
              "      background-color: #3B4455;\n",
              "      fill: #D2E3FC;\n",
              "    }\n",
              "\n",
              "    [theme=dark] .colab-df-convert:hover {\n",
              "      background-color: #434B5C;\n",
              "      box-shadow: 0px 1px 3px 1px rgba(0, 0, 0, 0.15);\n",
              "      filter: drop-shadow(0px 1px 2px rgba(0, 0, 0, 0.3));\n",
              "      fill: #FFFFFF;\n",
              "    }\n",
              "  </style>\n",
              "\n",
              "      <script>\n",
              "        const buttonEl =\n",
              "          document.querySelector('#df-49954fd4-6627-4fe8-a867-e6556e5be897 button.colab-df-convert');\n",
              "        buttonEl.style.display =\n",
              "          google.colab.kernel.accessAllowed ? 'block' : 'none';\n",
              "\n",
              "        async function convertToInteractive(key) {\n",
              "          const element = document.querySelector('#df-49954fd4-6627-4fe8-a867-e6556e5be897');\n",
              "          const dataTable =\n",
              "            await google.colab.kernel.invokeFunction('convertToInteractive',\n",
              "                                                     [key], {});\n",
              "          if (!dataTable) return;\n",
              "\n",
              "          const docLinkHtml = 'Like what you see? Visit the ' +\n",
              "            '<a target=\"_blank\" href=https://colab.research.google.com/notebooks/data_table.ipynb>data table notebook</a>'\n",
              "            + ' to learn more about interactive tables.';\n",
              "          element.innerHTML = '';\n",
              "          dataTable['output_type'] = 'display_data';\n",
              "          await google.colab.output.renderOutput(dataTable, element);\n",
              "          const docLink = document.createElement('div');\n",
              "          docLink.innerHTML = docLinkHtml;\n",
              "          element.appendChild(docLink);\n",
              "        }\n",
              "      </script>\n",
              "    </div>\n",
              "  </div>\n",
              "  "
            ]
          },
          "metadata": {},
          "execution_count": 155
        }
      ]
    },
    {
      "cell_type": "code",
      "source": [
        "data['recommended'].hist()"
      ],
      "metadata": {
        "colab": {
          "base_uri": "https://localhost:8080/",
          "height": 282
        },
        "id": "KakfE4XylBm1",
        "outputId": "8b2b63af-9912-4a2e-a341-bf4a804a512d"
      },
      "execution_count": 156,
      "outputs": [
        {
          "output_type": "execute_result",
          "data": {
            "text/plain": [
              "<matplotlib.axes._subplots.AxesSubplot at 0x7f81d5cc5940>"
            ]
          },
          "metadata": {},
          "execution_count": 156
        },
        {
          "output_type": "display_data",
          "data": {
            "text/plain": [
              "<Figure size 432x288 with 1 Axes>"
            ],
            "image/png": "[encoded data removed]"
          },
          "metadata": {
            "needs_background": "light"
          }
        }
      ]
    },
    {
      "cell_type": "code",
      "source": [
        "sns.heatmap(data.corr(),annot=True)"
      ],
      "metadata": {
        "colab": {
          "base_uri": "https://localhost:8080/",
          "height": 423
        },
        "id": "FdVoh0keluDh",
        "outputId": "8258b4f1-7b52-4a31-869c-a354684b484e"
      },
      "execution_count": 157,
      "outputs": [
        {
          "output_type": "execute_result",
          "data": {
            "text/plain": [
              "<matplotlib.axes._subplots.AxesSubplot at 0x7f81cd0305b0>"
            ]
          },
          "metadata": {},
          "execution_count": 157
        },
        {
          "output_type": "display_data",
          "data": {
            "text/plain": [
              "<Figure size 432x288 with 2 Axes>"
            ],
            "image/png": "[encoded data removed]"
          },
          "metadata": {
            "needs_background": "light"
          }
        }
      ]
    },
    {
      "cell_type": "code",
      "source": [
        "# Let's calculate the percentage of each job status category.\n",
        "data.overall_rating.value_counts(normalize=True)\n",
        "\n",
        "#plot the bar graph of percentage job categories\n",
        "data.overall_rating.value_counts(normalize=True).plot.barh()\n",
        "plt.show()"
      ],
      "metadata": {
        "colab": {
          "base_uri": "https://localhost:8080/",
          "height": 265
        },
        "id": "XxpfgqPXl5pg",
        "outputId": "9482b45c-c334-400e-e198-40256f612e0c"
      },
      "execution_count": 158,
      "outputs": [
        {
          "output_type": "display_data",
          "data": {
            "text/plain": [
              "<Figure size 432x288 with 1 Axes>"
            ],
            "image/png": "[encoded data removed]"
          },
          "metadata": {
            "needs_background": "light"
          }
        }
      ]
    },
    {
      "cell_type": "code",
      "source": [
        "#calculate the percentage of each education category.\n",
        "data.recommended.value_counts(normalize=True)\n",
        "\n",
        "#plot the pie chart of education categories\n",
        "data.recommended.value_counts(normalize=True).plot.pie()\n",
        "plt.show()"
      ],
      "metadata": {
        "colab": {
          "base_uri": "https://localhost:8080/",
          "height": 248
        },
        "id": "TVmC1rYiqtYk",
        "outputId": "87d5664a-c651-416c-ca29-132749dd7823"
      },
      "execution_count": 159,
      "outputs": [
        {
          "output_type": "display_data",
          "data": {
            "text/plain": [
              "<Figure size 432x288 with 1 Axes>"
            ],
            "image/png": "[encoded data removed]"
          },
          "metadata": {}
        }
      ]
    },
    {
      "cell_type": "code",
      "source": [
        "data.overall_rating.describe()"
      ],
      "metadata": {
        "colab": {
          "base_uri": "https://localhost:8080/"
        },
        "id": "AFJTyy6Sq7RT",
        "outputId": "9d6124e3-b0ac-466a-c583-93f12f316578"
      },
      "execution_count": 160,
      "outputs": [
        {
          "output_type": "execute_result",
          "data": {
            "text/plain": [
              "count    27283.000000\n",
              "mean         6.067954\n",
              "std          3.216101\n",
              "min          1.000000\n",
              "25%          3.000000\n",
              "50%          7.000000\n",
              "75%          9.000000\n",
              "max         10.000000\n",
              "Name: overall_rating, dtype: float64"
            ]
          },
          "metadata": {},
          "execution_count": 160
        }
      ]
    },
    {
      "cell_type": "markdown",
      "source": [
        "#### Bivariate Analysis"
      ],
      "metadata": {
        "id": "ecXFY2-YrIqr"
      }
    },
    {
      "cell_type": "code",
      "source": [
        "#plot the scatter plot of balance and salary variable in data\n",
        "plt.scatter(data.seat_comfort_rating,data.recommended)\n",
        "plt.show()\n",
        "\n",
        "#plot the scatter plot of balance and age variable in data\n",
        "data.plot.scatter(x=\"seat_comfort_rating\",y=\"recommended\")\n",
        "plt.show()"
      ],
      "metadata": {
        "colab": {
          "base_uri": "https://localhost:8080/",
          "height": 528
        },
        "id": "WNcygePsrLij",
        "outputId": "e8511961-ded1-4520-b50d-4409fbd65057"
      },
      "execution_count": 161,
      "outputs": [
        {
          "output_type": "display_data",
          "data": {
            "text/plain": [
              "<Figure size 432x288 with 1 Axes>"
            ],
            "image/png": "[encoded data removed]"
          },
          "metadata": {
            "needs_background": "light"
          }
        },
        {
          "output_type": "display_data",
          "data": {
            "text/plain": [
              "<Figure size 432x288 with 1 Axes>"
            ],
            "image/png": "[encoded data removed]"
          },
          "metadata": {
            "needs_background": "light"
          }
        }
      ]
    },
    {
      "cell_type": "code",
      "source": [
        "# #plot the scatter plot of balance and salary variable in data\n",
        "# plt.scatter(data.airline_name, data.recommended)\n",
        "# plt.show()\n",
        "\n",
        "# #plot the scatter plot of balance and age variable in data\n",
        "# data.plot.scatter(x=\"recommended\",y=\"airline_name\")\n",
        "# plt.show()\n",
        "# Create a sample dataframe with an text index\n",
        "# Cross tabulation between GENDER and APPROVE_LOAN\n",
        "CrosstabResult=pd.crosstab(index=data['airline_name'],columns=data['recommended'])\n",
        "print(CrosstabResult)"
      ],
      "metadata": {
        "colab": {
          "base_uri": "https://localhost:8080/"
        },
        "id": "XYJLl9rwv-u5",
        "outputId": "100cbcae-f1f2-42b2-eb7d-1732f5fa2596"
      },
      "execution_count": 162,
      "outputs": [
        {
          "output_type": "stream",
          "name": "stdout",
          "text": [
            "recommended                    0    1\n",
            "airline_name                         \n",
            "adria-airways                  1   16\n",
            "aegean-airlines               37  137\n",
            "aer-lingus                    89  207\n",
            "aeroflot-russian-airlines     46  149\n",
            "aerogal-aerolineas-galapagos   0    2\n",
            "...                           ..  ...\n",
            "wizz-air                      43   68\n",
            "wow-air                        6   21\n",
            "xiamen-airlines                4    5\n",
            "xl-airways-france              4   14\n",
            "yangon-airways                 0    1\n",
            "\n",
            "[292 rows x 2 columns]\n"
          ]
        }
      ]
    },
    {
      "cell_type": "code",
      "source": [
        "\n",
        "# Grouped bar chart between GENDER and APPROVE_LOAN\n",
        "# %matplotlib inline # only needed for jupyter notebook\n",
        "CrosstabResult.plot.bar()"
      ],
      "metadata": {
        "colab": {
          "base_uri": "https://localhost:8080/",
          "height": 486
        },
        "id": "RcnzX1SN0TtT",
        "outputId": "f93616b4-fe01-4524-f700-c940f53f8cf3"
      },
      "execution_count": 163,
      "outputs": [
        {
          "output_type": "execute_result",
          "data": {
            "text/plain": [
              "<matplotlib.axes._subplots.AxesSubplot at 0x7f81ccd4feb0>"
            ]
          },
          "metadata": {},
          "execution_count": 163
        },
        {
          "output_type": "display_data",
          "data": {
            "text/plain": [
              "<Figure size 432x288 with 1 Axes>"
            ],
            "image/png": "[encoded data removed]"
          },
          "metadata": {
            "needs_background": "light"
          }
        }
      ]
    },
    {
      "cell_type": "code",
      "source": [
        "CrosstabResult=pd.crosstab(index=data['overall_rating'],columns=data['recommended'])\n",
        "print(CrosstabResult)"
      ],
      "metadata": {
        "colab": {
          "base_uri": "https://localhost:8080/"
        },
        "id": "ITGSV9Zq26_i",
        "outputId": "3c39a047-18c9-49e8-91e9-ef5f27c2cecf"
      },
      "execution_count": 164,
      "outputs": [
        {
          "output_type": "stream",
          "name": "stdout",
          "text": [
            "recommended        0     1\n",
            "overall_rating            \n",
            "1.0             3892    14\n",
            "2.0             2242    29\n",
            "3.0             1725    57\n",
            "4.0             1085   141\n",
            "5.0             1222   663\n",
            "6.0              445   924\n",
            "7.0              159  2292\n",
            "8.0               29  3903\n",
            "9.0                4  4004\n",
            "10.0               4  4449\n"
          ]
        }
      ]
    },
    {
      "cell_type": "code",
      "source": [
        "CrosstabResult.plot.bar()"
      ],
      "metadata": {
        "colab": {
          "base_uri": "https://localhost:8080/",
          "height": 309
        },
        "id": "Wp3h37sJ3BRY",
        "outputId": "48d010e9-03a6-4182-9bfe-36769002c5ee"
      },
      "execution_count": 165,
      "outputs": [
        {
          "output_type": "execute_result",
          "data": {
            "text/plain": [
              "<matplotlib.axes._subplots.AxesSubplot at 0x7f81cc807af0>"
            ]
          },
          "metadata": {},
          "execution_count": 165
        },
        {
          "output_type": "display_data",
          "data": {
            "text/plain": [
              "<Figure size 432x288 with 1 Axes>"
            ],
            "image/png": "[encoded data removed]"
          },
          "metadata": {
            "needs_background": "light"
          }
        }
      ]
    },
    {
      "cell_type": "code",
      "source": [
        "CrosstabResult=pd.crosstab(index=data['cabin_flown'],columns=data['value_money_rating'])\n",
        "print(CrosstabResult)\n"
      ],
      "metadata": {
        "colab": {
          "base_uri": "https://localhost:8080/"
        },
        "id": "c2B2tkM33sDX",
        "outputId": "d308a0fc-f09a-4b37-8302-3029975592b3"
      },
      "execution_count": 166,
      "outputs": [
        {
          "output_type": "stream",
          "name": "stdout",
          "text": [
            "value_money_rating  0.0   1.0   2.0   3.0   4.0   5.0\n",
            "cabin_flown                                          \n",
            "Business Class       42   529   521   838  1459  1940\n",
            "Economy             275  2931  2503  3538  5023  5560\n",
            "First Class           4   115    84   111   190   246\n",
            "Premium Economy       2   311   181   176   316   388\n"
          ]
        }
      ]
    },
    {
      "cell_type": "code",
      "source": [
        "CrosstabResult.plot.bar()"
      ],
      "metadata": {
        "colab": {
          "base_uri": "https://localhost:8080/",
          "height": 380
        },
        "id": "H7MUyV5w3_kK",
        "outputId": "4a8cb9bb-cf23-4614-cff5-d67a3222553e"
      },
      "execution_count": 167,
      "outputs": [
        {
          "output_type": "execute_result",
          "data": {
            "text/plain": [
              "<matplotlib.axes._subplots.AxesSubplot at 0x7f81ccd87be0>"
            ]
          },
          "metadata": {},
          "execution_count": 167
        },
        {
          "output_type": "display_data",
          "data": {
            "text/plain": [
              "<Figure size 432x288 with 1 Axes>"
            ],
            "image/png": "[encoded data removed]"
          },
          "metadata": {
            "needs_background": "light"
          }
        }
      ]
    },
    {
      "cell_type": "code",
      "source": [
        "CrosstabResult=pd.crosstab(index=data['cabin_flown'],columns=data['overall_rating'])\n",
        "print(CrosstabResult)"
      ],
      "metadata": {
        "colab": {
          "base_uri": "https://localhost:8080/"
        },
        "id": "FNeq-rze4F4_",
        "outputId": "eca67996-86bf-44e1-f43e-99b682fcfc70"
      },
      "execution_count": 168,
      "outputs": [
        {
          "output_type": "stream",
          "name": "stdout",
          "text": [
            "overall_rating   1.0   2.0   3.0   4.0   5.0   6.0   7.0   8.0   9.0   10.0\n",
            "cabin_flown                                                                \n",
            "Business Class    401   299   304   228   371   289   503   853   959  1122\n",
            "Economy          3159  1807  1353   906  1390   981  1775  2796  2732  2931\n",
            "First Class        83    55    43    33    42    29    65    94   130   176\n",
            "Premium Economy   263   110    82    59    82    70   108   189   187   224\n"
          ]
        }
      ]
    },
    {
      "cell_type": "code",
      "source": [
        "CrosstabResult.plot.bar()"
      ],
      "metadata": {
        "colab": {
          "base_uri": "https://localhost:8080/",
          "height": 380
        },
        "id": "2PJjtUDZ4Jop",
        "outputId": "20c912c9-e4b2-4429-c665-295e3df4966e"
      },
      "execution_count": 169,
      "outputs": [
        {
          "output_type": "execute_result",
          "data": {
            "text/plain": [
              "<matplotlib.axes._subplots.AxesSubplot at 0x7f81cc6e8e50>"
            ]
          },
          "metadata": {},
          "execution_count": 169
        },
        {
          "output_type": "display_data",
          "data": {
            "text/plain": [
              "<Figure size 432x288 with 1 Axes>"
            ],
            "image/png": "[encoded data removed]"
          },
          "metadata": {
            "needs_background": "light"
          }
        }
      ]
    },
    {
      "cell_type": "code",
      "source": [
        "CrosstabResult=pd.crosstab(index=data['cabin_flown'],columns=data['recommended'])\n",
        "print(CrosstabResult)"
      ],
      "metadata": {
        "colab": {
          "base_uri": "https://localhost:8080/"
        },
        "id": "e07aoNJn4WC7",
        "outputId": "f70b8700-56c2-493e-d468-71ec44c57714"
      },
      "execution_count": 170,
      "outputs": [
        {
          "output_type": "stream",
          "name": "stdout",
          "text": [
            "recommended         0      1\n",
            "cabin_flown                 \n",
            "Business Class   1555   3774\n",
            "Economy          8397  11433\n",
            "First Class       249    501\n",
            "Premium Economy   606    768\n"
          ]
        }
      ]
    },
    {
      "cell_type": "code",
      "source": [
        "CrosstabResult.plot.bar()"
      ],
      "metadata": {
        "colab": {
          "base_uri": "https://localhost:8080/",
          "height": 384
        },
        "id": "KY43jzuT4cfV",
        "outputId": "d1d86b42-2351-4c06-84a7-52d7c9a99149"
      },
      "execution_count": 171,
      "outputs": [
        {
          "output_type": "execute_result",
          "data": {
            "text/plain": [
              "<matplotlib.axes._subplots.AxesSubplot at 0x7f81cc629e80>"
            ]
          },
          "metadata": {},
          "execution_count": 171
        },
        {
          "output_type": "display_data",
          "data": {
            "text/plain": [
              "<Figure size 432x288 with 1 Axes>"
            ],
            "image/png": "[encoded data removed]"
          },
          "metadata": {
            "needs_background": "light"
          }
        }
      ]
    },
    {
      "cell_type": "code",
      "source": [
        "telecom6 = data.groupby('airline_name')['recommended'].sum()\n",
        "telecom6 = telecom6.div(telecom6.sum().astype(float)).round(2)*100\n",
        "telecom6 "
      ],
      "metadata": {
        "colab": {
          "base_uri": "https://localhost:8080/"
        },
        "id": "wohmMvYW4wqm",
        "outputId": "ec15ecdf-32b7-4ae4-b09f-3c4abc235896"
      },
      "execution_count": 172,
      "outputs": [
        {
          "output_type": "execute_result",
          "data": {
            "text/plain": [
              "airline_name\n",
              "adria-airways                   0.0\n",
              "aegean-airlines                 1.0\n",
              "aer-lingus                      1.0\n",
              "aeroflot-russian-airlines       1.0\n",
              "aerogal-aerolineas-galapagos    0.0\n",
              "                               ... \n",
              "wizz-air                        0.0\n",
              "wow-air                         0.0\n",
              "xiamen-airlines                 0.0\n",
              "xl-airways-france               0.0\n",
              "yangon-airways                  0.0\n",
              "Name: recommended, Length: 292, dtype: float64"
            ]
          },
          "metadata": {},
          "execution_count": 172
        }
      ]
    },
    {
      "cell_type": "code",
      "source": [
        "telecom6.plot.pie(colormap='brg', autopct='%1.0f%%') "
      ],
      "metadata": {
        "colab": {
          "base_uri": "https://localhost:8080/",
          "height": 265
        },
        "id": "9_X8DdaD5b7-",
        "outputId": "c8f346b0-6dcf-4f23-a048-df2afd223081"
      },
      "execution_count": 173,
      "outputs": [
        {
          "output_type": "execute_result",
          "data": {
            "text/plain": [
              "<matplotlib.axes._subplots.AxesSubplot at 0x7f81cc5b3940>"
            ]
          },
          "metadata": {},
          "execution_count": 173
        },
        {
          "output_type": "display_data",
          "data": {
            "text/plain": [
              "<Figure size 432x288 with 1 Axes>"
            ],
            "image/png": "[encoded data removed]"
          },
          "metadata": {}
        }
      ]
    },
    {
      "cell_type": "code",
      "source": [
        "#plot the pair plot of salary, balance and age in data dataframe.\n",
        "sns.pairplot(data = data, vars=['seat_comfort_rating','cabin_staff_rating','food_beverages_rating'])\n",
        "plt.show()"
      ],
      "metadata": {
        "colab": {
          "base_uri": "https://localhost:8080/",
          "height": 550
        },
        "id": "Y90xKo4XsGwo",
        "outputId": "d67ee9ab-e80d-40e6-d845-09e08fa8368e"
      },
      "execution_count": 174,
      "outputs": [
        {
          "output_type": "display_data",
          "data": {
            "text/plain": [
              "<Figure size 540x540 with 12 Axes>"
            ],
            "image/png": "[encoded data removed]"
          },
          "metadata": {
            "needs_background": "light"
          }
        }
      ]
    },
    {
      "cell_type": "code",
      "source": [
        "data.groupby('overall_rating')['recommended'].mean()"
      ],
      "metadata": {
        "colab": {
          "base_uri": "https://localhost:8080/"
        },
        "id": "hCHbbdccsp-r",
        "outputId": "46b51ee8-8f1e-47c2-c518-4757d50856d1"
      },
      "execution_count": 175,
      "outputs": [
        {
          "output_type": "execute_result",
          "data": {
            "text/plain": [
              "overall_rating\n",
              "1.0     0.003584\n",
              "2.0     0.012770\n",
              "3.0     0.031987\n",
              "4.0     0.115008\n",
              "5.0     0.351724\n",
              "6.0     0.674945\n",
              "7.0     0.935129\n",
              "8.0     0.992625\n",
              "9.0     0.999002\n",
              "10.0    0.999102\n",
              "Name: recommended, dtype: float64"
            ]
          },
          "metadata": {},
          "execution_count": 175
        }
      ]
    },
    {
      "cell_type": "code",
      "source": [
        "data.groupby('overall_rating')['recommended'].median()"
      ],
      "metadata": {
        "colab": {
          "base_uri": "https://localhost:8080/"
        },
        "id": "Tm_IwAhKs1eq",
        "outputId": "295e594e-d28d-499c-cec4-4fb020d7c40c"
      },
      "execution_count": 176,
      "outputs": [
        {
          "output_type": "execute_result",
          "data": {
            "text/plain": [
              "overall_rating\n",
              "1.0     0.0\n",
              "2.0     0.0\n",
              "3.0     0.0\n",
              "4.0     0.0\n",
              "5.0     0.0\n",
              "6.0     1.0\n",
              "7.0     1.0\n",
              "8.0     1.0\n",
              "9.0     1.0\n",
              "10.0    1.0\n",
              "Name: recommended, dtype: float64"
            ]
          },
          "metadata": {},
          "execution_count": 176
        }
      ]
    },
    {
      "cell_type": "code",
      "source": [
        "#plot the bar graph of marital status with average value of response_rate\n",
        "data.groupby('overall_rating')['recommended'].mean().plot.bar()\n",
        "plt.show()"
      ],
      "metadata": {
        "colab": {
          "base_uri": "https://localhost:8080/",
          "height": 292
        },
        "id": "RepVrkmIs9Y0",
        "outputId": "c3ada467-e946-4c77-b3c7-53f19ef1a4d8"
      },
      "execution_count": 177,
      "outputs": [
        {
          "output_type": "display_data",
          "data": {
            "text/plain": [
              "<Figure size 432x288 with 1 Axes>"
            ],
            "image/png": "[encoded data removed]"
          },
          "metadata": {
            "needs_background": "light"
          }
        }
      ]
    },
    {
      "cell_type": "code",
      "source": [
        "#plot the bar graph of marital status with average value of response_rate\n",
        "data.groupby('seat_comfort_rating')['recommended'].mean().plot.bar()\n",
        "plt.show()"
      ],
      "metadata": {
        "colab": {
          "base_uri": "https://localhost:8080/",
          "height": 290
        },
        "id": "SvVRkldLtiBJ",
        "outputId": "9fd41c85-d0fa-4751-b96d-336f8591f022"
      },
      "execution_count": 178,
      "outputs": [
        {
          "output_type": "display_data",
          "data": {
            "text/plain": [
              "<Figure size 432x288 with 1 Axes>"
            ],
            "image/png": "[encoded data removed]"
          },
          "metadata": {
            "needs_background": "light"
          }
        }
      ]
    },
    {
      "cell_type": "code",
      "source": [
        "#plot the bar graph of marital status with average value of response_rate\n",
        "data.groupby('food_beverages_rating')['recommended'].mean().plot.bar()\n",
        "plt.show()"
      ],
      "metadata": {
        "colab": {
          "base_uri": "https://localhost:8080/",
          "height": 287
        },
        "id": "a0AOSdZWtuNL",
        "outputId": "e823cc40-12fa-4c88-fb14-898a4bd204c2"
      },
      "execution_count": 179,
      "outputs": [
        {
          "output_type": "display_data",
          "data": {
            "text/plain": [
              "<Figure size 432x288 with 1 Axes>"
            ],
            "image/png": "[encoded data removed]"
          },
          "metadata": {
            "needs_background": "light"
          }
        }
      ]
    },
    {
      "cell_type": "code",
      "source": [
        "#plot the bar graph of marital status with average value of response_rate\n",
        "data.groupby('cabin_staff_rating')['recommended'].mean().plot.bar()\n",
        "plt.show()"
      ],
      "metadata": {
        "colab": {
          "base_uri": "https://localhost:8080/",
          "height": 290
        },
        "id": "R5V3YcKut4m1",
        "outputId": "a5a03387-2f2b-4fda-8c5a-2ca608f4f478"
      },
      "execution_count": 180,
      "outputs": [
        {
          "output_type": "display_data",
          "data": {
            "text/plain": [
              "<Figure size 432x288 with 1 Axes>"
            ],
            "image/png": "[encoded data removed]"
          },
          "metadata": {
            "needs_background": "light"
          }
        }
      ]
    },
    {
      "cell_type": "code",
      "source": [
        "#plot the bar graph of marital status with average value of response_rate\n",
        "data.groupby('value_money_rating')['recommended'].mean().plot.bar()\n",
        "plt.show()"
      ],
      "metadata": {
        "colab": {
          "base_uri": "https://localhost:8080/",
          "height": 286
        },
        "id": "Zuzz8p6fuX9C",
        "outputId": "4ff07ae2-5406-4fcf-8e61-616d8d43de26"
      },
      "execution_count": 181,
      "outputs": [
        {
          "output_type": "display_data",
          "data": {
            "text/plain": [
              "<Figure size 432x288 with 1 Axes>"
            ],
            "image/png": "[encoded data removed]"
          },
          "metadata": {
            "needs_background": "light"
          }
        }
      ]
    },
    {
      "cell_type": "code",
      "source": [
        "#plot the bar graph of marital status with average value of response_rate\n",
        "data.groupby('airline_name')['recommended'].mean().plot.bar()\n",
        "plt.show()"
      ],
      "metadata": {
        "colab": {
          "base_uri": "https://localhost:8080/",
          "height": 469
        },
        "id": "WPbiUyJovrdB",
        "outputId": "facfbef4-0d7d-48aa-a50c-1496a77c2bee"
      },
      "execution_count": 182,
      "outputs": [
        {
          "output_type": "display_data",
          "data": {
            "text/plain": [
              "<Figure size 432x288 with 1 Axes>"
            ],
            "image/png": "[encoded data removed]"
          },
          "metadata": {
            "needs_background": "light"
          }
        }
      ]
    },
    {
      "cell_type": "markdown",
      "source": [
        "#### Multivariate Analysis"
      ],
      "metadata": {
        "id": "zZHj1BWBu9jB"
      }
    },
    {
      "cell_type": "code",
      "source": [
        "result = pd.pivot_table(data=data, index='value_money_rating', columns='overall_rating',values='recommended')\n",
        "print(result)\n",
        "\n",
        "#create heat map of education vs marital vs response_rate\n",
        "sns.heatmap(result, annot=True, cmap = 'RdYlGn', center=0.117)\n",
        "plt.show()"
      ],
      "metadata": {
        "colab": {
          "base_uri": "https://localhost:8080/",
          "height": 579
        },
        "id": "mpAjYSYPt-Rh",
        "outputId": "7671d106-f4e3-4574-b23c-e06c388b1047"
      },
      "execution_count": 183,
      "outputs": [
        {
          "output_type": "stream",
          "name": "stdout",
          "text": [
            "overall_rating          1.0       2.0       3.0       4.0       5.0   \\\n",
            "value_money_rating                                                     \n",
            "0.0                 0.000000  0.021739  0.037037  0.086957  0.208333   \n",
            "1.0                 0.001096  0.001522  0.006757  0.011905  0.200000   \n",
            "2.0                 0.001401  0.013105  0.022535  0.040100  0.186441   \n",
            "3.0                 0.012903  0.012821  0.045603  0.118613  0.308197   \n",
            "4.0                 0.063492  0.063830  0.042735  0.270270  0.509761   \n",
            "5.0                 0.117647  0.142857  0.277778  0.708333  0.600000   \n",
            "\n",
            "overall_rating          6.0       7.0       8.0       9.0       10.0  \n",
            "value_money_rating                                                    \n",
            "0.0                 0.588235  0.900000  1.000000  1.000000  1.000000  \n",
            "1.0                 0.304348  0.833333  0.555556  0.500000  0.333333  \n",
            "2.0                 0.396040  0.636364  0.818182  1.000000  1.000000  \n",
            "3.0                 0.629139  0.864094  0.987616  1.000000  1.000000  \n",
            "4.0                 0.750507  0.962115  0.993631  1.000000  1.000000  \n",
            "5.0                 0.893130  0.980315  0.997340  0.998701  0.999427  \n"
          ]
        },
        {
          "output_type": "display_data",
          "data": {
            "text/plain": [
              "<Figure size 432x288 with 2 Axes>"
            ],
            "image/png": "[encoded data removed]"
          },
          "metadata": {
            "needs_background": "light"
          }
        }
      ]
    },
    {
      "cell_type": "code",
      "source": [
        "result = pd.pivot_table(data=data, index='value_money_rating', columns='cabin_staff_rating',values='overall_rating')\n",
        "print(result)\n",
        "\n",
        "#create heat map of education vs marital vs response_rate\n",
        "sns.heatmap(result, annot=True, cmap = 'RdYlGn', center=0.117)\n",
        "plt.show()"
      ],
      "metadata": {
        "colab": {
          "base_uri": "https://localhost:8080/",
          "height": 419
        },
        "id": "5QOqreeZvEGY",
        "outputId": "502a34ea-d4c2-4708-84d8-c3ae0ba42eb4"
      },
      "execution_count": 184,
      "outputs": [
        {
          "output_type": "stream",
          "name": "stdout",
          "text": [
            "cabin_staff_rating       0.0       1.0       2.0       3.0       4.0       5.0\n",
            "value_money_rating                                                            \n",
            "0.0                 5.905759  1.620690  2.466667  3.388889  4.857143  6.555556\n",
            "1.0                 1.454545  1.265942  1.655802  1.837248  2.092715  2.483871\n",
            "2.0                 1.800000  2.124601  2.621849  2.948174  3.432049  4.309091\n",
            "3.0                 4.200000  2.767267  3.802253  4.675788  5.767496  7.079023\n",
            "4.0                 5.615385  3.373563  5.180505  6.359914  7.587004  8.548050\n",
            "5.0                 8.250000  4.777778  5.811111  7.390909  8.452508  9.325876\n"
          ]
        },
        {
          "output_type": "display_data",
          "data": {
            "text/plain": [
              "<Figure size 432x288 with 2 Axes>"
            ],
            "image/png": "[encoded data removed]"
          },
          "metadata": {
            "needs_background": "light"
          }
        }
      ]
    },
    {
      "cell_type": "markdown",
      "source": [
        "### Data Mining Models - Cross Val Scores and summaries"
      ],
      "metadata": {
        "id": "YmxqXPLe-ice"
      }
    },
    {
      "cell_type": "markdown",
      "source": [],
      "metadata": {
        "id": "EE1iCfSv-71g"
      }
    },
    {
      "cell_type": "markdown",
      "source": [
        "We have used Linear Regression, Logistic Regression, Decision Tree Classifier, and K Nearest Neighbour. <br> \n",
        "We will first perform cross validation scores to find which model is better and then try to fit the model and predict. <br>\n",
        "Test Bed: <br>\n",
        "1. We will be testing the data with three features. <br>\n",
        "  a. feature 1 will be 10 columns data without 'recommended', 'author' columns from data frame. The textual will be Encoded and standardized using StandardScalar.  <br>\n",
        "  b. feature 2 will be just one single column 'overall_rating' which is normalized using L2 norm. <br>\n",
        "  c. feature 3 will be combination of above two features which consists of 11 columns.\n",
        "2. Once we get the best cross val scores, we will train, fit and test the model with same features.\n"
      ],
      "metadata": {
        "id": "EI98TqqlmeYt"
      }
    },
    {
      "cell_type": "code",
      "source": [
        "from sklearn.linear_model import LinearRegression\n",
        "from sklearn.preprocessing import Normalizer\n",
        "from sklearn.model_selection import train_test_split\n",
        "from sklearn.preprocessing import StandardScaler\n",
        "from sklearn.metrics import mean_squared_error\n",
        "from math import sqrt\n",
        "from sklearn.metrics import accuracy_score\n",
        "from sklearn.metrics import confusion_matrix,classification_report\n",
        "from sklearn.metrics import plot_confusion_matrix\n",
        "from sklearn.preprocessing import LabelEncoder, StandardScaler\n",
        "from sklearn.ensemble import RandomForestClassifier\n",
        "from sklearn.svm import SVC\n",
        "from sklearn.model_selection import cross_val_score, StratifiedKFold, KFold\n",
        "from sklearn.metrics import accuracy_score, classification_report, r2_score\n",
        "from sklearn.tree import DecisionTreeClassifier\n",
        "from sklearn.neighbors import KNeighborsClassifier\n",
        "from sklearn.linear_model import LogisticRegression"
      ],
      "metadata": {
        "id": "u0JYEecKvkNy"
      },
      "execution_count": 291,
      "outputs": []
    },
    {
      "cell_type": "code",
      "source": [
        "feature1 = data.drop(['recommended', 'author'], axis=1)"
      ],
      "metadata": {
        "id": "3tINKGg8Chjk"
      },
      "execution_count": 307,
      "outputs": []
    },
    {
      "cell_type": "code",
      "source": [
        "feature1.shape"
      ],
      "metadata": {
        "colab": {
          "base_uri": "https://localhost:8080/"
        },
        "id": "_LcXb9Mdnpss",
        "outputId": "2025c1b3-8791-438f-c13e-94fb127755b3"
      },
      "execution_count": 308,
      "outputs": [
        {
          "output_type": "execute_result",
          "data": {
            "text/plain": [
              "(27283, 10)"
            ]
          },
          "metadata": {},
          "execution_count": 308
        }
      ]
    },
    {
      "cell_type": "code",
      "source": [
        "target = data['recommended']"
      ],
      "metadata": {
        "id": "rhuc-uImC35M"
      },
      "execution_count": 309,
      "outputs": []
    },
    {
      "cell_type": "code",
      "source": [
        "target.value_counts()"
      ],
      "metadata": {
        "colab": {
          "base_uri": "https://localhost:8080/"
        },
        "id": "KWV5baZkfuQA",
        "outputId": "0c6eaa2d-41af-4ab1-b2f5-5eadb88eb5cc"
      },
      "execution_count": 310,
      "outputs": [
        {
          "output_type": "execute_result",
          "data": {
            "text/plain": [
              "1    16476\n",
              "0    10807\n",
              "Name: recommended, dtype: int64"
            ]
          },
          "metadata": {},
          "execution_count": 310
        }
      ]
    },
    {
      "cell_type": "code",
      "source": [
        "feature1['date'] = LabelEncoder().fit_transform(feature1['date'])\n",
        "feature1['author_country'] = LabelEncoder().fit_transform(feature1['author_country'])\n",
        "feature1['cabin_flown'] = LabelEncoder().fit_transform(feature1['cabin_flown'])\n",
        "feature1['airline_name'] = LabelEncoder().fit_transform(feature1['airline_name'])\n",
        "feature1 = StandardScaler().fit_transform(feature1)"
      ],
      "metadata": {
        "id": "B5LzFbnODA47"
      },
      "execution_count": 317,
      "outputs": []
    },
    {
      "cell_type": "code",
      "source": [
        "f2 = [data['overall_rating']]"
      ],
      "metadata": {
        "id": "cepFLq_sVOOz"
      },
      "execution_count": 318,
      "outputs": []
    },
    {
      "cell_type": "code",
      "source": [
        "Data_normalizer = Normalizer(norm='l2').fit(f2)\n",
        "feature2 = Data_normalizer.transform(f2)"
      ],
      "metadata": {
        "id": "yTrMT4Gwryzb"
      },
      "execution_count": 319,
      "outputs": []
    },
    {
      "cell_type": "code",
      "source": [
        "feature2 = feature2.transpose()"
      ],
      "metadata": {
        "id": "tZ-GRYByoTfN"
      },
      "execution_count": 320,
      "outputs": []
    },
    {
      "cell_type": "code",
      "source": [
        "feature2.shape"
      ],
      "metadata": {
        "colab": {
          "base_uri": "https://localhost:8080/"
        },
        "id": "oRWqnOKWtFMT",
        "outputId": "42d42e7a-c782-4ebe-f167-57561a760e32"
      },
      "execution_count": 321,
      "outputs": [
        {
          "output_type": "execute_result",
          "data": {
            "text/plain": [
              "(27283, 1)"
            ]
          },
          "metadata": {},
          "execution_count": 321
        }
      ]
    },
    {
      "cell_type": "code",
      "source": [
        "feature3 = np.concatenate((feature1, feature2), axis=1)\n",
        "feature3.shape"
      ],
      "metadata": {
        "colab": {
          "base_uri": "https://localhost:8080/"
        },
        "id": "gR47aIpGyJQV",
        "outputId": "586c25f0-77a4-41bc-8e1b-37b96166472b"
      },
      "execution_count": 331,
      "outputs": [
        {
          "output_type": "execute_result",
          "data": {
            "text/plain": [
              "(27283, 11)"
            ]
          },
          "metadata": {},
          "execution_count": 331
        }
      ]
    },
    {
      "cell_type": "code",
      "source": [
        "# from sklearn.naive_bayes import R\n",
        "clfs = {'LinearRegression': LinearRegression(), 'DecisionTree': DecisionTreeClassifier(),\n",
        "       'LogisticRegression': LogisticRegression(), 'knn_model ': KNeighborsClassifier(n_neighbors=5)}\n",
        "x = []\n",
        "y = []\n",
        "z = []\n",
        "for name, clf in clfs.items():\n",
        "    x.append({'Classifier': name, 'Feature': 'feature 1', 'cross_val_score': cross_val_score(clf, feature1, target, cv=5).mean()})\n",
        "    y.append({'Classifier': name, 'Feature': 'feature 2', 'cross_val_score': cross_val_score(clf, feature2, target, cv=5).mean()})\n",
        "    z.append({'Classifier': name, 'Feature': 'feature 3', 'cross_val_score': cross_val_score(clf, feature3, target, cv=5).mean()})\n",
        "    print (name)"
      ],
      "metadata": {
        "colab": {
          "base_uri": "https://localhost:8080/"
        },
        "id": "-v9P4PtPGcPo",
        "outputId": "adbd2b9b-9ffb-4cb5-cf60-fec91e78e087"
      },
      "execution_count": 332,
      "outputs": [
        {
          "output_type": "stream",
          "name": "stdout",
          "text": [
            "LinearRegression\n",
            "DecisionTree\n",
            "LogisticRegression\n",
            "knn_model \n"
          ]
        }
      ]
    },
    {
      "cell_type": "code",
      "source": [
        "result = pd.DataFrame(columns=['Classifier', 'Feature', 'cross_val_score'])\n",
        "for i in range(4):\n",
        "    result = result.append(x[i], ignore_index=True)\n",
        "    result = result.append(y[i], ignore_index=True)\n",
        "    result = result.append(z[i], ignore_index=True)\n",
        "result"
      ],
      "metadata": {
        "colab": {
          "base_uri": "https://localhost:8080/",
          "height": 426
        },
        "id": "SRq2HOO9V8Jc",
        "outputId": "31cfd843-4124-4de8-e2dd-9c35285c0ec7"
      },
      "execution_count": 333,
      "outputs": [
        {
          "output_type": "execute_result",
          "data": {
            "text/plain": [
              "            Classifier    Feature  cross_val_score\n",
              "0     LinearRegression  feature 1         0.763934\n",
              "1     LinearRegression  feature 2         0.757340\n",
              "2     LinearRegression  feature 3         0.763934\n",
              "3         DecisionTree  feature 1         0.777692\n",
              "4         DecisionTree  feature 2         0.943371\n",
              "5         DecisionTree  feature 3         0.775749\n",
              "6   LogisticRegression  feature 1         0.944800\n",
              "7   LogisticRegression  feature 2         0.603893\n",
              "8   LogisticRegression  feature 3         0.944800\n",
              "9           knn_model   feature 1         0.933072\n",
              "10          knn_model   feature 2         0.919034\n",
              "11          knn_model   feature 3         0.933072"
            ],
            "text/html": [
              "\n",
              "  <div id=\"df-44bb8766-a070-4c34-9f1a-875dc8cb96ae\">\n",
              "    <div class=\"colab-df-container\">\n",
              "      <div>\n",
              "<style scoped>\n",
              "    .dataframe tbody tr th:only-of-type {\n",
              "        vertical-align: middle;\n",
              "    }\n",
              "\n",
              "    .dataframe tbody tr th {\n",
              "        vertical-align: top;\n",
              "    }\n",
              "\n",
              "    .dataframe thead th {\n",
              "        text-align: right;\n",
              "    }\n",
              "</style>\n",
              "<table border=\"1\" class=\"dataframe\">\n",
              "  <thead>\n",
              "    <tr style=\"text-align: right;\">\n",
              "      <th></th>\n",
              "      <th>Classifier</th>\n",
              "      <th>Feature</th>\n",
              "      <th>cross_val_score</th>\n",
              "    </tr>\n",
              "  </thead>\n",
              "  <tbody>\n",
              "    <tr>\n",
              "      <th>0</th>\n",
              "      <td>LinearRegression</td>\n",
              "      <td>feature 1</td>\n",
              "      <td>0.763934</td>\n",
              "    </tr>\n",
              "    <tr>\n",
              "      <th>1</th>\n",
              "      <td>LinearRegression</td>\n",
              "      <td>feature 2</td>\n",
              "      <td>0.757340</td>\n",
              "    </tr>\n",
              "    <tr>\n",
              "      <th>2</th>\n",
              "      <td>LinearRegression</td>\n",
              "      <td>feature 3</td>\n",
              "      <td>0.763934</td>\n",
              "    </tr>\n",
              "    <tr>\n",
              "      <th>3</th>\n",
              "      <td>DecisionTree</td>\n",
              "      <td>feature 1</td>\n",
              "      <td>0.777692</td>\n",
              "    </tr>\n",
              "    <tr>\n",
              "      <th>4</th>\n",
              "      <td>DecisionTree</td>\n",
              "      <td>feature 2</td>\n",
              "      <td>0.943371</td>\n",
              "    </tr>\n",
              "    <tr>\n",
              "      <th>5</th>\n",
              "      <td>DecisionTree</td>\n",
              "      <td>feature 3</td>\n",
              "      <td>0.775749</td>\n",
              "    </tr>\n",
              "    <tr>\n",
              "      <th>6</th>\n",
              "      <td>LogisticRegression</td>\n",
              "      <td>feature 1</td>\n",
              "      <td>0.944800</td>\n",
              "    </tr>\n",
              "    <tr>\n",
              "      <th>7</th>\n",
              "      <td>LogisticRegression</td>\n",
              "      <td>feature 2</td>\n",
              "      <td>0.603893</td>\n",
              "    </tr>\n",
              "    <tr>\n",
              "      <th>8</th>\n",
              "      <td>LogisticRegression</td>\n",
              "      <td>feature 3</td>\n",
              "      <td>0.944800</td>\n",
              "    </tr>\n",
              "    <tr>\n",
              "      <th>9</th>\n",
              "      <td>knn_model</td>\n",
              "      <td>feature 1</td>\n",
              "      <td>0.933072</td>\n",
              "    </tr>\n",
              "    <tr>\n",
              "      <th>10</th>\n",
              "      <td>knn_model</td>\n",
              "      <td>feature 2</td>\n",
              "      <td>0.919034</td>\n",
              "    </tr>\n",
              "    <tr>\n",
              "      <th>11</th>\n",
              "      <td>knn_model</td>\n",
              "      <td>feature 3</td>\n",
              "      <td>0.933072</td>\n",
              "    </tr>\n",
              "  </tbody>\n",
              "</table>\n",
              "</div>\n",
              "      <button class=\"colab-df-convert\" onclick=\"convertToInteractive('df-44bb8766-a070-4c34-9f1a-875dc8cb96ae')\"\n",
              "              title=\"Convert this dataframe to an interactive table.\"\n",
              "              style=\"display:none;\">\n",
              "        \n",
              "  <svg xmlns=\"http://www.w3.org/2000/svg\" height=\"24px\"viewBox=\"0 0 24 24\"\n",
              "       width=\"24px\">\n",
              "    <path d=\"M0 0h24v24H0V0z\" fill=\"none\"/>\n",
              "    <path d=\"M18.56 5.44l.94 2.06.94-2.06 2.06-.94-2.06-.94-.94-2.06-.94 2.06-2.06.94zm-11 1L8.5 8.5l.94-2.06 2.06-.94-2.06-.94L8.5 2.5l-.94 2.06-2.06.94zm10 10l.94 2.06.94-2.06 2.06-.94-2.06-.94-.94-2.06-.94 2.06-2.06.94z\"/><path d=\"M17.41 7.96l-1.37-1.37c-.4-.4-.92-.59-1.43-.59-.52 0-1.04.2-1.43.59L10.3 9.45l-7.72 7.72c-.78.78-.78 2.05 0 2.83L4 21.41c.39.39.9.59 1.41.59.51 0 1.02-.2 1.41-.59l7.78-7.78 2.81-2.81c.8-.78.8-2.07 0-2.86zM5.41 20L4 18.59l7.72-7.72 1.47 1.35L5.41 20z\"/>\n",
              "  </svg>\n",
              "      </button>\n",
              "      \n",
              "  <style>\n",
              "    .colab-df-container {\n",
              "      display:flex;\n",
              "      flex-wrap:wrap;\n",
              "      gap: 12px;\n",
              "    }\n",
              "\n",
              "    .colab-df-convert {\n",
              "      background-color: #E8F0FE;\n",
              "      border: none;\n",
              "      border-radius: 50%;\n",
              "      cursor: pointer;\n",
              "      display: none;\n",
              "      fill: #1967D2;\n",
              "      height: 32px;\n",
              "      padding: 0 0 0 0;\n",
              "      width: 32px;\n",
              "    }\n",
              "\n",
              "    .colab-df-convert:hover {\n",
              "      background-color: #E2EBFA;\n",
              "      box-shadow: 0px 1px 2px rgba(60, 64, 67, 0.3), 0px 1px 3px 1px rgba(60, 64, 67, 0.15);\n",
              "      fill: #174EA6;\n",
              "    }\n",
              "\n",
              "    [theme=dark] .colab-df-convert {\n",
              "      background-color: #3B4455;\n",
              "      fill: #D2E3FC;\n",
              "    }\n",
              "\n",
              "    [theme=dark] .colab-df-convert:hover {\n",
              "      background-color: #434B5C;\n",
              "      box-shadow: 0px 1px 3px 1px rgba(0, 0, 0, 0.15);\n",
              "      filter: drop-shadow(0px 1px 2px rgba(0, 0, 0, 0.3));\n",
              "      fill: #FFFFFF;\n",
              "    }\n",
              "  </style>\n",
              "\n",
              "      <script>\n",
              "        const buttonEl =\n",
              "          document.querySelector('#df-44bb8766-a070-4c34-9f1a-875dc8cb96ae button.colab-df-convert');\n",
              "        buttonEl.style.display =\n",
              "          google.colab.kernel.accessAllowed ? 'block' : 'none';\n",
              "\n",
              "        async function convertToInteractive(key) {\n",
              "          const element = document.querySelector('#df-44bb8766-a070-4c34-9f1a-875dc8cb96ae');\n",
              "          const dataTable =\n",
              "            await google.colab.kernel.invokeFunction('convertToInteractive',\n",
              "                                                     [key], {});\n",
              "          if (!dataTable) return;\n",
              "\n",
              "          const docLinkHtml = 'Like what you see? Visit the ' +\n",
              "            '<a target=\"_blank\" href=https://colab.research.google.com/notebooks/data_table.ipynb>data table notebook</a>'\n",
              "            + ' to learn more about interactive tables.';\n",
              "          element.innerHTML = '';\n",
              "          dataTable['output_type'] = 'display_data';\n",
              "          await google.colab.output.renderOutput(dataTable, element);\n",
              "          const docLink = document.createElement('div');\n",
              "          docLink.innerHTML = docLinkHtml;\n",
              "          element.appendChild(docLink);\n",
              "        }\n",
              "      </script>\n",
              "    </div>\n",
              "  </div>\n",
              "  "
            ]
          },
          "metadata": {},
          "execution_count": 333
        }
      ]
    },
    {
      "cell_type": "code",
      "source": [
        "ax, fig = plt.subplots(figsize=(10, 10))\n",
        "sns.pointplot(x=\"Feature\", y=\"cross_val_score\", hue = 'Classifier', data=result)"
      ],
      "metadata": {
        "colab": {
          "base_uri": "https://localhost:8080/",
          "height": 623
        },
        "id": "lK9RRp2-Wtqk",
        "outputId": "f0df0011-4a43-41e8-b6c5-c052ad390bc0"
      },
      "execution_count": 334,
      "outputs": [
        {
          "output_type": "execute_result",
          "data": {
            "text/plain": [
              "<matplotlib.axes._subplots.AxesSubplot at 0x7f81ca897cd0>"
            ]
          },
          "metadata": {},
          "execution_count": 334
        },
        {
          "output_type": "display_data",
          "data": {
            "text/plain": [
              "<Figure size 720x720 with 1 Axes>"
            ],
            "image/png": "[encoded data removed]"
          },
          "metadata": {
            "needs_background": "light"
          }
        }
      ]
    },
    {
      "cell_type": "markdown",
      "source": [
        "The cross vaslidation scores of Logistic regression is above 90 for feature 1 and 3. While Decision Tree classfier has good score for feature 2."
      ],
      "metadata": {
        "id": "rnmTUONnH_iz"
      }
    },
    {
      "cell_type": "code",
      "source": [
        "ax, fig = plt.subplots(figsize=(10, 10))\n",
        "sns.pointplot(x=\"Classifier\", y=\"cross_val_score\", hue = 'Feature', data=result)"
      ],
      "metadata": {
        "colab": {
          "base_uri": "https://localhost:8080/",
          "height": 623
        },
        "id": "Xx7n-Oy0FsKt",
        "outputId": "20effeb8-dc76-491c-f6dd-def7a04c997b"
      },
      "execution_count": 335,
      "outputs": [
        {
          "output_type": "execute_result",
          "data": {
            "text/plain": [
              "<matplotlib.axes._subplots.AxesSubplot at 0x7f81ca843df0>"
            ]
          },
          "metadata": {},
          "execution_count": 335
        },
        {
          "output_type": "display_data",
          "data": {
            "text/plain": [
              "<Figure size 720x720 with 1 Axes>"
            ],
            "image/png": "[encoded data removed]"
          },
          "metadata": {
            "needs_background": "light"
          }
        }
      ]
    },
    {
      "cell_type": "markdown",
      "source": [
        "Now we will train and test the model and get the accuracies, confusion matrix."
      ],
      "metadata": {
        "id": "RvoW_i1vJO2h"
      }
    },
    {
      "cell_type": "code",
      "source": [
        "clfs = {'LinearRegression': LinearRegression(), 'DecisionTree': DecisionTreeClassifier(),\n",
        "       'LogisticRegression': LogisticRegression(), 'knn_model ': KNeighborsClassifier(n_neighbors=5)}\n",
        "\n",
        "print(\"Training and testing models for feature 1\")\n",
        "\n",
        "for name, clf in clfs.items():\n",
        "    originalClass = []\n",
        "    predictedClass = []\n",
        "    score = []\n",
        "    cv = StratifiedKFold(n_splits=5)\n",
        "    print (name)\n",
        "\n",
        "    X_train,X_test,y_train,y_test = train_test_split(feature1,target,test_size = 0.2,random_state=42)\n",
        "\n",
        "    clf.fit(X_train, y_train)\n",
        "    y_pred = clf.predict(X_test)\n",
        "\n",
        "    originalClass.extend(y_test)\n",
        "    predictedClass.extend(y_pred)\n",
        "\n",
        "    if name=='LinearRegression':\n",
        "        score.append(accuracy_score(y_test, y_pred.round()))\n",
        "        print ('Model Score: ',sum(score)/float(len(score)))\n",
        "        print ('R2 Score: ',r2_score(originalClass, predictedClass))\n",
        "    else:\n",
        "        score.append(accuracy_score(y_test, y_pred))\n",
        "        print ('Model Score: ',sum(score)/float(len(score)))\n",
        "        print('Classification Report: ')\n",
        "        print (classification_report(originalClass, predictedClass))\n",
        "    print('-------------------------------------------------------------------')"
      ],
      "metadata": {
        "colab": {
          "base_uri": "https://localhost:8080/"
        },
        "id": "wFrMs4EHXAk0",
        "outputId": "3841d5dd-6fff-4b84-9138-ae0b630c00e0"
      },
      "execution_count": 336,
      "outputs": [
        {
          "output_type": "stream",
          "name": "stdout",
          "text": [
            "Training and testing models for feature 1\n",
            "LinearRegression\n",
            "Model Score:  0.9459409932197178\n",
            "R2 Score:  0.7649713137347569\n",
            "-------------------------------------------------------------------\n",
            "DecisionTree\n",
            "Model Score:  0.922301630932747\n",
            "Classification Report: \n",
            "              precision    recall  f1-score   support\n",
            "\n",
            "           0       0.90      0.90      0.90      2140\n",
            "           1       0.94      0.93      0.94      3317\n",
            "\n",
            "    accuracy                           0.92      5457\n",
            "   macro avg       0.92      0.92      0.92      5457\n",
            "weighted avg       0.92      0.92      0.92      5457\n",
            "\n",
            "-------------------------------------------------------------------\n",
            "LogisticRegression\n",
            "Model Score:  0.9455744914788345\n",
            "Classification Report: \n",
            "              precision    recall  f1-score   support\n",
            "\n",
            "           0       0.93      0.94      0.93      2140\n",
            "           1       0.96      0.95      0.96      3317\n",
            "\n",
            "    accuracy                           0.95      5457\n",
            "   macro avg       0.94      0.94      0.94      5457\n",
            "weighted avg       0.95      0.95      0.95      5457\n",
            "\n",
            "-------------------------------------------------------------------\n",
            "knn_model \n",
            "Model Score:  0.9351291918636614\n",
            "Classification Report: \n",
            "              precision    recall  f1-score   support\n",
            "\n",
            "           0       0.92      0.91      0.92      2140\n",
            "           1       0.94      0.95      0.95      3317\n",
            "\n",
            "    accuracy                           0.94      5457\n",
            "   macro avg       0.93      0.93      0.93      5457\n",
            "weighted avg       0.94      0.94      0.94      5457\n",
            "\n",
            "-------------------------------------------------------------------\n"
          ]
        }
      ]
    },
    {
      "cell_type": "markdown",
      "source": [],
      "metadata": {
        "id": "qmaNDalOIeQe"
      }
    },
    {
      "cell_type": "code",
      "source": [
        "clfs = {'LinearRegression': LinearRegression(), 'DecisionTree': DecisionTreeClassifier(),\n",
        "       'LogisticRegression': LogisticRegression(), 'knn_model ': KNeighborsClassifier(n_neighbors=5)}\n",
        "\n",
        "print(\"Training and testing models for feature 2\")\n",
        "\n",
        "for name, clf in clfs.items():\n",
        "    originalClass = []\n",
        "    predictedClass = []\n",
        "    score = []\n",
        "    cv = StratifiedKFold(n_splits=5)\n",
        "    print (name)\n",
        "\n",
        "    X_train,X_test,y_train,y_test = train_test_split(feature2,target,test_size = 0.2,random_state=42)\n",
        "\n",
        "    clf.fit(X_train, y_train)\n",
        "    y_pred = clf.predict(X_test)\n",
        "\n",
        "    originalClass.extend(y_test)\n",
        "    predictedClass.extend(y_pred)\n",
        "\n",
        "    if name=='LinearRegression':\n",
        "        score.append(accuracy_score(y_test, y_pred.round()))\n",
        "        print ('Model Score: ',sum(score)/float(len(score)))\n",
        "        print ('R2 Score: ',r2_score(originalClass, predictedClass))\n",
        "    else:\n",
        "        score.append(accuracy_score(y_test, y_pred))\n",
        "        print ('Model Score: ',sum(score)/float(len(score)))\n",
        "        print('Classification Report: ')\n",
        "        print (classification_report(originalClass, predictedClass))\n",
        "    print('-------------------------------------------------------------------')"
      ],
      "metadata": {
        "colab": {
          "base_uri": "https://localhost:8080/"
        },
        "id": "PEBPGD5KjKqw",
        "outputId": "2b660b4a-2a78-47b4-e77e-a3cfed831c1f"
      },
      "execution_count": 337,
      "outputs": [
        {
          "output_type": "stream",
          "name": "stdout",
          "text": [
            "Training and testing models for feature 2\n",
            "LinearRegression\n",
            "Model Score:  0.9422759758108851\n",
            "R2 Score:  0.7574986169625068\n",
            "-------------------------------------------------------------------\n",
            "DecisionTree\n",
            "Model Score:  0.9422759758108851\n",
            "Classification Report: \n",
            "              precision    recall  f1-score   support\n",
            "\n",
            "           0       0.91      0.94      0.93      2140\n",
            "           1       0.96      0.94      0.95      3317\n",
            "\n",
            "    accuracy                           0.94      5457\n",
            "   macro avg       0.94      0.94      0.94      5457\n",
            "weighted avg       0.94      0.94      0.94      5457\n",
            "\n",
            "-------------------------------------------------------------------\n",
            "LogisticRegression\n",
            "Model Score:  0.6078431372549019\n",
            "Classification Report: \n",
            "              precision    recall  f1-score   support\n",
            "\n",
            "           0       0.00      0.00      0.00      2140\n",
            "           1       0.61      1.00      0.76      3317\n",
            "\n",
            "    accuracy                           0.61      5457\n",
            "   macro avg       0.30      0.50      0.38      5457\n",
            "weighted avg       0.37      0.61      0.46      5457\n",
            "\n",
            "-------------------------------------------------------------------\n",
            "knn_model \n"
          ]
        },
        {
          "output_type": "stream",
          "name": "stderr",
          "text": [
            "/usr/local/lib/python3.8/dist-packages/sklearn/metrics/_classification.py:1318: UndefinedMetricWarning: Precision and F-score are ill-defined and being set to 0.0 in labels with no predicted samples. Use `zero_division` parameter to control this behavior.\n",
            "  _warn_prf(average, modifier, msg_start, len(result))\n",
            "/usr/local/lib/python3.8/dist-packages/sklearn/metrics/_classification.py:1318: UndefinedMetricWarning: Precision and F-score are ill-defined and being set to 0.0 in labels with no predicted samples. Use `zero_division` parameter to control this behavior.\n",
            "  _warn_prf(average, modifier, msg_start, len(result))\n",
            "/usr/local/lib/python3.8/dist-packages/sklearn/metrics/_classification.py:1318: UndefinedMetricWarning: Precision and F-score are ill-defined and being set to 0.0 in labels with no predicted samples. Use `zero_division` parameter to control this behavior.\n",
            "  _warn_prf(average, modifier, msg_start, len(result))\n"
          ]
        },
        {
          "output_type": "stream",
          "name": "stdout",
          "text": [
            "Model Score:  0.9422759758108851\n",
            "Classification Report: \n",
            "              precision    recall  f1-score   support\n",
            "\n",
            "           0       0.91      0.94      0.93      2140\n",
            "           1       0.96      0.94      0.95      3317\n",
            "\n",
            "    accuracy                           0.94      5457\n",
            "   macro avg       0.94      0.94      0.94      5457\n",
            "weighted avg       0.94      0.94      0.94      5457\n",
            "\n",
            "-------------------------------------------------------------------\n"
          ]
        }
      ]
    },
    {
      "cell_type": "code",
      "source": [
        "clfs = {'LinearRegression': LinearRegression(), 'DecisionTree': DecisionTreeClassifier(),\n",
        "       'LogisticRegression': LogisticRegression(), 'knn_model ': KNeighborsClassifier(n_neighbors=5)}\n",
        "\n",
        "print(\"Training and testing models for feature 3\")\n",
        "\n",
        "for name, clf in clfs.items():\n",
        "    originalClass = []\n",
        "    predictedClass = []\n",
        "    score = []\n",
        "    cv = StratifiedKFold(n_splits=5)\n",
        "    print (name)\n",
        "\n",
        "    X_train,X_test,y_train,y_test = train_test_split(feature3,target,test_size = 0.2,random_state=42)\n",
        "\n",
        "    clf.fit(X_train, y_train)\n",
        "    y_pred = clf.predict(X_test)\n",
        "\n",
        "    originalClass.extend(y_test)\n",
        "    predictedClass.extend(y_pred)\n",
        "\n",
        "    if name=='LinearRegression':\n",
        "        score.append(accuracy_score(y_test, y_pred.round()))\n",
        "        print ('Model Score: ',sum(score)/float(len(score)))\n",
        "        print ('R2 Score: ',r2_score(originalClass, predictedClass))\n",
        "    else:\n",
        "        score.append(accuracy_score(y_test, y_pred))\n",
        "        print ('Model Score: ',sum(score)/float(len(score)))\n",
        "        print('Classification Report: ')\n",
        "        print (classification_report(originalClass, predictedClass))\n",
        "    print('-------------------------------------------------------------------')"
      ],
      "metadata": {
        "colab": {
          "base_uri": "https://localhost:8080/"
        },
        "id": "cKoW5x0VjTbR",
        "outputId": "dec07821-1d89-43f0-c855-1020c9cc09e9"
      },
      "execution_count": 338,
      "outputs": [
        {
          "output_type": "stream",
          "name": "stdout",
          "text": [
            "Training and testing models for feature 3\n",
            "LinearRegression\n",
            "Model Score:  0.9459409932197178\n",
            "R2 Score:  0.7649713137347569\n",
            "-------------------------------------------------------------------\n",
            "DecisionTree\n",
            "Model Score:  0.9206523730987722\n",
            "Classification Report: \n",
            "              precision    recall  f1-score   support\n",
            "\n",
            "           0       0.89      0.91      0.90      2140\n",
            "           1       0.94      0.93      0.93      3317\n",
            "\n",
            "    accuracy                           0.92      5457\n",
            "   macro avg       0.92      0.92      0.92      5457\n",
            "weighted avg       0.92      0.92      0.92      5457\n",
            "\n",
            "-------------------------------------------------------------------\n",
            "LogisticRegression\n",
            "Model Score:  0.9455744914788345\n",
            "Classification Report: \n",
            "              precision    recall  f1-score   support\n",
            "\n",
            "           0       0.93      0.94      0.93      2140\n",
            "           1       0.96      0.95      0.96      3317\n",
            "\n",
            "    accuracy                           0.95      5457\n",
            "   macro avg       0.94      0.94      0.94      5457\n",
            "weighted avg       0.95      0.95      0.95      5457\n",
            "\n",
            "-------------------------------------------------------------------\n",
            "knn_model \n",
            "Model Score:  0.9351291918636614\n",
            "Classification Report: \n",
            "              precision    recall  f1-score   support\n",
            "\n",
            "           0       0.92      0.91      0.92      2140\n",
            "           1       0.94      0.95      0.95      3317\n",
            "\n",
            "    accuracy                           0.94      5457\n",
            "   macro avg       0.93      0.93      0.93      5457\n",
            "weighted avg       0.94      0.94      0.94      5457\n",
            "\n",
            "-------------------------------------------------------------------\n"
          ]
        }
      ]
    },
    {
      "cell_type": "markdown",
      "source": [
        "### Data Mining - Individual Models"
      ],
      "metadata": {
        "id": "L4z9deCJMi6D"
      }
    },
    {
      "cell_type": "markdown",
      "source": [
        "#### Linear Regression\n",
        "References:\n",
        "1. https://www.geeksforgeeks.org/linear-regression-python-implementation/\n",
        "2. https://realpython.com/linear-regression-in-python/\n",
        "3. And Homework assignment"
      ],
      "metadata": {
        "id": "s5SXsvX0K6nc"
      }
    },
    {
      "cell_type": "code",
      "source": [
        "factors = ['airline_name', 'author_country', 'cabin_flown',\n",
        "       'overall_rating', 'seat_comfort_rating', 'cabin_staff_rating',\n",
        "       'food_beverages_rating', 'inflight_entertainment_rating',\n",
        "       'value_money_rating', 'date']\n",
        "X = pd.DataFrame(data[factors].copy())\n",
        "y = data['recommended'].copy()"
      ],
      "metadata": {
        "id": "aXSvJsk15r2_"
      },
      "execution_count": 366,
      "outputs": []
    },
    {
      "cell_type": "code",
      "source": [
        "X"
      ],
      "metadata": {
        "colab": {
          "base_uri": "https://localhost:8080/",
          "height": 468
        },
        "id": "Ol3aLQKYuN9-",
        "outputId": "e51072f2-0496-48ba-f228-d0b40d739e85"
      },
      "execution_count": 367,
      "outputs": [
        {
          "output_type": "execute_result",
          "data": {
            "text/plain": [
              "        airline_name  author_country     cabin_flown  overall_rating  \\\n",
              "0      adria-airways         Germany         Economy             7.0   \n",
              "1      adria-airways   United States  Business Class            10.0   \n",
              "2      adria-airways     Switzerland         Economy             9.0   \n",
              "3      adria-airways       Singapore  Business Class             8.0   \n",
              "4      adria-airways          Poland         Economy             4.0   \n",
              "...              ...             ...             ...             ...   \n",
              "41207       wizz-air  United Kingdom         Economy             7.0   \n",
              "41210       wizz-air  United Kingdom         Economy             2.0   \n",
              "41213       wizz-air  United Kingdom         Economy             1.0   \n",
              "41216       wizz-air  United Kingdom         Economy             5.0   \n",
              "41217       wizz-air  United Kingdom         Economy             1.0   \n",
              "\n",
              "       seat_comfort_rating  cabin_staff_rating  food_beverages_rating  \\\n",
              "0                      4.0                 4.0                    4.0   \n",
              "1                      4.0                 5.0                    4.0   \n",
              "2                      5.0                 5.0                    4.0   \n",
              "3                      4.0                 4.0                    3.0   \n",
              "4                      4.0                 2.0                    1.0   \n",
              "...                    ...                 ...                    ...   \n",
              "41207                  3.0                 3.0                    0.0   \n",
              "41210                  1.0                 3.0                    3.0   \n",
              "41213                  2.0                 1.0                    0.0   \n",
              "41216                  3.0                 4.0                    2.0   \n",
              "41217                  2.0                 3.0                    2.0   \n",
              "\n",
              "       inflight_entertainment_rating  value_money_rating     date  \n",
              "0                                0.0                 4.0   4/2015  \n",
              "1                                1.0                 5.0   1/2015  \n",
              "2                                0.0                 5.0   9/2014  \n",
              "3                                1.0                 4.0   9/2014  \n",
              "4                                2.0                 2.0   6/2014  \n",
              "...                              ...                 ...      ...  \n",
              "41207                            0.0                 5.0  10/2012  \n",
              "41210                            0.0                 2.0  10/2012  \n",
              "41213                            0.0                 3.0  10/2012  \n",
              "41216                            1.0                 4.0  10/2012  \n",
              "41217                            0.0                 2.0  10/2012  \n",
              "\n",
              "[27283 rows x 10 columns]"
            ],
            "text/html": [
              "\n",
              "  <div id=\"df-be18b317-6435-407f-a0cf-6cf5e818151b\">\n",
              "    <div class=\"colab-df-container\">\n",
              "      <div>\n",
              "<style scoped>\n",
              "    .dataframe tbody tr th:only-of-type {\n",
              "        vertical-align: middle;\n",
              "    }\n",
              "\n",
              "    .dataframe tbody tr th {\n",
              "        vertical-align: top;\n",
              "    }\n",
              "\n",
              "    .dataframe thead th {\n",
              "        text-align: right;\n",
              "    }\n",
              "</style>\n",
              "<table border=\"1\" class=\"dataframe\">\n",
              "  <thead>\n",
              "    <tr style=\"text-align: right;\">\n",
              "      <th></th>\n",
              "      <th>airline_name</th>\n",
              "      <th>author_country</th>\n",
              "      <th>cabin_flown</th>\n",
              "      <th>overall_rating</th>\n",
              "      <th>seat_comfort_rating</th>\n",
              "      <th>cabin_staff_rating</th>\n",
              "      <th>food_beverages_rating</th>\n",
              "      <th>inflight_entertainment_rating</th>\n",
              "      <th>value_money_rating</th>\n",
              "      <th>date</th>\n",
              "    </tr>\n",
              "  </thead>\n",
              "  <tbody>\n",
              "    <tr>\n",
              "      <th>0</th>\n",
              "      <td>adria-airways</td>\n",
              "      <td>Germany</td>\n",
              "      <td>Economy</td>\n",
              "      <td>7.0</td>\n",
              "      <td>4.0</td>\n",
              "      <td>4.0</td>\n",
              "      <td>4.0</td>\n",
              "      <td>0.0</td>\n",
              "      <td>4.0</td>\n",
              "      <td>4/2015</td>\n",
              "    </tr>\n",
              "    <tr>\n",
              "      <th>1</th>\n",
              "      <td>adria-airways</td>\n",
              "      <td>United States</td>\n",
              "      <td>Business Class</td>\n",
              "      <td>10.0</td>\n",
              "      <td>4.0</td>\n",
              "      <td>5.0</td>\n",
              "      <td>4.0</td>\n",
              "      <td>1.0</td>\n",
              "      <td>5.0</td>\n",
              "      <td>1/2015</td>\n",
              "    </tr>\n",
              "    <tr>\n",
              "      <th>2</th>\n",
              "      <td>adria-airways</td>\n",
              "      <td>Switzerland</td>\n",
              "      <td>Economy</td>\n",
              "      <td>9.0</td>\n",
              "      <td>5.0</td>\n",
              "      <td>5.0</td>\n",
              "      <td>4.0</td>\n",
              "      <td>0.0</td>\n",
              "      <td>5.0</td>\n",
              "      <td>9/2014</td>\n",
              "    </tr>\n",
              "    <tr>\n",
              "      <th>3</th>\n",
              "      <td>adria-airways</td>\n",
              "      <td>Singapore</td>\n",
              "      <td>Business Class</td>\n",
              "      <td>8.0</td>\n",
              "      <td>4.0</td>\n",
              "      <td>4.0</td>\n",
              "      <td>3.0</td>\n",
              "      <td>1.0</td>\n",
              "      <td>4.0</td>\n",
              "      <td>9/2014</td>\n",
              "    </tr>\n",
              "    <tr>\n",
              "      <th>4</th>\n",
              "      <td>adria-airways</td>\n",
              "      <td>Poland</td>\n",
              "      <td>Economy</td>\n",
              "      <td>4.0</td>\n",
              "      <td>4.0</td>\n",
              "      <td>2.0</td>\n",
              "      <td>1.0</td>\n",
              "      <td>2.0</td>\n",
              "      <td>2.0</td>\n",
              "      <td>6/2014</td>\n",
              "    </tr>\n",
              "    <tr>\n",
              "      <th>...</th>\n",
              "      <td>...</td>\n",
              "      <td>...</td>\n",
              "      <td>...</td>\n",
              "      <td>...</td>\n",
              "      <td>...</td>\n",
              "      <td>...</td>\n",
              "      <td>...</td>\n",
              "      <td>...</td>\n",
              "      <td>...</td>\n",
              "      <td>...</td>\n",
              "    </tr>\n",
              "    <tr>\n",
              "      <th>41207</th>\n",
              "      <td>wizz-air</td>\n",
              "      <td>United Kingdom</td>\n",
              "      <td>Economy</td>\n",
              "      <td>7.0</td>\n",
              "      <td>3.0</td>\n",
              "      <td>3.0</td>\n",
              "      <td>0.0</td>\n",
              "      <td>0.0</td>\n",
              "      <td>5.0</td>\n",
              "      <td>10/2012</td>\n",
              "    </tr>\n",
              "    <tr>\n",
              "      <th>41210</th>\n",
              "      <td>wizz-air</td>\n",
              "      <td>United Kingdom</td>\n",
              "      <td>Economy</td>\n",
              "      <td>2.0</td>\n",
              "      <td>1.0</td>\n",
              "      <td>3.0</td>\n",
              "      <td>3.0</td>\n",
              "      <td>0.0</td>\n",
              "      <td>2.0</td>\n",
              "      <td>10/2012</td>\n",
              "    </tr>\n",
              "    <tr>\n",
              "      <th>41213</th>\n",
              "      <td>wizz-air</td>\n",
              "      <td>United Kingdom</td>\n",
              "      <td>Economy</td>\n",
              "      <td>1.0</td>\n",
              "      <td>2.0</td>\n",
              "      <td>1.0</td>\n",
              "      <td>0.0</td>\n",
              "      <td>0.0</td>\n",
              "      <td>3.0</td>\n",
              "      <td>10/2012</td>\n",
              "    </tr>\n",
              "    <tr>\n",
              "      <th>41216</th>\n",
              "      <td>wizz-air</td>\n",
              "      <td>United Kingdom</td>\n",
              "      <td>Economy</td>\n",
              "      <td>5.0</td>\n",
              "      <td>3.0</td>\n",
              "      <td>4.0</td>\n",
              "      <td>2.0</td>\n",
              "      <td>1.0</td>\n",
              "      <td>4.0</td>\n",
              "      <td>10/2012</td>\n",
              "    </tr>\n",
              "    <tr>\n",
              "      <th>41217</th>\n",
              "      <td>wizz-air</td>\n",
              "      <td>United Kingdom</td>\n",
              "      <td>Economy</td>\n",
              "      <td>1.0</td>\n",
              "      <td>2.0</td>\n",
              "      <td>3.0</td>\n",
              "      <td>2.0</td>\n",
              "      <td>0.0</td>\n",
              "      <td>2.0</td>\n",
              "      <td>10/2012</td>\n",
              "    </tr>\n",
              "  </tbody>\n",
              "</table>\n",
              "<p>27283 rows × 10 columns</p>\n",
              "</div>\n",
              "      <button class=\"colab-df-convert\" onclick=\"convertToInteractive('df-be18b317-6435-407f-a0cf-6cf5e818151b')\"\n",
              "              title=\"Convert this dataframe to an interactive table.\"\n",
              "              style=\"display:none;\">\n",
              "        \n",
              "  <svg xmlns=\"http://www.w3.org/2000/svg\" height=\"24px\"viewBox=\"0 0 24 24\"\n",
              "       width=\"24px\">\n",
              "    <path d=\"M0 0h24v24H0V0z\" fill=\"none\"/>\n",
              "    <path d=\"M18.56 5.44l.94 2.06.94-2.06 2.06-.94-2.06-.94-.94-2.06-.94 2.06-2.06.94zm-11 1L8.5 8.5l.94-2.06 2.06-.94-2.06-.94L8.5 2.5l-.94 2.06-2.06.94zm10 10l.94 2.06.94-2.06 2.06-.94-2.06-.94-.94-2.06-.94 2.06-2.06.94z\"/><path d=\"M17.41 7.96l-1.37-1.37c-.4-.4-.92-.59-1.43-.59-.52 0-1.04.2-1.43.59L10.3 9.45l-7.72 7.72c-.78.78-.78 2.05 0 2.83L4 21.41c.39.39.9.59 1.41.59.51 0 1.02-.2 1.41-.59l7.78-7.78 2.81-2.81c.8-.78.8-2.07 0-2.86zM5.41 20L4 18.59l7.72-7.72 1.47 1.35L5.41 20z\"/>\n",
              "  </svg>\n",
              "      </button>\n",
              "      \n",
              "  <style>\n",
              "    .colab-df-container {\n",
              "      display:flex;\n",
              "      flex-wrap:wrap;\n",
              "      gap: 12px;\n",
              "    }\n",
              "\n",
              "    .colab-df-convert {\n",
              "      background-color: #E8F0FE;\n",
              "      border: none;\n",
              "      border-radius: 50%;\n",
              "      cursor: pointer;\n",
              "      display: none;\n",
              "      fill: #1967D2;\n",
              "      height: 32px;\n",
              "      padding: 0 0 0 0;\n",
              "      width: 32px;\n",
              "    }\n",
              "\n",
              "    .colab-df-convert:hover {\n",
              "      background-color: #E2EBFA;\n",
              "      box-shadow: 0px 1px 2px rgba(60, 64, 67, 0.3), 0px 1px 3px 1px rgba(60, 64, 67, 0.15);\n",
              "      fill: #174EA6;\n",
              "    }\n",
              "\n",
              "    [theme=dark] .colab-df-convert {\n",
              "      background-color: #3B4455;\n",
              "      fill: #D2E3FC;\n",
              "    }\n",
              "\n",
              "    [theme=dark] .colab-df-convert:hover {\n",
              "      background-color: #434B5C;\n",
              "      box-shadow: 0px 1px 3px 1px rgba(0, 0, 0, 0.15);\n",
              "      filter: drop-shadow(0px 1px 2px rgba(0, 0, 0, 0.3));\n",
              "      fill: #FFFFFF;\n",
              "    }\n",
              "  </style>\n",
              "\n",
              "      <script>\n",
              "        const buttonEl =\n",
              "          document.querySelector('#df-be18b317-6435-407f-a0cf-6cf5e818151b button.colab-df-convert');\n",
              "        buttonEl.style.display =\n",
              "          google.colab.kernel.accessAllowed ? 'block' : 'none';\n",
              "\n",
              "        async function convertToInteractive(key) {\n",
              "          const element = document.querySelector('#df-be18b317-6435-407f-a0cf-6cf5e818151b');\n",
              "          const dataTable =\n",
              "            await google.colab.kernel.invokeFunction('convertToInteractive',\n",
              "                                                     [key], {});\n",
              "          if (!dataTable) return;\n",
              "\n",
              "          const docLinkHtml = 'Like what you see? Visit the ' +\n",
              "            '<a target=\"_blank\" href=https://colab.research.google.com/notebooks/data_table.ipynb>data table notebook</a>'\n",
              "            + ' to learn more about interactive tables.';\n",
              "          element.innerHTML = '';\n",
              "          dataTable['output_type'] = 'display_data';\n",
              "          await google.colab.output.renderOutput(dataTable, element);\n",
              "          const docLink = document.createElement('div');\n",
              "          docLink.innerHTML = docLinkHtml;\n",
              "          element.appendChild(docLink);\n",
              "        }\n",
              "      </script>\n",
              "    </div>\n",
              "  </div>\n",
              "  "
            ]
          },
          "metadata": {},
          "execution_count": 367
        }
      ]
    },
    {
      "cell_type": "code",
      "source": [
        "data.columns"
      ],
      "metadata": {
        "colab": {
          "base_uri": "https://localhost:8080/"
        },
        "id": "fEwQ0n2DBDIz",
        "outputId": "99a6ccf7-f066-4447-aa91-1256bd05fb22"
      },
      "execution_count": 341,
      "outputs": [
        {
          "output_type": "execute_result",
          "data": {
            "text/plain": [
              "Index(['airline_name', 'author', 'author_country', 'cabin_flown',\n",
              "       'overall_rating', 'seat_comfort_rating', 'cabin_staff_rating',\n",
              "       'food_beverages_rating', 'inflight_entertainment_rating',\n",
              "       'value_money_rating', 'recommended', 'date'],\n",
              "      dtype='object')"
            ]
          },
          "metadata": {},
          "execution_count": 341
        }
      ]
    },
    {
      "cell_type": "code",
      "source": [
        "X['date'] = LabelEncoder().fit_transform(X['date'])\n",
        "X['author_country'] = LabelEncoder().fit_transform(X['author_country'])\n",
        "X['cabin_flown'] = LabelEncoder().fit_transform(X['cabin_flown'])\n",
        "X['airline_name'] = LabelEncoder().fit_transform(X['airline_name'])\n",
        "feature1 = StandardScaler().fit_transform(feature1)"
      ],
      "metadata": {
        "id": "vx27thSMABqu"
      },
      "execution_count": 374,
      "outputs": []
    },
    {
      "cell_type": "code",
      "source": [
        "X"
      ],
      "metadata": {
        "colab": {
          "base_uri": "https://localhost:8080/",
          "height": 424
        },
        "id": "WwQKCZ0zB2rp",
        "outputId": "dc9fce24-8450-4af8-fc9d-33a5a1c3798a"
      },
      "execution_count": 375,
      "outputs": [
        {
          "output_type": "execute_result",
          "data": {
            "text/plain": [
              "       airline_name  author_country  cabin_flown  overall_rating  \\\n",
              "0                 0              47            1             7.0   \n",
              "1                 0             134            0            10.0   \n",
              "2                 0             123            1             9.0   \n",
              "3                 0             114            0             8.0   \n",
              "4                 0             104            1             4.0   \n",
              "...             ...             ...          ...             ...   \n",
              "41207           287             133            1             7.0   \n",
              "41210           287             133            1             2.0   \n",
              "41213           287             133            1             1.0   \n",
              "41216           287             133            1             5.0   \n",
              "41217           287             133            1             1.0   \n",
              "\n",
              "       seat_comfort_rating  cabin_staff_rating  food_beverages_rating  \\\n",
              "0                      4.0                 4.0                    4.0   \n",
              "1                      4.0                 5.0                    4.0   \n",
              "2                      5.0                 5.0                    4.0   \n",
              "3                      4.0                 4.0                    3.0   \n",
              "4                      4.0                 2.0                    1.0   \n",
              "...                    ...                 ...                    ...   \n",
              "41207                  3.0                 3.0                    0.0   \n",
              "41210                  1.0                 3.0                    3.0   \n",
              "41213                  2.0                 1.0                    0.0   \n",
              "41216                  3.0                 4.0                    2.0   \n",
              "41217                  2.0                 3.0                    2.0   \n",
              "\n",
              "       inflight_entertainment_rating  value_money_rating  date  \n",
              "0                                0.0                 4.0    27  \n",
              "1                                1.0                 5.0     3  \n",
              "2                                0.0                 5.0    46  \n",
              "3                                1.0                 4.0    46  \n",
              "4                                2.0                 2.0    34  \n",
              "...                              ...                 ...   ...  \n",
              "41207                            0.0                 5.0     5  \n",
              "41210                            0.0                 2.0     5  \n",
              "41213                            0.0                 3.0     5  \n",
              "41216                            1.0                 4.0     5  \n",
              "41217                            0.0                 2.0     5  \n",
              "\n",
              "[27283 rows x 10 columns]"
            ],
            "text/html": [
              "\n",
              "  <div id=\"df-ef9e30cf-6e9e-48b1-850d-bc7c816147ed\">\n",
              "    <div class=\"colab-df-container\">\n",
              "      <div>\n",
              "<style scoped>\n",
              "    .dataframe tbody tr th:only-of-type {\n",
              "        vertical-align: middle;\n",
              "    }\n",
              "\n",
              "    .dataframe tbody tr th {\n",
              "        vertical-align: top;\n",
              "    }\n",
              "\n",
              "    .dataframe thead th {\n",
              "        text-align: right;\n",
              "    }\n",
              "</style>\n",
              "<table border=\"1\" class=\"dataframe\">\n",
              "  <thead>\n",
              "    <tr style=\"text-align: right;\">\n",
              "      <th></th>\n",
              "      <th>airline_name</th>\n",
              "      <th>author_country</th>\n",
              "      <th>cabin_flown</th>\n",
              "      <th>overall_rating</th>\n",
              "      <th>seat_comfort_rating</th>\n",
              "      <th>cabin_staff_rating</th>\n",
              "      <th>food_beverages_rating</th>\n",
              "      <th>inflight_entertainment_rating</th>\n",
              "      <th>value_money_rating</th>\n",
              "      <th>date</th>\n",
              "    </tr>\n",
              "  </thead>\n",
              "  <tbody>\n",
              "    <tr>\n",
              "      <th>0</th>\n",
              "      <td>0</td>\n",
              "      <td>47</td>\n",
              "      <td>1</td>\n",
              "      <td>7.0</td>\n",
              "      <td>4.0</td>\n",
              "      <td>4.0</td>\n",
              "      <td>4.0</td>\n",
              "      <td>0.0</td>\n",
              "      <td>4.0</td>\n",
              "      <td>27</td>\n",
              "    </tr>\n",
              "    <tr>\n",
              "      <th>1</th>\n",
              "      <td>0</td>\n",
              "      <td>134</td>\n",
              "      <td>0</td>\n",
              "      <td>10.0</td>\n",
              "      <td>4.0</td>\n",
              "      <td>5.0</td>\n",
              "      <td>4.0</td>\n",
              "      <td>1.0</td>\n",
              "      <td>5.0</td>\n",
              "      <td>3</td>\n",
              "    </tr>\n",
              "    <tr>\n",
              "      <th>2</th>\n",
              "      <td>0</td>\n",
              "      <td>123</td>\n",
              "      <td>1</td>\n",
              "      <td>9.0</td>\n",
              "      <td>5.0</td>\n",
              "      <td>5.0</td>\n",
              "      <td>4.0</td>\n",
              "      <td>0.0</td>\n",
              "      <td>5.0</td>\n",
              "      <td>46</td>\n",
              "    </tr>\n",
              "    <tr>\n",
              "      <th>3</th>\n",
              "      <td>0</td>\n",
              "      <td>114</td>\n",
              "      <td>0</td>\n",
              "      <td>8.0</td>\n",
              "      <td>4.0</td>\n",
              "      <td>4.0</td>\n",
              "      <td>3.0</td>\n",
              "      <td>1.0</td>\n",
              "      <td>4.0</td>\n",
              "      <td>46</td>\n",
              "    </tr>\n",
              "    <tr>\n",
              "      <th>4</th>\n",
              "      <td>0</td>\n",
              "      <td>104</td>\n",
              "      <td>1</td>\n",
              "      <td>4.0</td>\n",
              "      <td>4.0</td>\n",
              "      <td>2.0</td>\n",
              "      <td>1.0</td>\n",
              "      <td>2.0</td>\n",
              "      <td>2.0</td>\n",
              "      <td>34</td>\n",
              "    </tr>\n",
              "    <tr>\n",
              "      <th>...</th>\n",
              "      <td>...</td>\n",
              "      <td>...</td>\n",
              "      <td>...</td>\n",
              "      <td>...</td>\n",
              "      <td>...</td>\n",
              "      <td>...</td>\n",
              "      <td>...</td>\n",
              "      <td>...</td>\n",
              "      <td>...</td>\n",
              "      <td>...</td>\n",
              "    </tr>\n",
              "    <tr>\n",
              "      <th>41207</th>\n",
              "      <td>287</td>\n",
              "      <td>133</td>\n",
              "      <td>1</td>\n",
              "      <td>7.0</td>\n",
              "      <td>3.0</td>\n",
              "      <td>3.0</td>\n",
              "      <td>0.0</td>\n",
              "      <td>0.0</td>\n",
              "      <td>5.0</td>\n",
              "      <td>5</td>\n",
              "    </tr>\n",
              "    <tr>\n",
              "      <th>41210</th>\n",
              "      <td>287</td>\n",
              "      <td>133</td>\n",
              "      <td>1</td>\n",
              "      <td>2.0</td>\n",
              "      <td>1.0</td>\n",
              "      <td>3.0</td>\n",
              "      <td>3.0</td>\n",
              "      <td>0.0</td>\n",
              "      <td>2.0</td>\n",
              "      <td>5</td>\n",
              "    </tr>\n",
              "    <tr>\n",
              "      <th>41213</th>\n",
              "      <td>287</td>\n",
              "      <td>133</td>\n",
              "      <td>1</td>\n",
              "      <td>1.0</td>\n",
              "      <td>2.0</td>\n",
              "      <td>1.0</td>\n",
              "      <td>0.0</td>\n",
              "      <td>0.0</td>\n",
              "      <td>3.0</td>\n",
              "      <td>5</td>\n",
              "    </tr>\n",
              "    <tr>\n",
              "      <th>41216</th>\n",
              "      <td>287</td>\n",
              "      <td>133</td>\n",
              "      <td>1</td>\n",
              "      <td>5.0</td>\n",
              "      <td>3.0</td>\n",
              "      <td>4.0</td>\n",
              "      <td>2.0</td>\n",
              "      <td>1.0</td>\n",
              "      <td>4.0</td>\n",
              "      <td>5</td>\n",
              "    </tr>\n",
              "    <tr>\n",
              "      <th>41217</th>\n",
              "      <td>287</td>\n",
              "      <td>133</td>\n",
              "      <td>1</td>\n",
              "      <td>1.0</td>\n",
              "      <td>2.0</td>\n",
              "      <td>3.0</td>\n",
              "      <td>2.0</td>\n",
              "      <td>0.0</td>\n",
              "      <td>2.0</td>\n",
              "      <td>5</td>\n",
              "    </tr>\n",
              "  </tbody>\n",
              "</table>\n",
              "<p>27283 rows × 10 columns</p>\n",
              "</div>\n",
              "      <button class=\"colab-df-convert\" onclick=\"convertToInteractive('df-ef9e30cf-6e9e-48b1-850d-bc7c816147ed')\"\n",
              "              title=\"Convert this dataframe to an interactive table.\"\n",
              "              style=\"display:none;\">\n",
              "        \n",
              "  <svg xmlns=\"http://www.w3.org/2000/svg\" height=\"24px\"viewBox=\"0 0 24 24\"\n",
              "       width=\"24px\">\n",
              "    <path d=\"M0 0h24v24H0V0z\" fill=\"none\"/>\n",
              "    <path d=\"M18.56 5.44l.94 2.06.94-2.06 2.06-.94-2.06-.94-.94-2.06-.94 2.06-2.06.94zm-11 1L8.5 8.5l.94-2.06 2.06-.94-2.06-.94L8.5 2.5l-.94 2.06-2.06.94zm10 10l.94 2.06.94-2.06 2.06-.94-2.06-.94-.94-2.06-.94 2.06-2.06.94z\"/><path d=\"M17.41 7.96l-1.37-1.37c-.4-.4-.92-.59-1.43-.59-.52 0-1.04.2-1.43.59L10.3 9.45l-7.72 7.72c-.78.78-.78 2.05 0 2.83L4 21.41c.39.39.9.59 1.41.59.51 0 1.02-.2 1.41-.59l7.78-7.78 2.81-2.81c.8-.78.8-2.07 0-2.86zM5.41 20L4 18.59l7.72-7.72 1.47 1.35L5.41 20z\"/>\n",
              "  </svg>\n",
              "      </button>\n",
              "      \n",
              "  <style>\n",
              "    .colab-df-container {\n",
              "      display:flex;\n",
              "      flex-wrap:wrap;\n",
              "      gap: 12px;\n",
              "    }\n",
              "\n",
              "    .colab-df-convert {\n",
              "      background-color: #E8F0FE;\n",
              "      border: none;\n",
              "      border-radius: 50%;\n",
              "      cursor: pointer;\n",
              "      display: none;\n",
              "      fill: #1967D2;\n",
              "      height: 32px;\n",
              "      padding: 0 0 0 0;\n",
              "      width: 32px;\n",
              "    }\n",
              "\n",
              "    .colab-df-convert:hover {\n",
              "      background-color: #E2EBFA;\n",
              "      box-shadow: 0px 1px 2px rgba(60, 64, 67, 0.3), 0px 1px 3px 1px rgba(60, 64, 67, 0.15);\n",
              "      fill: #174EA6;\n",
              "    }\n",
              "\n",
              "    [theme=dark] .colab-df-convert {\n",
              "      background-color: #3B4455;\n",
              "      fill: #D2E3FC;\n",
              "    }\n",
              "\n",
              "    [theme=dark] .colab-df-convert:hover {\n",
              "      background-color: #434B5C;\n",
              "      box-shadow: 0px 1px 3px 1px rgba(0, 0, 0, 0.15);\n",
              "      filter: drop-shadow(0px 1px 2px rgba(0, 0, 0, 0.3));\n",
              "      fill: #FFFFFF;\n",
              "    }\n",
              "  </style>\n",
              "\n",
              "      <script>\n",
              "        const buttonEl =\n",
              "          document.querySelector('#df-ef9e30cf-6e9e-48b1-850d-bc7c816147ed button.colab-df-convert');\n",
              "        buttonEl.style.display =\n",
              "          google.colab.kernel.accessAllowed ? 'block' : 'none';\n",
              "\n",
              "        async function convertToInteractive(key) {\n",
              "          const element = document.querySelector('#df-ef9e30cf-6e9e-48b1-850d-bc7c816147ed');\n",
              "          const dataTable =\n",
              "            await google.colab.kernel.invokeFunction('convertToInteractive',\n",
              "                                                     [key], {});\n",
              "          if (!dataTable) return;\n",
              "\n",
              "          const docLinkHtml = 'Like what you see? Visit the ' +\n",
              "            '<a target=\"_blank\" href=https://colab.research.google.com/notebooks/data_table.ipynb>data table notebook</a>'\n",
              "            + ' to learn more about interactive tables.';\n",
              "          element.innerHTML = '';\n",
              "          dataTable['output_type'] = 'display_data';\n",
              "          await google.colab.output.renderOutput(dataTable, element);\n",
              "          const docLink = document.createElement('div');\n",
              "          docLink.innerHTML = docLinkHtml;\n",
              "          element.appendChild(docLink);\n",
              "        }\n",
              "      </script>\n",
              "    </div>\n",
              "  </div>\n",
              "  "
            ]
          },
          "metadata": {},
          "execution_count": 375
        }
      ]
    },
    {
      "cell_type": "code",
      "source": [
        "X_train,X_test,y_train,y_test=train_test_split(X,y,test_size = 0.2,random_state=42)"
      ],
      "metadata": {
        "id": "Ds1sC69bB5Xn"
      },
      "execution_count": 376,
      "outputs": []
    },
    {
      "cell_type": "code",
      "source": [
        "reg_model = LinearRegression()\n",
        "reg_model.fit(X_train,y_train)"
      ],
      "metadata": {
        "colab": {
          "base_uri": "https://localhost:8080/"
        },
        "id": "H3RL3Qe9NA3q",
        "outputId": "c07f6d35-64ff-46ab-c3a6-0479fd6f67a3"
      },
      "execution_count": 377,
      "outputs": [
        {
          "output_type": "execute_result",
          "data": {
            "text/plain": [
              "LinearRegression()"
            ]
          },
          "metadata": {},
          "execution_count": 377
        }
      ]
    },
    {
      "cell_type": "code",
      "source": [
        "predict = reg_model.predict(X_test)"
      ],
      "metadata": {
        "id": "iAPUgdjbNAzW"
      },
      "execution_count": 378,
      "outputs": []
    },
    {
      "cell_type": "code",
      "source": [
        "accuracy_score(y_test, predict.round()) "
      ],
      "metadata": {
        "colab": {
          "base_uri": "https://localhost:8080/"
        },
        "id": "gOYWAJm4NAvA",
        "outputId": "82f1e560-5d9f-460a-bebc-519265d4942f"
      },
      "execution_count": 379,
      "outputs": [
        {
          "output_type": "execute_result",
          "data": {
            "text/plain": [
              "0.9459409932197178"
            ]
          },
          "metadata": {},
          "execution_count": 379
        }
      ]
    },
    {
      "cell_type": "code",
      "source": [
        "new = np.asarray(y_test)\n",
        "confusion_matrix(y_test, predict.round())"
      ],
      "metadata": {
        "colab": {
          "base_uri": "https://localhost:8080/"
        },
        "id": "drc6x63hNSXF",
        "outputId": "dc2e0740-3683-4e0d-e6db-4dc0512f5ba6"
      },
      "execution_count": 380,
      "outputs": [
        {
          "output_type": "execute_result",
          "data": {
            "text/plain": [
              "array([[1995,  145],\n",
              "       [ 150, 3167]])"
            ]
          },
          "metadata": {},
          "execution_count": 380
        }
      ]
    },
    {
      "cell_type": "code",
      "source": [
        "print(classification_report(y_test, predict.round()))"
      ],
      "metadata": {
        "colab": {
          "base_uri": "https://localhost:8080/"
        },
        "id": "o2PRiX6oNSSq",
        "outputId": "f3a1c210-81bb-47b5-884e-87d0ea49b6bf"
      },
      "execution_count": 381,
      "outputs": [
        {
          "output_type": "stream",
          "name": "stdout",
          "text": [
            "              precision    recall  f1-score   support\n",
            "\n",
            "           0       0.93      0.93      0.93      2140\n",
            "           1       0.96      0.95      0.96      3317\n",
            "\n",
            "    accuracy                           0.95      5457\n",
            "   macro avg       0.94      0.94      0.94      5457\n",
            "weighted avg       0.95      0.95      0.95      5457\n",
            "\n"
          ]
        }
      ]
    },
    {
      "cell_type": "code",
      "source": [
        "# Let us explore the coefficients for each of the independent attributes\n",
        "\n",
        "for idx, col_name in enumerate(X_train.columns):\n",
        "    print(\"The coefficient for {} is {}\".format(col_name, reg_model.coef_[idx]))\n",
        "    \n",
        "# Model intercept\n",
        "intercept = reg_model.intercept_\n",
        "print(\"The intercept for our model is {}\".format(intercept))"
      ],
      "metadata": {
        "colab": {
          "base_uri": "https://localhost:8080/"
        },
        "id": "RjwDcbuIRmIk",
        "outputId": "37b6d2ad-bea9-49bb-9bab-d2b15d839ecd"
      },
      "execution_count": 395,
      "outputs": [
        {
          "output_type": "stream",
          "name": "stdout",
          "text": [
            "The coefficient for airline_name is -1.1391809555757178e-05\n",
            "The coefficient for author_country is -8.353375883757156e-05\n",
            "The coefficient for cabin_flown is 0.0009852439514306992\n",
            "The coefficient for overall_rating is 0.11072721648204956\n",
            "The coefficient for seat_comfort_rating is 0.0038880002775336995\n",
            "The coefficient for cabin_staff_rating is 0.0182538150885649\n",
            "The coefficient for food_beverages_rating is 0.0011439685873684037\n",
            "The coefficient for inflight_entertainment_rating is -0.0033319452006229993\n",
            "The coefficient for value_money_rating is 0.04024583652844989\n",
            "The coefficient for date is -0.0001047793859865346\n",
            "The intercept for our model is -0.2673133825947529\n"
          ]
        }
      ]
    },
    {
      "cell_type": "markdown",
      "source": [
        "#### Decision Tree Classifier\n",
        "References:\n",
        "1. https://scikit-learn.org/stable/modules/tree.html\n",
        "2. https://www.datacamp.com/tutorial/decision-tree-classification-python"
      ],
      "metadata": {
        "id": "aDPPUCBpRIR3"
      }
    },
    {
      "cell_type": "code",
      "source": [
        "X_train,X_test,y_train,y_test=train_test_split(X,y,test_size = 0.2,random_state=42)"
      ],
      "metadata": {
        "id": "1NoWeue6NSOG"
      },
      "execution_count": 383,
      "outputs": []
    },
    {
      "cell_type": "code",
      "source": [
        "clf = DecisionTreeClassifier(max_depth =3, random_state = 42)"
      ],
      "metadata": {
        "id": "5jAnE4kv1wNO"
      },
      "execution_count": 384,
      "outputs": []
    },
    {
      "cell_type": "code",
      "source": [
        "clf.fit(X_train, y_train)"
      ],
      "metadata": {
        "colab": {
          "base_uri": "https://localhost:8080/"
        },
        "id": "ZyLdtKZ6vbpd",
        "outputId": "f3294ea9-8bc0-4a22-9205-9027a397aa43"
      },
      "execution_count": 385,
      "outputs": [
        {
          "output_type": "execute_result",
          "data": {
            "text/plain": [
              "DecisionTreeClassifier(max_depth=3, random_state=42)"
            ]
          },
          "metadata": {},
          "execution_count": 385
        }
      ]
    },
    {
      "cell_type": "code",
      "source": [
        "test_pred_decision_tree = clf.predict(X_test)"
      ],
      "metadata": {
        "id": "e6oT-kHV15-X"
      },
      "execution_count": 386,
      "outputs": []
    },
    {
      "cell_type": "code",
      "source": [
        "#import the relevant packages\n",
        "from sklearn import metrics\n",
        "import seaborn as sns\n",
        "import matplotlib.pyplot as plt\n",
        "#get the confusion matrix\n",
        "confusion_matrix = metrics.confusion_matrix(y_test,  \n",
        "                                            test_pred_decision_tree)\n",
        "#turn this into a dataframe\n",
        "matrix_df = pd.DataFrame(confusion_matrix)\n",
        "#plot the result\n",
        "ax = plt.axes()\n",
        "sns.set(font_scale=1.3)\n",
        "plt.figure(figsize=(10,7))\n",
        "sns.heatmap(matrix_df, annot=True, fmt=\"g\", ax=ax, cmap=\"magma\")\n",
        "#set axis titles\n",
        "ax.set_title('Confusion Matrix - Decision Tree')\n",
        "ax.set_xlabel(\"Predicted label\", fontsize =15)\n",
        "# ax.set_xticklabels(['']+labels)\n",
        "ax.set_ylabel(\"True Label\", fontsize=15)\n",
        "# ax.set_yticklabels(list(labels), rotation = 0)\n",
        "plt.show()"
      ],
      "metadata": {
        "colab": {
          "base_uri": "https://localhost:8080/",
          "height": 319
        },
        "id": "ko8vYS7R2cFW",
        "outputId": "a92b1706-77b5-4dbd-e052-8f695cdf18b3"
      },
      "execution_count": 387,
      "outputs": [
        {
          "output_type": "display_data",
          "data": {
            "text/plain": [
              "<Figure size 432x288 with 2 Axes>"
            ],
            "image/png": "[encoded data removed]"
          },
          "metadata": {
            "needs_background": "light"
          }
        },
        {
          "output_type": "display_data",
          "data": {
            "text/plain": [
              "<Figure size 720x504 with 0 Axes>"
            ]
          },
          "metadata": {}
        }
      ]
    },
    {
      "cell_type": "code",
      "source": [
        "metrics.accuracy_score(y_test, test_pred_decision_tree)"
      ],
      "metadata": {
        "colab": {
          "base_uri": "https://localhost:8080/"
        },
        "id": "Y5GA1Sw02xfK",
        "outputId": "0cd6522c-8d66-4bcf-e376-327af21378d4"
      },
      "execution_count": 388,
      "outputs": [
        {
          "output_type": "execute_result",
          "data": {
            "text/plain": [
              "0.9417262231995602"
            ]
          },
          "metadata": {},
          "execution_count": 388
        }
      ]
    },
    {
      "cell_type": "code",
      "source": [
        "# extract importance\n",
        "importance = pd.DataFrame({'feature': X_train.columns, 'importance' : np.round(clf.feature_importances_, 3)})\n",
        "importance.sort_values('importance', ascending=True, inplace = True)\n",
        "print(importance)"
      ],
      "metadata": {
        "colab": {
          "base_uri": "https://localhost:8080/"
        },
        "id": "utKwVB453Axp",
        "outputId": "abfe3ab2-773b-46c2-8045-a0f8bee003be"
      },
      "execution_count": 389,
      "outputs": [
        {
          "output_type": "stream",
          "name": "stdout",
          "text": [
            "                         feature  importance\n",
            "0                   airline_name       0.000\n",
            "1                 author_country       0.000\n",
            "2                    cabin_flown       0.000\n",
            "4            seat_comfort_rating       0.000\n",
            "5             cabin_staff_rating       0.000\n",
            "6          food_beverages_rating       0.000\n",
            "7  inflight_entertainment_rating       0.000\n",
            "9                           date       0.000\n",
            "8             value_money_rating       0.009\n",
            "3                 overall_rating       0.991\n"
          ]
        }
      ]
    },
    {
      "cell_type": "code",
      "source": [
        "print(metrics.classification_report(y_test,\n",
        "                                    test_pred_decision_tree))"
      ],
      "metadata": {
        "colab": {
          "base_uri": "https://localhost:8080/"
        },
        "id": "wzTVLJFm3RbC",
        "outputId": "27f05327-98a5-4171-d88e-4d7fa1a4a628"
      },
      "execution_count": 390,
      "outputs": [
        {
          "output_type": "stream",
          "name": "stdout",
          "text": [
            "              precision    recall  f1-score   support\n",
            "\n",
            "           0       0.93      0.92      0.93      2140\n",
            "           1       0.95      0.95      0.95      3317\n",
            "\n",
            "    accuracy                           0.94      5457\n",
            "   macro avg       0.94      0.94      0.94      5457\n",
            "weighted avg       0.94      0.94      0.94      5457\n",
            "\n"
          ]
        }
      ]
    },
    {
      "cell_type": "code",
      "source": [
        "from sklearn import tree\n",
        "tree.plot_tree(clf)"
      ],
      "metadata": {
        "colab": {
          "base_uri": "https://localhost:8080/",
          "height": 508
        },
        "id": "OUyYq8_rSk2Y",
        "outputId": "9bb9f157-a291-49d6-ac6b-e6bd9b311bdb"
      },
      "execution_count": 415,
      "outputs": [
        {
          "output_type": "execute_result",
          "data": {
            "text/plain": [
              "[Text(0.5, 0.875, 'X[3] <= 5.5\\ngini = 0.479\\nsamples = 21826\\nvalue = [8667, 13159]'),\n",
              " Text(0.25, 0.625, 'X[3] <= 4.5\\ngini = 0.147\\nsamples = 8855\\nvalue = [8146, 709]'),\n",
              " Text(0.125, 0.375, 'X[3] <= 3.5\\ngini = 0.048\\nsamples = 7363\\nvalue = [7182, 181]'),\n",
              " Text(0.0625, 0.125, 'gini = 0.022\\nsamples = 6384\\nvalue = [6313, 71]'),\n",
              " Text(0.1875, 0.125, 'gini = 0.199\\nsamples = 979\\nvalue = [869, 110]'),\n",
              " Text(0.375, 0.375, 'X[8] <= 3.5\\ngini = 0.457\\nsamples = 1492\\nvalue = [964, 528]'),\n",
              " Text(0.3125, 0.125, 'gini = 0.395\\nsamples = 1035\\nvalue = [755, 280]'),\n",
              " Text(0.4375, 0.125, 'gini = 0.496\\nsamples = 457\\nvalue = [209, 248]'),\n",
              " Text(0.75, 0.625, 'X[3] <= 6.5\\ngini = 0.077\\nsamples = 12971\\nvalue = [521, 12450]'),\n",
              " Text(0.625, 0.375, 'X[8] <= 2.5\\ngini = 0.438\\nsamples = 1101\\nvalue = [356, 745]'),\n",
              " Text(0.5625, 0.125, 'gini = 0.472\\nsamples = 102\\nvalue = [63, 39]'),\n",
              " Text(0.6875, 0.125, 'gini = 0.415\\nsamples = 999\\nvalue = [293, 706]'),\n",
              " Text(0.875, 0.375, 'X[8] <= 3.5\\ngini = 0.027\\nsamples = 11870\\nvalue = [165, 11705]'),\n",
              " Text(0.8125, 0.125, 'gini = 0.16\\nsamples = 1162\\nvalue = [102, 1060]'),\n",
              " Text(0.9375, 0.125, 'gini = 0.012\\nsamples = 10708\\nvalue = [63, 10645]')]"
            ]
          },
          "metadata": {},
          "execution_count": 415
        },
        {
          "output_type": "display_data",
          "data": {
            "text/plain": [
              "<Figure size 432x288 with 1 Axes>"
            ],
            "image/png": "[encoded data removed]"
          },
          "metadata": {}
        }
      ]
    },
    {
      "cell_type": "markdown",
      "source": [
        "#### Logistic Regression"
      ],
      "metadata": {
        "id": "cQu0ZplmFCdD"
      }
    },
    {
      "cell_type": "code",
      "source": [
        "from sklearn.linear_model import LogisticRegression"
      ],
      "metadata": {
        "id": "dqUia0PsFBno"
      },
      "execution_count": 225,
      "outputs": []
    },
    {
      "cell_type": "code",
      "source": [
        "X_train,X_test,y_train,y_test=train_test_split(X,y,test_size = 0.2,random_state=42)"
      ],
      "metadata": {
        "id": "Pz8w32cAsaWl"
      },
      "execution_count": 397,
      "outputs": []
    },
    {
      "cell_type": "code",
      "source": [
        "log_reg_model = LogisticRegression()\n",
        "log_reg_model.fit(X_train,y_train)"
      ],
      "metadata": {
        "colab": {
          "base_uri": "https://localhost:8080/"
        },
        "id": "W8ZY7Dx7shYX",
        "outputId": "38703d07-7295-4a55-cb6c-11a559cd942a"
      },
      "execution_count": 398,
      "outputs": [
        {
          "output_type": "stream",
          "name": "stderr",
          "text": [
            "/usr/local/lib/python3.8/dist-packages/sklearn/linear_model/_logistic.py:814: ConvergenceWarning: lbfgs failed to converge (status=1):\n",
            "STOP: TOTAL NO. of ITERATIONS REACHED LIMIT.\n",
            "\n",
            "Increase the number of iterations (max_iter) or scale the data as shown in:\n",
            "    https://scikit-learn.org/stable/modules/preprocessing.html\n",
            "Please also refer to the documentation for alternative solver options:\n",
            "    https://scikit-learn.org/stable/modules/linear_model.html#logistic-regression\n",
            "  n_iter_i = _check_optimize_result(\n"
          ]
        },
        {
          "output_type": "execute_result",
          "data": {
            "text/plain": [
              "LogisticRegression()"
            ]
          },
          "metadata": {},
          "execution_count": 398
        }
      ]
    },
    {
      "cell_type": "code",
      "source": [
        "predict = log_reg_model.predict(X_test)"
      ],
      "metadata": {
        "id": "-8ZDlfURshRr"
      },
      "execution_count": 400,
      "outputs": []
    },
    {
      "cell_type": "code",
      "source": [
        "accuracy_score(y_test, predict)"
      ],
      "metadata": {
        "colab": {
          "base_uri": "https://localhost:8080/"
        },
        "id": "mhEPP9gKshLf",
        "outputId": "793277d4-38d1-4139-dd37-e164325698aa"
      },
      "execution_count": 401,
      "outputs": [
        {
          "output_type": "execute_result",
          "data": {
            "text/plain": [
              "0.9358621953454279"
            ]
          },
          "metadata": {},
          "execution_count": 401
        }
      ]
    },
    {
      "cell_type": "code",
      "source": [
        "print(classification_report(y_test, predict.round()))"
      ],
      "metadata": {
        "colab": {
          "base_uri": "https://localhost:8080/"
        },
        "id": "SKsUsbHus5ot",
        "outputId": "07d963d3-a779-430f-d015-e9d4418a8cf8"
      },
      "execution_count": 405,
      "outputs": [
        {
          "output_type": "stream",
          "name": "stdout",
          "text": [
            "              precision    recall  f1-score   support\n",
            "\n",
            "           0       0.93      0.90      0.92      2140\n",
            "           1       0.94      0.96      0.95      3317\n",
            "\n",
            "    accuracy                           0.94      5457\n",
            "   macro avg       0.93      0.93      0.93      5457\n",
            "weighted avg       0.94      0.94      0.94      5457\n",
            "\n"
          ]
        }
      ]
    },
    {
      "cell_type": "markdown",
      "source": [
        "#### K Nearest Neighbour"
      ],
      "metadata": {
        "id": "WURQxajftR6A"
      }
    },
    {
      "cell_type": "code",
      "source": [
        "from sklearn.neighbors import KNeighborsClassifier"
      ],
      "metadata": {
        "id": "uP1Bm1EJtw9O"
      },
      "execution_count": 406,
      "outputs": []
    },
    {
      "cell_type": "code",
      "source": [
        "knn_model = KNeighborsClassifier(n_neighbors=5)"
      ],
      "metadata": {
        "id": "t3qEbm8htyJ6"
      },
      "execution_count": 407,
      "outputs": []
    },
    {
      "cell_type": "code",
      "source": [
        "knn_model.fit(X_train,y_train)"
      ],
      "metadata": {
        "colab": {
          "base_uri": "https://localhost:8080/"
        },
        "id": "wrIpCfIst3Pb",
        "outputId": "3114845f-d0c5-4da2-9dcc-fd96f5e3b1c5"
      },
      "execution_count": 408,
      "outputs": [
        {
          "output_type": "execute_result",
          "data": {
            "text/plain": [
              "KNeighborsClassifier()"
            ]
          },
          "metadata": {},
          "execution_count": 408
        }
      ]
    },
    {
      "cell_type": "code",
      "source": [
        "predict = knn_model.predict(X_test)"
      ],
      "metadata": {
        "id": "2lXZsx84t3J9"
      },
      "execution_count": 409,
      "outputs": []
    },
    {
      "cell_type": "code",
      "source": [
        "accuracy_score(y_test, predict)"
      ],
      "metadata": {
        "colab": {
          "base_uri": "https://localhost:8080/"
        },
        "id": "cb8itYKxuDEY",
        "outputId": "ab1d684c-9d5b-4c30-b5c0-9da3c55f1a43"
      },
      "execution_count": 410,
      "outputs": [
        {
          "output_type": "execute_result",
          "data": {
            "text/plain": [
              "0.9120395821880154"
            ]
          },
          "metadata": {},
          "execution_count": 410
        }
      ]
    },
    {
      "cell_type": "code",
      "source": [
        "print(classification_report(predict.round(), y_test))"
      ],
      "metadata": {
        "colab": {
          "base_uri": "https://localhost:8080/"
        },
        "id": "55p3qzkNuKLH",
        "outputId": "51aae2b4-52e5-43f1-9cc5-f81961adcca0"
      },
      "execution_count": 412,
      "outputs": [
        {
          "output_type": "stream",
          "name": "stdout",
          "text": [
            "              precision    recall  f1-score   support\n",
            "\n",
            "           0       0.85      0.92      0.88      1986\n",
            "           1       0.95      0.91      0.93      3471\n",
            "\n",
            "    accuracy                           0.91      5457\n",
            "   macro avg       0.90      0.91      0.91      5457\n",
            "weighted avg       0.91      0.91      0.91      5457\n",
            "\n"
          ]
        }
      ]
    },
    {
      "cell_type": "markdown",
      "source": [
        "### Association Rules Mining"
      ],
      "metadata": {
        "id": "1oDuE9EEjlHY"
      }
    },
    {
      "cell_type": "markdown",
      "source": [
        "#### Apriori Algorithm\n",
        "References:\n",
        "1. https://intellipaat.com/blog/data-science-apriori-algorithm/\n",
        "2. https://www.geeksforgeeks.org/implementing-apriori-algorithm-in-python/\n",
        "3. https://analyticsindiamag.com/beginners-guide-to-understanding-apriori-algorithm-with-implementation-in-python/\n",
        "4. https://libraries.io/pypi/apyori"
      ],
      "metadata": {
        "id": "sdt7dvwMV5dK"
      }
    },
    {
      "cell_type": "code",
      "source": [
        "!pip install apyori"
      ],
      "metadata": {
        "colab": {
          "base_uri": "https://localhost:8080/"
        },
        "id": "ItFh7QFMWKqh",
        "outputId": "52fe2c05-89d2-4936-a7a4-504dcca2db87"
      },
      "execution_count": 444,
      "outputs": [
        {
          "output_type": "stream",
          "name": "stdout",
          "text": [
            "Looking in indexes: https://pypi.org/simple, https://us-python.pkg.dev/colab-wheels/public/simple/\n",
            "Collecting apyori\n",
            "  Downloading apyori-1.1.2.tar.gz (8.6 kB)\n",
            "Building wheels for collected packages: apyori\n",
            "  Building wheel for apyori (setup.py) ... \u001b[?25l\u001b[?25hdone\n",
            "  Created wheel for apyori: filename=apyori-1.1.2-py3-none-any.whl size=5973 sha256=ec48d9a659252887ca5d6577a278e512670f3907dbab29df14805d2c632648b4\n",
            "  Stored in directory: /root/.cache/pip/wheels/1b/02/6c/a45230be8603bd95c0a51cd2b289aefdd860c1a100eab73661\n",
            "Successfully built apyori\n",
            "Installing collected packages: apyori\n",
            "Successfully installed apyori-1.1.2\n"
          ]
        }
      ]
    },
    {
      "cell_type": "code",
      "source": [
        "from apyori import apriori"
      ],
      "metadata": {
        "id": "5A20Y8l_V-zO"
      },
      "execution_count": 445,
      "outputs": []
    },
    {
      "cell_type": "code",
      "source": [
        "\n",
        "data.pop('author')\n",
        "data.pop('author_country')\n",
        "data.pop('cabin_flown')\n",
        "data.pop('seat_comfort_rating')\n",
        "data.pop('cabin_staff_rating')\n",
        "data.pop('food_beverages_rating')\n",
        "data.pop('inflight_entertainment_rating')\n",
        "data.pop('value_money_rating')\n",
        "data.pop('date')\n",
        "# ['airline_name', 'author', 'author_country', 'cabin_flown',\n",
        "#        'overall_rating', 'seat_comfort_rating', 'cabin_staff_rating',\n",
        "#        'food_beverages_rating', 'inflight_entertainment_rating',\n",
        "#        'value_money_rating', 'recommended', 'date'"
      ],
      "metadata": {
        "id": "ArOFAU6UXuZZ",
        "colab": {
          "base_uri": "https://localhost:8080/"
        },
        "outputId": "56222bb4-d80d-4f6a-feb1-682a425294ed"
      },
      "execution_count": 480,
      "outputs": [
        {
          "output_type": "execute_result",
          "data": {
            "text/plain": [
              "0         4/2015\n",
              "1         1/2015\n",
              "2         9/2014\n",
              "3         9/2014\n",
              "4         6/2014\n",
              "          ...   \n",
              "41207    10/2012\n",
              "41210    10/2012\n",
              "41213    10/2012\n",
              "41216    10/2012\n",
              "41217    10/2012\n",
              "Name: date, Length: 27283, dtype: object"
            ]
          },
          "metadata": {},
          "execution_count": 480
        }
      ]
    },
    {
      "cell_type": "code",
      "source": [
        "data['recommended'] = data['recommended'].replace(1,'Yes')\n",
        "data['recommended'] = data['recommended'].replace(0,'No')"
      ],
      "metadata": {
        "id": "Ubvf6SWEilDs"
      },
      "execution_count": 499,
      "outputs": []
    },
    {
      "cell_type": "code",
      "source": [
        "data.head()"
      ],
      "metadata": {
        "colab": {
          "base_uri": "https://localhost:8080/",
          "height": 206
        },
        "id": "UiLLsAJNY2Gp",
        "outputId": "5dc7b962-3d4d-4d93-a3fc-c94242520d6c"
      },
      "execution_count": 500,
      "outputs": [
        {
          "output_type": "execute_result",
          "data": {
            "text/plain": [
              "    airline_name  overall_rating recommended\n",
              "0  adria-airways             7.0         Yes\n",
              "1  adria-airways            10.0         Yes\n",
              "2  adria-airways             9.0         Yes\n",
              "3  adria-airways             8.0         Yes\n",
              "4  adria-airways             4.0          No"
            ],
            "text/html": [
              "\n",
              "  <div id=\"df-01b38b3e-2874-47ae-860b-2cee832078ee\">\n",
              "    <div class=\"colab-df-container\">\n",
              "      <div>\n",
              "<style scoped>\n",
              "    .dataframe tbody tr th:only-of-type {\n",
              "        vertical-align: middle;\n",
              "    }\n",
              "\n",
              "    .dataframe tbody tr th {\n",
              "        vertical-align: top;\n",
              "    }\n",
              "\n",
              "    .dataframe thead th {\n",
              "        text-align: right;\n",
              "    }\n",
              "</style>\n",
              "<table border=\"1\" class=\"dataframe\">\n",
              "  <thead>\n",
              "    <tr style=\"text-align: right;\">\n",
              "      <th></th>\n",
              "      <th>airline_name</th>\n",
              "      <th>overall_rating</th>\n",
              "      <th>recommended</th>\n",
              "    </tr>\n",
              "  </thead>\n",
              "  <tbody>\n",
              "    <tr>\n",
              "      <th>0</th>\n",
              "      <td>adria-airways</td>\n",
              "      <td>7.0</td>\n",
              "      <td>Yes</td>\n",
              "    </tr>\n",
              "    <tr>\n",
              "      <th>1</th>\n",
              "      <td>adria-airways</td>\n",
              "      <td>10.0</td>\n",
              "      <td>Yes</td>\n",
              "    </tr>\n",
              "    <tr>\n",
              "      <th>2</th>\n",
              "      <td>adria-airways</td>\n",
              "      <td>9.0</td>\n",
              "      <td>Yes</td>\n",
              "    </tr>\n",
              "    <tr>\n",
              "      <th>3</th>\n",
              "      <td>adria-airways</td>\n",
              "      <td>8.0</td>\n",
              "      <td>Yes</td>\n",
              "    </tr>\n",
              "    <tr>\n",
              "      <th>4</th>\n",
              "      <td>adria-airways</td>\n",
              "      <td>4.0</td>\n",
              "      <td>No</td>\n",
              "    </tr>\n",
              "  </tbody>\n",
              "</table>\n",
              "</div>\n",
              "      <button class=\"colab-df-convert\" onclick=\"convertToInteractive('df-01b38b3e-2874-47ae-860b-2cee832078ee')\"\n",
              "              title=\"Convert this dataframe to an interactive table.\"\n",
              "              style=\"display:none;\">\n",
              "        \n",
              "  <svg xmlns=\"http://www.w3.org/2000/svg\" height=\"24px\"viewBox=\"0 0 24 24\"\n",
              "       width=\"24px\">\n",
              "    <path d=\"M0 0h24v24H0V0z\" fill=\"none\"/>\n",
              "    <path d=\"M18.56 5.44l.94 2.06.94-2.06 2.06-.94-2.06-.94-.94-2.06-.94 2.06-2.06.94zm-11 1L8.5 8.5l.94-2.06 2.06-.94-2.06-.94L8.5 2.5l-.94 2.06-2.06.94zm10 10l.94 2.06.94-2.06 2.06-.94-2.06-.94-.94-2.06-.94 2.06-2.06.94z\"/><path d=\"M17.41 7.96l-1.37-1.37c-.4-.4-.92-.59-1.43-.59-.52 0-1.04.2-1.43.59L10.3 9.45l-7.72 7.72c-.78.78-.78 2.05 0 2.83L4 21.41c.39.39.9.59 1.41.59.51 0 1.02-.2 1.41-.59l7.78-7.78 2.81-2.81c.8-.78.8-2.07 0-2.86zM5.41 20L4 18.59l7.72-7.72 1.47 1.35L5.41 20z\"/>\n",
              "  </svg>\n",
              "      </button>\n",
              "      \n",
              "  <style>\n",
              "    .colab-df-container {\n",
              "      display:flex;\n",
              "      flex-wrap:wrap;\n",
              "      gap: 12px;\n",
              "    }\n",
              "\n",
              "    .colab-df-convert {\n",
              "      background-color: #E8F0FE;\n",
              "      border: none;\n",
              "      border-radius: 50%;\n",
              "      cursor: pointer;\n",
              "      display: none;\n",
              "      fill: #1967D2;\n",
              "      height: 32px;\n",
              "      padding: 0 0 0 0;\n",
              "      width: 32px;\n",
              "    }\n",
              "\n",
              "    .colab-df-convert:hover {\n",
              "      background-color: #E2EBFA;\n",
              "      box-shadow: 0px 1px 2px rgba(60, 64, 67, 0.3), 0px 1px 3px 1px rgba(60, 64, 67, 0.15);\n",
              "      fill: #174EA6;\n",
              "    }\n",
              "\n",
              "    [theme=dark] .colab-df-convert {\n",
              "      background-color: #3B4455;\n",
              "      fill: #D2E3FC;\n",
              "    }\n",
              "\n",
              "    [theme=dark] .colab-df-convert:hover {\n",
              "      background-color: #434B5C;\n",
              "      box-shadow: 0px 1px 3px 1px rgba(0, 0, 0, 0.15);\n",
              "      filter: drop-shadow(0px 1px 2px rgba(0, 0, 0, 0.3));\n",
              "      fill: #FFFFFF;\n",
              "    }\n",
              "  </style>\n",
              "\n",
              "      <script>\n",
              "        const buttonEl =\n",
              "          document.querySelector('#df-01b38b3e-2874-47ae-860b-2cee832078ee button.colab-df-convert');\n",
              "        buttonEl.style.display =\n",
              "          google.colab.kernel.accessAllowed ? 'block' : 'none';\n",
              "\n",
              "        async function convertToInteractive(key) {\n",
              "          const element = document.querySelector('#df-01b38b3e-2874-47ae-860b-2cee832078ee');\n",
              "          const dataTable =\n",
              "            await google.colab.kernel.invokeFunction('convertToInteractive',\n",
              "                                                     [key], {});\n",
              "          if (!dataTable) return;\n",
              "\n",
              "          const docLinkHtml = 'Like what you see? Visit the ' +\n",
              "            '<a target=\"_blank\" href=https://colab.research.google.com/notebooks/data_table.ipynb>data table notebook</a>'\n",
              "            + ' to learn more about interactive tables.';\n",
              "          element.innerHTML = '';\n",
              "          dataTable['output_type'] = 'display_data';\n",
              "          await google.colab.output.renderOutput(dataTable, element);\n",
              "          const docLink = document.createElement('div');\n",
              "          docLink.innerHTML = docLinkHtml;\n",
              "          element.appendChild(docLink);\n",
              "        }\n",
              "      </script>\n",
              "    </div>\n",
              "  </div>\n",
              "  "
            ]
          },
          "metadata": {},
          "execution_count": 500
        }
      ]
    },
    {
      "cell_type": "code",
      "source": [
        "data.shape"
      ],
      "metadata": {
        "colab": {
          "base_uri": "https://localhost:8080/"
        },
        "id": "EB3Kl8cJdagr",
        "outputId": "6bfba1fd-38ae-4581-da0c-d0edcf625d49"
      },
      "execution_count": 501,
      "outputs": [
        {
          "output_type": "execute_result",
          "data": {
            "text/plain": [
              "(27283, 3)"
            ]
          },
          "metadata": {},
          "execution_count": 501
        }
      ]
    },
    {
      "cell_type": "code",
      "source": [
        "transacts = []\n",
        "# populating a list of transactions\n",
        "for i in range(0, 27283): \n",
        "  transacts.append([str(data.values[i,j]) for j in range(0, 3)])"
      ],
      "metadata": {
        "id": "yh-3etEGYwUk"
      },
      "execution_count": 502,
      "outputs": []
    },
    {
      "cell_type": "code",
      "source": [
        "transacts"
      ],
      "metadata": {
        "colab": {
          "base_uri": "https://localhost:8080/"
        },
        "id": "5dUhLxmzW1rH",
        "outputId": "458db85e-2623-424e-fb82-ce15ce854cf2"
      },
      "execution_count": 503,
      "outputs": [
        {
          "output_type": "execute_result",
          "data": {
            "text/plain": [
              "[['adria-airways', '7.0', 'Yes'],\n",
              " ['adria-airways', '10.0', 'Yes'],\n",
              " ['adria-airways', '9.0', 'Yes'],\n",
              " ['adria-airways', '8.0', 'Yes'],\n",
              " ['adria-airways', '4.0', 'No'],\n",
              " ['adria-airways', '9.0', 'Yes'],\n",
              " ['adria-airways', '5.0', 'Yes'],\n",
              " ['adria-airways', '9.0', 'Yes'],\n",
              " ['adria-airways', '8.0', 'Yes'],\n",
              " ['adria-airways', '10.0', 'Yes'],\n",
              " ['adria-airways', '9.0', 'Yes'],\n",
              " ['adria-airways', '7.0', 'Yes'],\n",
              " ['adria-airways', '8.0', 'Yes'],\n",
              " ['adria-airways', '7.0', 'Yes'],\n",
              " ['adria-airways', '7.0', 'Yes'],\n",
              " ['adria-airways', '5.0', 'Yes'],\n",
              " ['adria-airways', '9.0', 'Yes'],\n",
              " ['aegean-airlines', '8.0', 'Yes'],\n",
              " ['aegean-airlines', '9.0', 'Yes'],\n",
              " ['aegean-airlines', '10.0', 'Yes'],\n",
              " ['aegean-airlines', '8.0', 'Yes'],\n",
              " ['aegean-airlines', '10.0', 'Yes'],\n",
              " ['aegean-airlines', '9.0', 'Yes'],\n",
              " ['aegean-airlines', '10.0', 'Yes'],\n",
              " ['aegean-airlines', '7.0', 'Yes'],\n",
              " ['aegean-airlines', '8.0', 'Yes'],\n",
              " ['aegean-airlines', '10.0', 'Yes'],\n",
              " ['aegean-airlines', '9.0', 'Yes'],\n",
              " ['aegean-airlines', '8.0', 'Yes'],\n",
              " ['aegean-airlines', '2.0', 'No'],\n",
              " ['aegean-airlines', '7.0', 'Yes'],\n",
              " ['aegean-airlines', '9.0', 'Yes'],\n",
              " ['aer-lingus', '3.0', 'No'],\n",
              " ['aegean-airlines', '7.0', 'Yes'],\n",
              " ['aegean-airlines', '9.0', 'Yes'],\n",
              " ['aegean-airlines', '3.0', 'No'],\n",
              " ['aer-lingus', '5.0', 'No'],\n",
              " ['aegean-airlines', '3.0', 'No'],\n",
              " ['aegean-airlines', '8.0', 'Yes'],\n",
              " ['aegean-airlines', '10.0', 'Yes'],\n",
              " ['aegean-airlines', '8.0', 'Yes'],\n",
              " ['aer-lingus', '8.0', 'Yes'],\n",
              " ['aegean-airlines', '9.0', 'Yes'],\n",
              " ['aegean-airlines', '7.0', 'Yes'],\n",
              " ['aer-lingus', '1.0', 'No'],\n",
              " ['aegean-airlines', '7.0', 'Yes'],\n",
              " ['aegean-airlines', '7.0', 'Yes'],\n",
              " ['aegean-airlines', '10.0', 'Yes'],\n",
              " ['aer-lingus', '8.0', 'Yes'],\n",
              " ['aer-lingus', '10.0', 'Yes'],\n",
              " ['aegean-airlines', '9.0', 'Yes'],\n",
              " ['aegean-airlines', '9.0', 'Yes'],\n",
              " ['aegean-airlines', '10.0', 'Yes'],\n",
              " ['aer-lingus', '7.0', 'Yes'],\n",
              " ['aer-lingus', '9.0', 'Yes'],\n",
              " ['aegean-airlines', '2.0', 'No'],\n",
              " ['aegean-airlines', '1.0', 'No'],\n",
              " ['aegean-airlines', '2.0', 'No'],\n",
              " ['aegean-airlines', '10.0', 'Yes'],\n",
              " ['aer-lingus', '2.0', 'No'],\n",
              " ['aer-lingus', '7.0', 'Yes'],\n",
              " ['aegean-airlines', '9.0', 'Yes'],\n",
              " ['aegean-airlines', '9.0', 'Yes'],\n",
              " ['aegean-airlines', '3.0', 'No'],\n",
              " ['aer-lingus', '1.0', 'No'],\n",
              " ['aer-lingus', '7.0', 'No'],\n",
              " ['aer-lingus', '10.0', 'Yes'],\n",
              " ['aegean-airlines', '8.0', 'Yes'],\n",
              " ['aegean-airlines', '9.0', 'Yes'],\n",
              " ['aegean-airlines', '10.0', 'Yes'],\n",
              " ['aer-lingus', '10.0', 'Yes'],\n",
              " ['aer-lingus', '5.0', 'Yes'],\n",
              " ['aer-lingus', '2.0', 'No'],\n",
              " ['aegean-airlines', '10.0', 'Yes'],\n",
              " ['aegean-airlines', '8.0', 'Yes'],\n",
              " ['aegean-airlines', '5.0', 'Yes'],\n",
              " ['aer-lingus', '6.0', 'Yes'],\n",
              " ['aer-lingus', '2.0', 'No'],\n",
              " ['aegean-airlines', '1.0', 'No'],\n",
              " ['aegean-airlines', '9.0', 'Yes'],\n",
              " ['aegean-airlines', '10.0', 'Yes'],\n",
              " ['aer-lingus', '2.0', 'No'],\n",
              " ['aer-lingus', '10.0', 'Yes'],\n",
              " ['aer-lingus', '2.0', 'No'],\n",
              " ['aegean-airlines', '10.0', 'Yes'],\n",
              " ['aegean-airlines', '10.0', 'Yes'],\n",
              " ['aegean-airlines', '10.0', 'Yes'],\n",
              " ['aer-lingus', '10.0', 'Yes'],\n",
              " ['aer-lingus', '4.0', 'No'],\n",
              " ['aegean-airlines', '5.0', 'No'],\n",
              " ['aegean-airlines', '9.0', 'Yes'],\n",
              " ['aer-lingus', '9.0', 'Yes'],\n",
              " ['aer-lingus', '7.0', 'Yes'],\n",
              " ['aer-lingus', '8.0', 'Yes'],\n",
              " ['aegean-airlines', '8.0', 'Yes'],\n",
              " ['aegean-airlines', '9.0', 'Yes'],\n",
              " ['aegean-airlines', '1.0', 'No'],\n",
              " ['aer-lingus', '10.0', 'Yes'],\n",
              " ['aer-lingus', '10.0', 'Yes'],\n",
              " ['aegean-airlines', '4.0', 'No'],\n",
              " ['aegean-airlines', '1.0', 'No'],\n",
              " ['aegean-airlines', '9.0', 'Yes'],\n",
              " ['aegean-airlines', '10.0', 'Yes'],\n",
              " ['aer-lingus', '8.0', 'Yes'],\n",
              " ['aer-lingus', '6.0', 'Yes'],\n",
              " ['aer-lingus', '8.0', 'Yes'],\n",
              " ['aeroflot-russian-airlines', '8.0', 'Yes'],\n",
              " ['aegean-airlines', '1.0', 'No'],\n",
              " ['aegean-airlines', '9.0', 'Yes'],\n",
              " ['aegean-airlines', '1.0', 'No'],\n",
              " ['aer-lingus', '9.0', 'Yes'],\n",
              " ['aer-lingus', '10.0', 'Yes'],\n",
              " ['aer-lingus', '6.0', 'Yes'],\n",
              " ['aer-lingus', '2.0', 'No'],\n",
              " ['aeroflot-russian-airlines', '7.0', 'No'],\n",
              " ['aeroflot-russian-airlines', '10.0', 'Yes'],\n",
              " ['aeroflot-russian-airlines', '8.0', 'Yes'],\n",
              " ['aegean-airlines', '10.0', 'Yes'],\n",
              " ['aegean-airlines', '10.0', 'Yes'],\n",
              " ['aegean-airlines', '10.0', 'Yes'],\n",
              " ['aer-lingus', '2.0', 'No'],\n",
              " ['aer-lingus', '5.0', 'Yes'],\n",
              " ['aer-lingus', '8.0', 'Yes'],\n",
              " ['aeroflot-russian-airlines', '3.0', 'No'],\n",
              " ['aeroflot-russian-airlines', '8.0', 'Yes'],\n",
              " ['aeroflot-russian-airlines', '9.0', 'Yes'],\n",
              " ['aegean-airlines', '2.0', 'No'],\n",
              " ['aegean-airlines', '10.0', 'Yes'],\n",
              " ['aer-lingus', '6.0', 'No'],\n",
              " ['aer-lingus', '9.0', 'Yes'],\n",
              " ['aer-lingus', '10.0', 'Yes'],\n",
              " ['aeroflot-russian-airlines', '10.0', 'Yes'],\n",
              " ['aeroflot-russian-airlines', '9.0', 'Yes'],\n",
              " ['aegean-airlines', '10.0', 'Yes'],\n",
              " ['aegean-airlines', '10.0', 'Yes'],\n",
              " ['aer-lingus', '2.0', 'No'],\n",
              " ['aer-lingus', '7.0', 'Yes'],\n",
              " ['aer-lingus', '10.0', 'Yes'],\n",
              " ['aeroflot-russian-airlines', '8.0', 'Yes'],\n",
              " ['aeroflot-russian-airlines', '7.0', 'Yes'],\n",
              " ['aeroflot-russian-airlines', '7.0', 'Yes'],\n",
              " ['aegean-airlines', '10.0', 'Yes'],\n",
              " ['aegean-airlines', '3.0', 'No'],\n",
              " ['aegean-airlines', '5.0', 'Yes'],\n",
              " ['aer-lingus', '10.0', 'Yes'],\n",
              " ['aer-lingus', '7.0', 'Yes'],\n",
              " ['aeroflot-russian-airlines', '8.0', 'Yes'],\n",
              " ['aeroflot-russian-airlines', '8.0', 'Yes'],\n",
              " ['aeroflot-russian-airlines', '1.0', 'No'],\n",
              " ['aegean-airlines', '6.0', 'No'],\n",
              " ['aegean-airlines', '9.0', 'Yes'],\n",
              " ['aegean-airlines', '9.0', 'Yes'],\n",
              " ['aerolineas-argentinas', '5.0', 'Yes'],\n",
              " ['aer-lingus', '9.0', 'Yes'],\n",
              " ['aer-lingus', '7.0', 'Yes'],\n",
              " ['aer-lingus', '9.0', 'Yes'],\n",
              " ['aer-lingus', '10.0', 'Yes'],\n",
              " ['aeroflot-russian-airlines', '6.0', 'No'],\n",
              " ['aeroflot-russian-airlines', '1.0', 'No'],\n",
              " ['aeroflot-russian-airlines', '7.0', 'Yes'],\n",
              " ['aegean-airlines', '8.0', 'Yes'],\n",
              " ['aegean-airlines', '6.0', 'Yes'],\n",
              " ['aegean-airlines', '1.0', 'No'],\n",
              " ['aerolineas-argentinas', '2.0', 'No'],\n",
              " ['aerolineas-argentinas', '7.0', 'Yes'],\n",
              " ['aerolineas-argentinas', '9.0', 'Yes'],\n",
              " ['aer-lingus', '9.0', 'Yes'],\n",
              " ['aer-lingus', '9.0', 'Yes'],\n",
              " ['aer-lingus', '4.0', 'No'],\n",
              " ['aer-lingus', '6.0', 'Yes'],\n",
              " ['aeroflot-russian-airlines', '10.0', 'Yes'],\n",
              " ['aeroflot-russian-airlines', '9.0', 'Yes'],\n",
              " ['aeroflot-russian-airlines', '4.0', 'No'],\n",
              " ['aegean-airlines', '10.0', 'Yes'],\n",
              " ['aegean-airlines', '10.0', 'Yes'],\n",
              " ['aegean-airlines', '10.0', 'Yes'],\n",
              " ['aerolineas-argentinas', '3.0', 'No'],\n",
              " ['aerolineas-argentinas', '5.0', 'Yes'],\n",
              " ['aerolineas-argentinas', '10.0', 'Yes'],\n",
              " ['aer-lingus', '8.0', 'Yes'],\n",
              " ['aeroflot-russian-airlines', '2.0', 'No'],\n",
              " ['aeroflot-russian-airlines', '6.0', 'Yes'],\n",
              " ['aegean-airlines', '9.0', 'Yes'],\n",
              " ['aegean-airlines', '10.0', 'Yes'],\n",
              " ['aegean-airlines', '9.0', 'Yes'],\n",
              " ['aerolineas-argentinas', '1.0', 'No'],\n",
              " ['aerolineas-argentinas', '1.0', 'No'],\n",
              " ['aerolineas-argentinas', '8.0', 'Yes'],\n",
              " ['aerolineas-argentinas', '10.0', 'Yes'],\n",
              " ['aer-lingus', '5.0', 'No'],\n",
              " ['aer-lingus', '4.0', 'No'],\n",
              " ['aer-lingus', '5.0', 'No'],\n",
              " ['aeroflot-russian-airlines', '3.0', 'No'],\n",
              " ['aeroflot-russian-airlines', '9.0', 'Yes'],\n",
              " ['aeroflot-russian-airlines', '7.0', 'Yes'],\n",
              " ['aeroflot-russian-airlines', '8.0', 'Yes'],\n",
              " ['aegean-airlines', '9.0', 'Yes'],\n",
              " ['aegean-airlines', '3.0', 'No'],\n",
              " ['aerolineas-argentinas', '8.0', 'Yes'],\n",
              " ['aerolineas-argentinas', '8.0', 'Yes'],\n",
              " ['aerolineas-argentinas', '7.0', 'Yes'],\n",
              " ['aer-lingus', '10.0', 'Yes'],\n",
              " ['aer-lingus', '2.0', 'No'],\n",
              " ['aeroflot-russian-airlines', '8.0', 'Yes'],\n",
              " ['aeroflot-russian-airlines', '7.0', 'Yes'],\n",
              " ['aeroflot-russian-airlines', '1.0', 'No'],\n",
              " ['aeroflot-russian-airlines', '6.0', 'Yes'],\n",
              " ['aegean-airlines', '9.0', 'Yes'],\n",
              " ['aegean-airlines', '8.0', 'Yes'],\n",
              " ['aegean-airlines', '9.0', 'Yes'],\n",
              " ['aerolineas-argentinas', '7.0', 'Yes'],\n",
              " ['aerolineas-argentinas', '2.0', 'No'],\n",
              " ['aerolineas-argentinas', '10.0', 'Yes'],\n",
              " ['aerolineas-argentinas', '7.0', 'Yes'],\n",
              " ['aer-lingus', '4.0', 'No'],\n",
              " ['aer-lingus', '7.0', 'Yes'],\n",
              " ['aeroflot-russian-airlines', '8.0', 'Yes'],\n",
              " ['aeroflot-russian-airlines', '9.0', 'Yes'],\n",
              " ['aeroflot-russian-airlines', '8.0', 'Yes'],\n",
              " ['aegean-airlines', '5.0', 'No'],\n",
              " ['aegean-airlines', '10.0', 'Yes'],\n",
              " ['aegean-airlines', '3.0', 'No'],\n",
              " ['aerolineas-argentinas', '3.0', 'No'],\n",
              " ['aerolineas-argentinas', '10.0', 'Yes'],\n",
              " ['aerolineas-argentinas', '2.0', 'No'],\n",
              " ['aeromexico', '8.0', 'Yes'],\n",
              " ['aeromexico', '2.0', 'No'],\n",
              " ['aeromexico', '1.0', 'No'],\n",
              " ['aer-lingus', '8.0', 'Yes'],\n",
              " ['aer-lingus', '10.0', 'Yes'],\n",
              " ['aer-lingus', '5.0', 'No'],\n",
              " ['aer-lingus', '3.0', 'No'],\n",
              " ['aeroflot-russian-airlines', '9.0', 'Yes'],\n",
              " ['aeroflot-russian-airlines', '10.0', 'Yes'],\n",
              " ['aeroflot-russian-airlines', '5.0', 'No'],\n",
              " ['aegean-airlines', '6.0', 'No'],\n",
              " ['aegean-airlines', '10.0', 'Yes'],\n",
              " ['aegean-airlines', '10.0', 'Yes'],\n",
              " ['aegean-airlines', '10.0', 'Yes'],\n",
              " ['aerolineas-argentinas', '8.0', 'Yes'],\n",
              " ['aerolineas-argentinas', '8.0', 'Yes'],\n",
              " ['aeromexico', '10.0', 'Yes'],\n",
              " ['aeromexico', '1.0', 'No'],\n",
              " ['aeromexico', '10.0', 'Yes'],\n",
              " ['aer-lingus', '2.0', 'No'],\n",
              " ['aer-lingus', '8.0', 'Yes'],\n",
              " ['aer-lingus', '2.0', 'No'],\n",
              " ['aeroflot-russian-airlines', '8.0', 'Yes'],\n",
              " ['aeroflot-russian-airlines', '5.0', 'Yes'],\n",
              " ['aeroflot-russian-airlines', '9.0', 'Yes'],\n",
              " ['aeroflot-russian-airlines', '8.0', 'Yes'],\n",
              " ['aegean-airlines', '9.0', 'Yes'],\n",
              " ['aegean-airlines', '5.0', 'No'],\n",
              " ['aegean-airlines', '3.0', 'No'],\n",
              " ['aerolineas-argentinas', '3.0', 'No'],\n",
              " ['aerolineas-argentinas', '8.0', 'Yes'],\n",
              " ['aerolineas-argentinas', '1.0', 'No'],\n",
              " ['aerolineas-argentinas', '3.0', 'No'],\n",
              " ['aeromexico', '2.0', 'No'],\n",
              " ['aer-lingus', '9.0', 'Yes'],\n",
              " ['aer-lingus', '3.0', 'No'],\n",
              " ['aeroflot-russian-airlines', '9.0', 'Yes'],\n",
              " ['aeroflot-russian-airlines', '2.0', 'No'],\n",
              " ['aeroflot-russian-airlines', '10.0', 'Yes'],\n",
              " ['aeroflot-russian-airlines', '9.0', 'Yes'],\n",
              " ['aegean-airlines', '10.0', 'Yes'],\n",
              " ['aegean-airlines', '10.0', 'Yes'],\n",
              " ['aegean-airlines', '9.0', 'Yes'],\n",
              " ['aerolineas-argentinas', '8.0', 'Yes'],\n",
              " ['aerolineas-argentinas', '2.0', 'No'],\n",
              " ['aeromexico', '7.0', 'Yes'],\n",
              " ['aeromexico', '10.0', 'Yes'],\n",
              " ['aeromexico', '6.0', 'Yes'],\n",
              " ['aer-lingus', '2.0', 'No'],\n",
              " ['aer-lingus', '2.0', 'No'],\n",
              " ['aer-lingus', '10.0', 'Yes'],\n",
              " ['aer-lingus', '2.0', 'No'],\n",
              " ['aeroflot-russian-airlines', '9.0', 'Yes'],\n",
              " ['aeroflot-russian-airlines', '9.0', 'Yes'],\n",
              " ['aeroflot-russian-airlines', '7.0', 'Yes'],\n",
              " ['aegean-airlines', '10.0', 'Yes'],\n",
              " ['aegean-airlines', '2.0', 'No'],\n",
              " ['aegean-airlines', '8.0', 'Yes'],\n",
              " ['aegean-airlines', '8.0', 'Yes'],\n",
              " ['aerosur', '8.0', 'Yes'],\n",
              " ['aerosur', '7.0', 'Yes'],\n",
              " ['aerolineas-argentinas', '3.0', 'No'],\n",
              " ['aeromexico', '10.0', 'Yes'],\n",
              " ['aeromexico', '1.0', 'No'],\n",
              " ['aeromexico', '10.0', 'Yes'],\n",
              " ['aer-lingus', '1.0', 'No'],\n",
              " ['aer-lingus', '10.0', 'Yes'],\n",
              " ['aer-lingus', '2.0', 'No'],\n",
              " ['aeroflot-russian-airlines', '6.0', 'Yes'],\n",
              " ['aeroflot-russian-airlines', '5.0', 'Yes'],\n",
              " ['aeroflot-russian-airlines', '6.0', 'Yes'],\n",
              " ['aegean-airlines', '9.0', 'Yes'],\n",
              " ['aegean-airlines', '9.0', 'Yes'],\n",
              " ['aegean-airlines', '9.0', 'Yes'],\n",
              " ['aerosur', '1.0', 'No'],\n",
              " ['aerolineas-argentinas', '9.0', 'Yes'],\n",
              " ['aerolineas-argentinas', '10.0', 'Yes'],\n",
              " ['aeromexico', '10.0', 'Yes'],\n",
              " ['aeromexico', '10.0', 'Yes'],\n",
              " ['aer-lingus', '8.0', 'Yes'],\n",
              " ['aer-lingus', '10.0', 'Yes'],\n",
              " ['aer-lingus', '8.0', 'Yes'],\n",
              " ['aer-lingus', '3.0', 'No'],\n",
              " ['aeroflot-russian-airlines', '9.0', 'Yes'],\n",
              " ['aeroflot-russian-airlines', '10.0', 'Yes'],\n",
              " ['aeroflot-russian-airlines', '7.0', 'Yes'],\n",
              " ['aeroflot-russian-airlines', '9.0', 'Yes'],\n",
              " ['aegean-airlines', '8.0', 'Yes'],\n",
              " ['aegean-airlines', '10.0', 'Yes'],\n",
              " ['aegean-airlines', '8.0', 'Yes'],\n",
              " ['aerolineas-argentinas', '6.0', 'Yes'],\n",
              " ['aeromexico', '10.0', 'Yes'],\n",
              " ['aeromexico', '6.0', 'Yes'],\n",
              " ['aeromexico', '10.0', 'Yes'],\n",
              " ['aeromexico', '5.0', 'No'],\n",
              " ['aer-lingus', '10.0', 'Yes'],\n",
              " ['aer-lingus', '6.0', 'Yes'],\n",
              " ['aer-lingus', '6.0', 'Yes'],\n",
              " ['aeroflot-russian-airlines', '8.0', 'Yes'],\n",
              " ['aeroflot-russian-airlines', '8.0', 'Yes'],\n",
              " ['aeroflot-russian-airlines', '2.0', 'No'],\n",
              " ['aeroflot-russian-airlines', '7.0', 'Yes'],\n",
              " ['aegean-airlines', '9.0', 'Yes'],\n",
              " ['aegean-airlines', '9.0', 'Yes'],\n",
              " ['aegean-airlines', '3.0', 'No'],\n",
              " ['aerolineas-argentinas', '5.0', 'Yes'],\n",
              " ['aerolineas-argentinas', '6.0', 'Yes'],\n",
              " ['aeromexico', '10.0', 'Yes'],\n",
              " ['aeromexico', '9.0', 'Yes'],\n",
              " ['aer-lingus', '4.0', 'No'],\n",
              " ['aer-lingus', '10.0', 'Yes'],\n",
              " ['aeroflot-russian-airlines', '5.0', 'Yes'],\n",
              " ['aeroflot-russian-airlines', '7.0', 'Yes'],\n",
              " ['aeroflot-russian-airlines', '6.0', 'Yes'],\n",
              " ['aegean-airlines', '8.0', 'Yes'],\n",
              " ['aegean-airlines', '9.0', 'Yes'],\n",
              " ['aegean-airlines', '9.0', 'Yes'],\n",
              " ['aerolineas-argentinas', '1.0', 'No'],\n",
              " ['aerolineas-argentinas', '10.0', 'Yes'],\n",
              " ['aerolineas-argentinas', '5.0', 'Yes'],\n",
              " ['aerolineas-argentinas', '4.0', 'Yes'],\n",
              " ['aeromexico', '10.0', 'Yes'],\n",
              " ['aeromexico', '10.0', 'Yes'],\n",
              " ['aeromexico', '6.0', 'Yes'],\n",
              " ['aer-lingus', '6.0', 'Yes'],\n",
              " ['aer-lingus', '8.0', 'Yes'],\n",
              " ['aer-lingus', '6.0', 'No'],\n",
              " ['aer-lingus', '6.0', 'No'],\n",
              " ['aeroflot-russian-airlines', '1.0', 'No'],\n",
              " ['aegean-airlines', '10.0', 'Yes'],\n",
              " ['aegean-airlines', '9.0', 'Yes'],\n",
              " ['aerolineas-argentinas', '8.0', 'Yes'],\n",
              " ['aeromexico', '7.0', 'Yes'],\n",
              " ['aer-lingus', '2.0', 'No'],\n",
              " ['aer-lingus', '3.0', 'No'],\n",
              " ['aeroflot-russian-airlines', '9.0', 'Yes'],\n",
              " ['aeroflot-russian-airlines', '5.0', 'No'],\n",
              " ['aegean-airlines', '9.0', 'Yes'],\n",
              " ['aegean-airlines', '8.0', 'Yes'],\n",
              " ['aegean-airlines', '9.0', 'Yes'],\n",
              " ['aerolineas-argentinas', '8.0', 'Yes'],\n",
              " ['aerolineas-argentinas', '3.0', 'No'],\n",
              " ['aerolineas-argentinas', '8.0', 'Yes'],\n",
              " ['aeromexico', '10.0', 'Yes'],\n",
              " ['aeromexico', '9.0', 'Yes'],\n",
              " ['aer-lingus', '8.0', 'Yes'],\n",
              " ['aer-lingus', '10.0', 'Yes'],\n",
              " ['aer-lingus', '9.0', 'Yes'],\n",
              " ['aeroflot-russian-airlines', '9.0', 'Yes'],\n",
              " ['aeroflot-russian-airlines', '9.0', 'Yes'],\n",
              " ['aeroflot-russian-airlines', '7.0', 'Yes'],\n",
              " ['aegean-airlines', '3.0', 'No'],\n",
              " ['aegean-airlines', '7.0', 'Yes'],\n",
              " ['aerolineas-argentinas', '7.0', 'Yes'],\n",
              " ['aerolineas-argentinas', '8.0', 'Yes'],\n",
              " ['aeromexico', '10.0', 'Yes'],\n",
              " ['aeromexico', '9.0', 'Yes'],\n",
              " ['aeromexico', '5.0', 'No'],\n",
              " ['aer-lingus', '10.0', 'Yes'],\n",
              " ['aer-lingus', '2.0', 'No'],\n",
              " ['aer-lingus', '10.0', 'Yes'],\n",
              " ['aer-lingus', '9.0', 'Yes'],\n",
              " ['aeroflot-russian-airlines', '4.0', 'Yes'],\n",
              " ['aeroflot-russian-airlines', '8.0', 'Yes'],\n",
              " ['aegean-airlines', '10.0', 'Yes'],\n",
              " ['aegean-airlines', '9.0', 'Yes'],\n",
              " ['aerolineas-argentinas', '2.0', 'No'],\n",
              " ['aerolineas-argentinas', '9.0', 'Yes'],\n",
              " ['aeromexico', '8.0', 'Yes'],\n",
              " ['aeromexico', '10.0', 'Yes'],\n",
              " ['aeromexico', '10.0', 'Yes'],\n",
              " ['aer-lingus', '6.0', 'Yes'],\n",
              " ['aer-lingus', '8.0', 'Yes'],\n",
              " ['aer-lingus', '4.0', 'No'],\n",
              " ['aeroflot-russian-airlines', '7.0', 'Yes'],\n",
              " ['aeroflot-russian-airlines', '8.0', 'Yes'],\n",
              " ['aeroflot-russian-airlines', '1.0', 'No'],\n",
              " ['aeroflot-russian-airlines', '1.0', 'No'],\n",
              " ['aigle-azur', '7.0', 'Yes'],\n",
              " ['aegean-airlines', '9.0', 'Yes'],\n",
              " ['aegean-airlines', '9.0', 'Yes'],\n",
              " ['aegean-airlines', '8.0', 'Yes'],\n",
              " ['aerolineas-argentinas', '6.0', 'Yes'],\n",
              " ['aerolineas-argentinas', '1.0', 'No'],\n",
              " ['aerolineas-argentinas', '2.0', 'No'],\n",
              " ['aeromexico', '10.0', 'Yes'],\n",
              " ['aeromexico', '3.0', 'No'],\n",
              " ['aer-lingus', '10.0', 'Yes'],\n",
              " ['aer-lingus', '10.0', 'Yes'],\n",
              " ['aer-lingus', '10.0', 'Yes'],\n",
              " ['aeroflot-russian-airlines', '7.0', 'Yes'],\n",
              " ['aeroflot-russian-airlines', '7.0', 'Yes'],\n",
              " ['aeroflot-russian-airlines', '1.0', 'No'],\n",
              " ['aeroflot-russian-airlines', '10.0', 'Yes'],\n",
              " ['aigle-azur', '9.0', 'Yes'],\n",
              " ['aegean-airlines', '8.0', 'Yes'],\n",
              " ['aegean-airlines', '6.0', 'Yes'],\n",
              " ['aegean-airlines', '4.0', 'No'],\n",
              " ['aegean-airlines', '10.0', 'Yes'],\n",
              " ['aerolineas-argentinas', '7.0', 'Yes'],\n",
              " ['aerolineas-argentinas', '2.0', 'No'],\n",
              " ['aerolineas-argentinas', '1.0', 'No'],\n",
              " ['aeromexico', '10.0', 'Yes'],\n",
              " ['aeromexico', '9.0', 'Yes'],\n",
              " ['aeromexico', '9.0', 'Yes'],\n",
              " ['aeromexico', '1.0', 'No'],\n",
              " ['aer-lingus', '5.0', 'No'],\n",
              " ['aeroflot-russian-airlines', '8.0', 'Yes'],\n",
              " ['aeroflot-russian-airlines', '5.0', 'No'],\n",
              " ['aegean-airlines', '8.0', 'Yes'],\n",
              " ['aegean-airlines', '9.0', 'Yes'],\n",
              " ['aerolineas-argentinas', '3.0', 'No'],\n",
              " ['aerolineas-argentinas', '3.0', 'No'],\n",
              " ['aeromexico', '10.0', 'Yes'],\n",
              " ['aeromexico', '10.0', 'Yes'],\n",
              " ['aer-lingus', '9.0', 'Yes'],\n",
              " ['aer-lingus', '9.0', 'Yes'],\n",
              " ['aeroflot-russian-airlines', '5.0', 'Yes'],\n",
              " ['aeroflot-russian-airlines', '5.0', 'No'],\n",
              " ['aeroflot-russian-airlines', '9.0', 'Yes'],\n",
              " ['aegean-airlines', '7.0', 'Yes'],\n",
              " ['aegean-airlines', '10.0', 'Yes'],\n",
              " ['aegean-airlines', '4.0', 'No'],\n",
              " ['aerolineas-argentinas', '5.0', 'Yes'],\n",
              " ['aerolineas-argentinas', '7.0', 'Yes'],\n",
              " ['aerolineas-argentinas', '9.0', 'Yes'],\n",
              " ['aeromexico', '8.0', 'Yes'],\n",
              " ['aeromexico', '5.0', 'No'],\n",
              " ['aer-lingus', '5.0', 'Yes'],\n",
              " ['aer-lingus', '10.0', 'Yes'],\n",
              " ['aeroflot-russian-airlines', '4.0', 'No'],\n",
              " ['aeroflot-russian-airlines', '5.0', 'No'],\n",
              " ['aeroflot-russian-airlines', '7.0', 'Yes'],\n",
              " ['aeroflot-russian-airlines', '5.0', 'No'],\n",
              " ['aegean-airlines', '4.0', 'No'],\n",
              " ['aegean-airlines', '9.0', 'Yes'],\n",
              " ['aegean-airlines', '8.0', 'Yes'],\n",
              " ['aerolineas-argentinas', '2.0', 'No'],\n",
              " ['aerolineas-argentinas', '8.0', 'Yes'],\n",
              " ['aerolineas-argentinas', '8.0', 'Yes'],\n",
              " ['aeromexico', '8.0', 'Yes'],\n",
              " ['aeromexico', '2.0', 'No'],\n",
              " ['aeromexico', '4.0', 'No'],\n",
              " ['aeromexico', '10.0', 'Yes'],\n",
              " ['aer-lingus', '2.0', 'No'],\n",
              " ['aeroflot-russian-airlines', '7.0', 'Yes'],\n",
              " ['aeroflot-russian-airlines', '7.0', 'Yes'],\n",
              " ['aeroflot-russian-airlines', '8.0', 'Yes'],\n",
              " ['aegean-airlines', '10.0', 'Yes'],\n",
              " ['aegean-airlines', '9.0', 'Yes'],\n",
              " ['aegean-airlines', '10.0', 'Yes'],\n",
              " ['air-algerie', '4.0', 'Yes'],\n",
              " ['aerolineas-argentinas', '2.0', 'No'],\n",
              " ['aerolineas-argentinas', '4.0', 'No'],\n",
              " ['aerolineas-argentinas', '7.0', 'Yes'],\n",
              " ['aerolineas-argentinas', '4.0', 'No'],\n",
              " ['aeromexico', '10.0', 'Yes'],\n",
              " ['aeromexico', '8.0', 'Yes'],\n",
              " ['aer-lingus', '3.0', 'No'],\n",
              " ['aer-lingus', '7.0', 'Yes'],\n",
              " ['aer-lingus', '2.0', 'No'],\n",
              " ['aer-lingus', '9.0', 'Yes'],\n",
              " ['aeroflot-russian-airlines', '9.0', 'Yes'],\n",
              " ['aeroflot-russian-airlines', '9.0', 'Yes'],\n",
              " ['aegean-airlines', '10.0', 'Yes'],\n",
              " ['aegean-airlines', '10.0', 'Yes'],\n",
              " ['air-algerie', '1.0', 'No'],\n",
              " ['air-algerie', '8.0', 'Yes'],\n",
              " ['air-algerie', '9.0', 'Yes'],\n",
              " ['aerolineas-argentinas', '8.0', 'Yes'],\n",
              " ['aerolineas-argentinas', '8.0', 'Yes'],\n",
              " ['aerolineas-argentinas', '1.0', 'No'],\n",
              " ['aerolineas-argentinas', '6.0', 'Yes'],\n",
              " ['aeromexico', '10.0', 'Yes'],\n",
              " ['aeromexico', '1.0', 'No'],\n",
              " ['aer-lingus', '7.0', 'Yes'],\n",
              " ['aer-lingus', '9.0', 'Yes'],\n",
              " ['aer-lingus', '6.0', 'No'],\n",
              " ['aer-lingus', '10.0', 'Yes'],\n",
              " ['aeroflot-russian-airlines', '9.0', 'Yes'],\n",
              " ['aeroflot-russian-airlines', '7.0', 'Yes'],\n",
              " ['aeroflot-russian-airlines', '8.0', 'Yes'],\n",
              " ['aegean-airlines', '7.0', 'Yes'],\n",
              " ['aegean-airlines', '10.0', 'Yes'],\n",
              " ['aegean-airlines', '10.0', 'Yes'],\n",
              " ['aegean-airlines', '10.0', 'Yes'],\n",
              " ['aerolineas-argentinas', '7.0', 'Yes'],\n",
              " ['aerolineas-argentinas', '4.0', 'No'],\n",
              " ['aerolineas-argentinas', '1.0', 'No'],\n",
              " ['aerolineas-argentinas', '2.0', 'No'],\n",
              " ['aeromexico', '1.0', 'No'],\n",
              " ['aeromexico', '3.0', 'No'],\n",
              " ['aer-lingus', '2.0', 'No'],\n",
              " ['aer-lingus', '10.0', 'Yes'],\n",
              " ['aeroflot-russian-airlines', '5.0', 'Yes'],\n",
              " ['aeroflot-russian-airlines', '10.0', 'Yes'],\n",
              " ['aeroflot-russian-airlines', '10.0', 'Yes'],\n",
              " ['aegean-airlines', '5.0', 'No'],\n",
              " ['aegean-airlines', '5.0', 'Yes'],\n",
              " ['aegean-airlines', '5.0', 'Yes'],\n",
              " ['aegean-airlines', '8.0', 'Yes'],\n",
              " ['aerolineas-argentinas', '2.0', 'No'],\n",
              " ['aerolineas-argentinas', '8.0', 'Yes'],\n",
              " ['aerolineas-argentinas', '8.0', 'Yes'],\n",
              " ['aerolineas-argentinas', '2.0', 'No'],\n",
              " ['aeromexico', '1.0', 'No'],\n",
              " ['aeromexico', '1.0', 'No'],\n",
              " ['aeromexico', '1.0', 'No'],\n",
              " ['aeroflot-russian-airlines', '8.0', 'Yes'],\n",
              " ['aeroflot-russian-airlines', '8.0', 'Yes'],\n",
              " ['aeroflot-russian-airlines', '9.0', 'Yes'],\n",
              " ['aeroflot-russian-airlines', '8.0', 'Yes'],\n",
              " ['air-arabia', '6.0', 'Yes'],\n",
              " ['aegean-airlines', '10.0', 'Yes'],\n",
              " ['aegean-airlines', '8.0', 'Yes'],\n",
              " ['aegean-airlines', '9.0', 'Yes'],\n",
              " ['aerolineas-argentinas', '1.0', 'No'],\n",
              " ['aerolineas-argentinas', '9.0', 'Yes'],\n",
              " ['aerolineas-argentinas', '8.0', 'Yes'],\n",
              " ['aerolineas-argentinas', '2.0', 'No'],\n",
              " ['aeromexico', '2.0', 'No'],\n",
              " ['aer-lingus', '8.0', 'Yes'],\n",
              " ['aer-lingus', '3.0', 'No'],\n",
              " ['aer-lingus', '10.0', 'Yes'],\n",
              " ['aeroflot-russian-airlines', '10.0', 'Yes'],\n",
              " ['aeroflot-russian-airlines', '3.0', 'No'],\n",
              " ['aeroflot-russian-airlines', '10.0', 'Yes'],\n",
              " ['aeroflot-russian-airlines', '8.0', 'Yes'],\n",
              " ['air-arabia', '1.0', 'No'],\n",
              " ['air-arabia', '9.0', 'Yes'],\n",
              " ['air-arabia', '7.0', 'Yes'],\n",
              " ['aegean-airlines', '5.0', 'No'],\n",
              " ['aegean-airlines', '1.0', 'No'],\n",
              " ['aegean-airlines', '9.0', 'Yes'],\n",
              " ['aerolineas-argentinas', '1.0', 'No'],\n",
              " ['aerolineas-argentinas', '7.0', 'Yes'],\n",
              " ['aerolineas-argentinas', '8.0', 'Yes'],\n",
              " ['aeromexico', '9.0', 'Yes'],\n",
              " ['aeromexico', '2.0', 'No'],\n",
              " ['aer-lingus', '10.0', 'Yes'],\n",
              " ['aer-lingus', '8.0', 'Yes'],\n",
              " ['aer-lingus', '2.0', 'No'],\n",
              " ['aeroflot-russian-airlines', '9.0', 'Yes'],\n",
              " ['aeroflot-russian-airlines', '9.0', 'Yes'],\n",
              " ['air-arabia', '10.0', 'Yes'],\n",
              " ['aegean-airlines', '4.0', 'No'],\n",
              " ['aegean-airlines', '3.0', 'No'],\n",
              " ['aegean-airlines', '9.0', 'Yes'],\n",
              " ['aegean-airlines', '9.0', 'Yes'],\n",
              " ['aerolineas-argentinas', '4.0', 'No'],\n",
              " ['aerolineas-argentinas', '2.0', 'No'],\n",
              " ['aerolineas-argentinas', '1.0', 'No'],\n",
              " ['aeromexico', '6.0', 'Yes'],\n",
              " ['aeromexico', '7.0', 'Yes'],\n",
              " ['aeromexico', '8.0', 'Yes'],\n",
              " ['aer-lingus', '3.0', 'No'],\n",
              " ['aer-lingus', '9.0', 'Yes'],\n",
              " ['aeroflot-russian-airlines', '3.0', 'No'],\n",
              " ['aeroflot-russian-airlines', '5.0', 'Yes'],\n",
              " ['aeroflot-russian-airlines', '8.0', 'Yes'],\n",
              " ['aegean-airlines', '8.0', 'No'],\n",
              " ['aegean-airlines', '2.0', 'No'],\n",
              " ['aegean-airlines', '7.0', 'Yes'],\n",
              " ['aegean-airlines', '9.0', 'Yes'],\n",
              " ['aerolineas-argentinas', '4.0', 'Yes'],\n",
              " ['aerolineas-argentinas', '1.0', 'No'],\n",
              " ['aerolineas-argentinas', '3.0', 'No'],\n",
              " ['aeromexico', '4.0', 'No'],\n",
              " ['aeromexico', '3.0', 'No'],\n",
              " ['aeromexico', '7.0', 'Yes'],\n",
              " ['aeromexico', '5.0', 'Yes'],\n",
              " ['aer-lingus', '10.0', 'Yes'],\n",
              " ['aer-lingus', '10.0', 'Yes'],\n",
              " ['aer-lingus', '8.0', 'Yes'],\n",
              " ['aer-lingus', '8.0', 'Yes'],\n",
              " ['aeroflot-russian-airlines', '9.0', 'Yes'],\n",
              " ['aeroflot-russian-airlines', '8.0', 'Yes'],\n",
              " ['aeroflot-russian-airlines', '1.0', 'Yes'],\n",
              " ['aegean-airlines', '7.0', 'Yes'],\n",
              " ['aegean-airlines', '9.0', 'Yes'],\n",
              " ['aegean-airlines', '8.0', 'Yes'],\n",
              " ['aegean-airlines', '8.0', 'Yes'],\n",
              " ['air-astana', '10.0', 'Yes'],\n",
              " ['aerolineas-argentinas', '2.0', 'No'],\n",
              " ['aerolineas-argentinas', '2.0', 'No'],\n",
              " ['aerolineas-argentinas', '6.0', 'Yes'],\n",
              " ['aeromexico', '8.0', 'Yes'],\n",
              " ['aeromexico', '1.0', 'No'],\n",
              " ['aer-lingus', '10.0', 'Yes'],\n",
              " ['aer-lingus', '9.0', 'Yes'],\n",
              " ['aer-lingus', '5.0', 'Yes'],\n",
              " ['aer-lingus', '10.0', 'Yes'],\n",
              " ['aeroflot-russian-airlines', '8.0', 'Yes'],\n",
              " ['aeroflot-russian-airlines', '7.0', 'Yes'],\n",
              " ['aeroflot-russian-airlines', '5.0', 'No'],\n",
              " ['aegean-airlines', '10.0', 'Yes'],\n",
              " ['aegean-airlines', '9.0', 'Yes'],\n",
              " ['air-astana', '10.0', 'Yes'],\n",
              " ['air-astana', '9.0', 'Yes'],\n",
              " ['air-astana', '10.0', 'Yes'],\n",
              " ['aerolineas-argentinas', '8.0', 'Yes'],\n",
              " ['aerolineas-argentinas', '3.0', 'No'],\n",
              " ['aerolineas-argentinas', '8.0', 'Yes'],\n",
              " ['aeromexico', '10.0', 'Yes'],\n",
              " ['aeromexico', '1.0', 'No'],\n",
              " ['aeromexico', '9.0', 'Yes'],\n",
              " ['aeromexico', '9.0', 'Yes'],\n",
              " ['aer-lingus', '3.0', 'No'],\n",
              " ['aer-lingus', '10.0', 'Yes'],\n",
              " ['aer-lingus', '10.0', 'Yes'],\n",
              " ['aeroflot-russian-airlines', '7.0', 'Yes'],\n",
              " ['aeroflot-russian-airlines', '7.0', 'Yes'],\n",
              " ['aeroflot-russian-airlines', '1.0', 'No'],\n",
              " ['air-astana', '10.0', 'Yes'],\n",
              " ['air-astana', '10.0', 'Yes'],\n",
              " ['aerolineas-argentinas', '2.0', 'No'],\n",
              " ['aerolineas-argentinas', '1.0', 'No'],\n",
              " ['aer-lingus', '5.0', 'Yes'],\n",
              " ['aer-lingus', '10.0', 'Yes'],\n",
              " ['aeroflot-russian-airlines', '5.0', 'Yes'],\n",
              " ['aeroflot-russian-airlines', '7.0', 'Yes'],\n",
              " ['aeroflot-russian-airlines', '9.0', 'Yes'],\n",
              " ['air-astana', '10.0', 'Yes'],\n",
              " ['air-astana', '9.0', 'Yes'],\n",
              " ['air-astana', '10.0', 'Yes'],\n",
              " ['air-astana', '10.0', 'Yes'],\n",
              " ['aerolineas-argentinas', '3.0', 'No'],\n",
              " ['aerolineas-argentinas', '5.0', 'Yes'],\n",
              " ['aerolineas-argentinas', '4.0', 'No'],\n",
              " ['aer-lingus', '10.0', 'Yes'],\n",
              " ['aer-lingus', '7.0', 'Yes'],\n",
              " ['aer-lingus', '9.0', 'Yes'],\n",
              " ['aer-lingus', '1.0', 'No'],\n",
              " ['aeroflot-russian-airlines', '10.0', 'Yes'],\n",
              " ['aeroflot-russian-airlines', '2.0', 'No'],\n",
              " ['aeroflot-russian-airlines', '8.0', 'Yes'],\n",
              " ['air-astana', '10.0', 'Yes'],\n",
              " ['air-astana', '3.0', 'No'],\n",
              " ['aerolineas-argentinas', '1.0', 'No'],\n",
              " ['aerolineas-argentinas', '3.0', 'No'],\n",
              " ['aer-lingus', '10.0', 'Yes'],\n",
              " ['aer-lingus', '4.0', 'No'],\n",
              " ['aer-lingus', '10.0', 'Yes'],\n",
              " ['aer-lingus', '5.0', 'No'],\n",
              " ['aeroflot-russian-airlines', '10.0', 'Yes'],\n",
              " ['aeroflot-russian-airlines', '8.0', 'Yes'],\n",
              " ['aeroflot-russian-airlines', '10.0', 'Yes'],\n",
              " ['air-astana', '7.0', 'Yes'],\n",
              " ['air-astana', '10.0', 'Yes'],\n",
              " ['aerolineas-argentinas', '1.0', 'No'],\n",
              " ['aerolineas-argentinas', '2.0', 'No'],\n",
              " ['aer-lingus', '5.0', 'No'],\n",
              " ['aer-lingus', '8.0', 'Yes'],\n",
              " ['aer-lingus', '3.0', 'No'],\n",
              " ['aeroflot-russian-airlines', '8.0', 'Yes'],\n",
              " ['aeroflot-russian-airlines', '8.0', 'Yes'],\n",
              " ['aeroflot-russian-airlines', '7.0', 'Yes'],\n",
              " ['air-astana', '8.0', 'Yes'],\n",
              " ['air-astana', '7.0', 'Yes'],\n",
              " ['air-astana', '9.0', 'Yes'],\n",
              " ['air-astana', '6.0', 'Yes'],\n",
              " ['aer-lingus', '10.0', 'Yes'],\n",
              " ['aer-lingus', '10.0', 'Yes'],\n",
              " ['aer-lingus', '9.0', 'Yes'],\n",
              " ['aer-lingus', '3.0', 'No'],\n",
              " ['aeroflot-russian-airlines', '5.0', 'No'],\n",
              " ['aeroflot-russian-airlines', '3.0', 'Yes'],\n",
              " ['aeroflot-russian-airlines', '9.0', 'Yes'],\n",
              " ['aeroflot-russian-airlines', '8.0', 'Yes'],\n",
              " ['air-astana', '9.0', 'Yes'],\n",
              " ['air-astana', '10.0', 'Yes'],\n",
              " ['air-astana', '6.0', 'Yes'],\n",
              " ['air-astana', '10.0', 'Yes'],\n",
              " ['aer-lingus', '10.0', 'Yes'],\n",
              " ['aer-lingus', '4.0', 'No'],\n",
              " ['aer-lingus', '10.0', 'Yes'],\n",
              " ['aeroflot-russian-airlines', '1.0', 'No'],\n",
              " ['aeroflot-russian-airlines', '7.0', 'Yes'],\n",
              " ['aeroflot-russian-airlines', '5.0', 'No'],\n",
              " ['aeroflot-russian-airlines', '3.0', 'No'],\n",
              " ['air-bagan', '7.0', 'Yes'],\n",
              " ['air-bagan', '8.0', 'Yes'],\n",
              " ['air-astana', '10.0', 'Yes'],\n",
              " ['air-astana', '8.0', 'Yes'],\n",
              " ['air-astana', '9.0', 'Yes'],\n",
              " ['air-astana', '9.0', 'Yes'],\n",
              " ['aer-lingus', '10.0', 'Yes'],\n",
              " ['aer-lingus', '3.0', 'No'],\n",
              " ['aer-lingus', '5.0', 'No'],\n",
              " ['aeroflot-russian-airlines', '2.0', 'Yes'],\n",
              " ['aeroflot-russian-airlines', '8.0', 'Yes'],\n",
              " ['aeroflot-russian-airlines', '5.0', 'No'],\n",
              " ['air-astana', '7.0', 'Yes'],\n",
              " ['air-astana', '8.0', 'Yes'],\n",
              " ['air-astana', '10.0', 'Yes'],\n",
              " ['air-astana', '10.0', 'Yes'],\n",
              " ['aer-lingus', '9.0', 'Yes'],\n",
              " ['aer-lingus', '2.0', 'No'],\n",
              " ['aer-lingus', '10.0', 'Yes'],\n",
              " ['aeroflot-russian-airlines', '8.0', 'Yes'],\n",
              " ['aeroflot-russian-airlines', '7.0', 'Yes'],\n",
              " ['aeroflot-russian-airlines', '7.0', 'Yes'],\n",
              " ['air-astana', '9.0', 'Yes'],\n",
              " ['air-astana', '10.0', 'Yes'],\n",
              " ['air-astana', '10.0', 'Yes'],\n",
              " ['aer-lingus', '10.0', 'Yes'],\n",
              " ['aer-lingus', '7.0', 'No'],\n",
              " ['aer-lingus', '9.0', 'Yes'],\n",
              " ['aer-lingus', '10.0', 'Yes'],\n",
              " ['aeroflot-russian-airlines', '4.0', 'No'],\n",
              " ['aeroflot-russian-airlines', '9.0', 'Yes'],\n",
              " ['aeroflot-russian-airlines', '9.0', 'Yes'],\n",
              " ['aeroflot-russian-airlines', '7.0', 'Yes'],\n",
              " ['air-astana', '10.0', 'Yes'],\n",
              " ['air-astana', '10.0', 'Yes'],\n",
              " ['air-astana', '9.0', 'Yes'],\n",
              " ['air-astana', '10.0', 'Yes'],\n",
              " ['aer-lingus', '8.0', 'Yes'],\n",
              " ['aer-lingus', '10.0', 'Yes'],\n",
              " ['aer-lingus', '10.0', 'Yes'],\n",
              " ['aeroflot-russian-airlines', '2.0', 'No'],\n",
              " ['aeroflot-russian-airlines', '6.0', 'Yes'],\n",
              " ['aeroflot-russian-airlines', '8.0', 'Yes'],\n",
              " ['air-berlin', '7.0', 'Yes'],\n",
              " ['air-astana', '5.0', 'Yes'],\n",
              " ['air-astana', '10.0', 'Yes'],\n",
              " ['air-astana', '9.0', 'Yes'],\n",
              " ['aer-lingus', '6.0', 'No'],\n",
              " ['aer-lingus', '9.0', 'Yes'],\n",
              " ['aer-lingus', '5.0', 'No'],\n",
              " ['aeroflot-russian-airlines', '8.0', 'Yes'],\n",
              " ['aeroflot-russian-airlines', '3.0', 'No'],\n",
              " ['aeroflot-russian-airlines', '7.0', 'Yes'],\n",
              " ['aeroflot-russian-airlines', '3.0', 'No'],\n",
              " ['air-berlin', '10.0', 'Yes'],\n",
              " ['air-berlin', '9.0', 'Yes'],\n",
              " ['air-astana', '10.0', 'Yes'],\n",
              " ['aer-lingus', '8.0', 'Yes'],\n",
              " ['aer-lingus', '8.0', 'Yes'],\n",
              " ['aeroflot-russian-airlines', '4.0', 'No'],\n",
              " ['aeroflot-russian-airlines', '8.0', 'Yes'],\n",
              " ['aeroflot-russian-airlines', '2.0', 'No'],\n",
              " ['air-berlin', '8.0', 'Yes'],\n",
              " ['air-berlin', '8.0', 'Yes'],\n",
              " ['air-berlin', '10.0', 'Yes'],\n",
              " ['air-astana', '2.0', 'No'],\n",
              " ['air-astana', '10.0', 'Yes'],\n",
              " ['aer-lingus', '6.0', 'Yes'],\n",
              " ['aer-lingus', '10.0', 'Yes'],\n",
              " ['aeroflot-russian-airlines', '9.0', 'Yes'],\n",
              " ['aeroflot-russian-airlines', '8.0', 'Yes'],\n",
              " ['air-berlin', '1.0', 'No'],\n",
              " ['air-astana', '10.0', 'Yes'],\n",
              " ['air-astana', '9.0', 'Yes'],\n",
              " ['aer-lingus', '9.0', 'Yes'],\n",
              " ['aer-lingus', '10.0', 'Yes'],\n",
              " ['aeroflot-russian-airlines', '7.0', 'Yes'],\n",
              " ['aeroflot-russian-airlines', '1.0', 'No'],\n",
              " ['air-berlin', '4.0', 'No'],\n",
              " ['air-berlin', '8.0', 'Yes'],\n",
              " ['air-astana', '9.0', 'Yes'],\n",
              " ['air-astana', '9.0', 'Yes'],\n",
              " ['aer-lingus', '7.0', 'Yes'],\n",
              " ['aer-lingus', '9.0', 'Yes'],\n",
              " ['aeroflot-russian-airlines', '7.0', 'Yes'],\n",
              " ['aeroflot-russian-airlines', '9.0', 'Yes'],\n",
              " ['air-berlin', '10.0', 'Yes'],\n",
              " ['air-berlin', '2.0', 'No'],\n",
              " ['air-astana', '10.0', 'Yes'],\n",
              " ['air-astana', '10.0', 'Yes'],\n",
              " ['aer-lingus', '8.0', 'Yes'],\n",
              " ['aer-lingus', '9.0', 'Yes'],\n",
              " ['aeroflot-russian-airlines', '9.0', 'Yes'],\n",
              " ['aeroflot-russian-airlines', '8.0', 'Yes'],\n",
              " ['air-berlin', '10.0', 'Yes'],\n",
              " ['air-berlin', '9.0', 'Yes'],\n",
              " ['air-astana', '1.0', 'No'],\n",
              " ['air-astana', '9.0', 'Yes'],\n",
              " ['aer-lingus', '6.0', 'No'],\n",
              " ['aer-lingus', '9.0', 'Yes'],\n",
              " ['aer-lingus', '10.0', 'Yes'],\n",
              " ['aeroflot-russian-airlines', '8.0', 'Yes'],\n",
              " ['aeroflot-russian-airlines', '2.0', 'No'],\n",
              " ['aeroflot-russian-airlines', '2.0', 'No'],\n",
              " ['air-berlin', '7.0', 'Yes'],\n",
              " ['air-berlin', '7.0', 'Yes'],\n",
              " ['air-astana', '10.0', 'Yes'],\n",
              " ['air-astana', '7.0', 'Yes'],\n",
              " ['air-astana', '9.0', 'Yes'],\n",
              " ['aer-lingus', '10.0', 'Yes'],\n",
              " ['aer-lingus', '9.0', 'Yes'],\n",
              " ['aer-lingus', '10.0', 'Yes'],\n",
              " ['aeroflot-russian-airlines', '1.0', 'No'],\n",
              " ['aeroflot-russian-airlines', '9.0', 'Yes'],\n",
              " ['air-berlin', '1.0', 'No'],\n",
              " ['air-berlin', '8.0', 'Yes'],\n",
              " ['air-berlin', '9.0', 'Yes'],\n",
              " ['air-astana', '9.0', 'Yes'],\n",
              " ['air-astana', '10.0', 'Yes'],\n",
              " ['air-astana', '9.0', 'Yes'],\n",
              " ['air-astana', '10.0', 'Yes'],\n",
              " ['aer-lingus', '9.0', 'Yes'],\n",
              " ['aer-lingus', '9.0', 'Yes'],\n",
              " ['aer-lingus', '8.0', 'Yes'],\n",
              " ['aer-lingus', '8.0', 'Yes'],\n",
              " ['aeroflot-russian-airlines', '5.0', 'No'],\n",
              " ['aeroflot-russian-airlines', '8.0', 'Yes'],\n",
              " ['aeroflot-russian-airlines', '9.0', 'Yes'],\n",
              " ['air-berlin', '2.0', 'No'],\n",
              " ['air-berlin', '1.0', 'No'],\n",
              " ['air-berlin', '9.0', 'Yes'],\n",
              " ['air-berlin', '6.0', 'Yes'],\n",
              " ['air-astana', '8.0', 'Yes'],\n",
              " ['air-astana', '10.0', 'Yes'],\n",
              " ['air-astana', '9.0', 'Yes'],\n",
              " ['aer-lingus', '10.0', 'Yes'],\n",
              " ['aer-lingus', '9.0', 'Yes'],\n",
              " ['aer-lingus', '10.0', 'Yes'],\n",
              " ['aeroflot-russian-airlines', '5.0', 'No'],\n",
              " ['aeroflot-russian-airlines', '9.0', 'Yes'],\n",
              " ['aeroflot-russian-airlines', '7.0', 'Yes'],\n",
              " ['air-berlin', '2.0', 'No'],\n",
              " ['air-berlin', '8.0', 'Yes'],\n",
              " ['air-berlin', '1.0', 'No'],\n",
              " ['air-astana', '10.0', 'Yes'],\n",
              " ['air-astana', '9.0', 'Yes'],\n",
              " ['air-astana', '9.0', 'Yes'],\n",
              " ['aer-lingus', '8.0', 'Yes'],\n",
              " ['aer-lingus', '3.0', 'No'],\n",
              " ['aer-lingus', '9.0', 'Yes'],\n",
              " ['aer-lingus', '2.0', 'No'],\n",
              " ['aeroflot-russian-airlines', '9.0', 'Yes'],\n",
              " ['aeroflot-russian-airlines', '3.0', 'No'],\n",
              " ['aeroflot-russian-airlines', '7.0', 'Yes'],\n",
              " ['aeroflot-russian-airlines', '7.0', 'Yes'],\n",
              " ['air-berlin', '10.0', 'Yes'],\n",
              " ['air-berlin', '4.0', 'No'],\n",
              " ['air-astana', '8.0', 'Yes'],\n",
              " ['aer-lingus', '10.0', 'Yes'],\n",
              " ['aer-lingus', '9.0', 'Yes'],\n",
              " ['aer-lingus', '9.0', 'Yes'],\n",
              " ['aeroflot-russian-airlines', '7.0', 'Yes'],\n",
              " ['aeroflot-russian-airlines', '8.0', 'Yes'],\n",
              " ['aeroflot-russian-airlines', '7.0', 'Yes'],\n",
              " ['aeroflot-russian-airlines', '8.0', 'Yes'],\n",
              " ['air-berlin', '1.0', 'No'],\n",
              " ['air-berlin', '9.0', 'Yes'],\n",
              " ['aer-lingus', '9.0', 'Yes'],\n",
              " ['aer-lingus', '10.0', 'Yes'],\n",
              " ['aeroflot-russian-airlines', '7.0', 'Yes'],\n",
              " ['aeroflot-russian-airlines', '9.0', 'Yes'],\n",
              " ['aeroflot-russian-airlines', '7.0', 'Yes'],\n",
              " ['air-botswana', '10.0', 'Yes'],\n",
              " ['air-berlin', '1.0', 'No'],\n",
              " ['air-berlin', '2.0', 'No'],\n",
              " ['air-berlin', '8.0', 'Yes'],\n",
              " ['aer-lingus', '6.0', 'Yes'],\n",
              " ['aer-lingus', '2.0', 'No'],\n",
              " ['aer-lingus', '8.0', 'Yes'],\n",
              " ['aeroflot-russian-airlines', '8.0', 'Yes'],\n",
              " ['aeroflot-russian-airlines', '3.0', 'No'],\n",
              " ['aeroflot-russian-airlines', '8.0', 'Yes'],\n",
              " ['air-botswana', '10.0', 'Yes'],\n",
              " ['air-botswana', '8.0', 'Yes'],\n",
              " ['air-botswana', '10.0', 'Yes'],\n",
              " ['air-berlin', '10.0', 'Yes'],\n",
              " ['air-berlin', '5.0', 'No'],\n",
              " ['air-berlin', '1.0', 'No'],\n",
              " ['air-berlin', '10.0', 'Yes'],\n",
              " ['aer-lingus', '10.0', 'Yes'],\n",
              " ['aer-lingus', '10.0', 'Yes'],\n",
              " ['aer-lingus', '8.0', 'Yes'],\n",
              " ['aer-lingus', '8.0', 'Yes'],\n",
              " ['aeroflot-russian-airlines', '4.0', 'Yes'],\n",
              " ['aeroflot-russian-airlines', '7.0', 'Yes'],\n",
              " ['air-berlin', '9.0', 'Yes'],\n",
              " ['air-berlin', '7.0', 'Yes'],\n",
              " ['air-berlin', '10.0', 'Yes'],\n",
              " ['air-berlin', '9.0', 'Yes'],\n",
              " ['aer-lingus', '10.0', 'Yes'],\n",
              " ['aer-lingus', '10.0', 'Yes'],\n",
              " ['aer-lingus', '4.0', 'No'],\n",
              " ['air-berlin', '10.0', 'Yes'],\n",
              " ['aer-lingus', '10.0', 'Yes'],\n",
              " ['aer-lingus', '1.0', 'No'],\n",
              " ['aer-lingus', '9.0', 'Yes'],\n",
              " ['air-berlin', '9.0', 'Yes'],\n",
              " ['air-berlin', '5.0', 'No'],\n",
              " ['air-berlin', '10.0', 'Yes'],\n",
              " ['air-berlin', '1.0', 'No'],\n",
              " ['air-busan', '10.0', 'Yes'],\n",
              " ['air-busan', '9.0', 'Yes'],\n",
              " ['aer-lingus', '9.0', 'Yes'],\n",
              " ['aer-lingus', '8.0', 'Yes'],\n",
              " ['aer-lingus', '3.0', 'No'],\n",
              " ['air-berlin', '8.0', 'Yes'],\n",
              " ['air-berlin', '1.0', 'No'],\n",
              " ['air-berlin', '10.0', 'Yes'],\n",
              " ['air-busan', '10.0', 'Yes'],\n",
              " ['aer-lingus', '2.0', 'No'],\n",
              " ['aer-lingus', '10.0', 'Yes'],\n",
              " ['aer-lingus', '5.0', 'No'],\n",
              " ['aer-lingus', '7.0', 'Yes'],\n",
              " ['air-berlin', '8.0', 'Yes'],\n",
              " ['air-berlin', '2.0', 'No'],\n",
              " ['air-berlin', '9.0', 'Yes'],\n",
              " ['aer-lingus', '9.0', 'Yes'],\n",
              " ['aer-lingus', '1.0', 'No'],\n",
              " ['aer-lingus', '10.0', 'Yes'],\n",
              " ['aer-lingus', '9.0', 'Yes'],\n",
              " ['air-berlin', '9.0', 'Yes'],\n",
              " ['air-berlin', '1.0', 'No'],\n",
              " ['aer-lingus', '9.0', 'Yes'],\n",
              " ['aer-lingus', '10.0', 'Yes'],\n",
              " ['aer-lingus', '9.0', 'Yes'],\n",
              " ['air-berlin', '5.0', 'No'],\n",
              " ['air-berlin', '10.0', 'Yes'],\n",
              " ['air-berlin', '1.0', 'No'],\n",
              " ['aer-lingus', '5.0', 'No'],\n",
              " ['aer-lingus', '2.0', 'No'],\n",
              " ['aer-lingus', '10.0', 'Yes'],\n",
              " ['aer-lingus', '10.0', 'Yes'],\n",
              " ['air-berlin', '1.0', 'No'],\n",
              " ['air-berlin', '1.0', 'No'],\n",
              " ['air-berlin', '8.0', 'Yes'],\n",
              " ['aer-lingus', '2.0', 'No'],\n",
              " ['aer-lingus', '1.0', 'No'],\n",
              " ['aer-lingus', '3.0', 'No'],\n",
              " ['air-berlin', '3.0', 'No'],\n",
              " ['air-berlin', '7.0', 'Yes'],\n",
              " ['air-berlin', '10.0', 'Yes'],\n",
              " ['air-berlin', '7.0', 'Yes'],\n",
              " ['aer-lingus', '9.0', 'Yes'],\n",
              " ['aer-lingus', '10.0', 'Yes'],\n",
              " ['aer-lingus', '5.0', 'No'],\n",
              " ['air-berlin', '6.0', 'Yes'],\n",
              " ['air-berlin', '4.0', 'Yes'],\n",
              " ['air-berlin', '6.0', 'Yes'],\n",
              " ['aer-lingus', '9.0', 'Yes'],\n",
              " ['aer-lingus', '2.0', 'No'],\n",
              " ['aer-lingus', '8.0', 'Yes'],\n",
              " ['aer-lingus', '10.0', 'Yes'],\n",
              " ['air-berlin', '5.0', 'Yes'],\n",
              " ['air-berlin', '7.0', 'Yes'],\n",
              " ['air-berlin', '2.0', 'No'],\n",
              " ['air-berlin', '9.0', 'Yes'],\n",
              " ['aer-lingus', '5.0', 'No'],\n",
              " ['aer-lingus', '8.0', 'Yes'],\n",
              " ['aer-lingus', '7.0', 'Yes'],\n",
              " ['aer-lingus', '2.0', 'No'],\n",
              " ['air-berlin', '6.0', 'No'],\n",
              " ['air-berlin', '9.0', 'Yes'],\n",
              " ['air-berlin', '8.0', 'Yes'],\n",
              " ['air-berlin', '8.0', 'Yes'],\n",
              " ['aer-lingus', '8.0', 'Yes'],\n",
              " ['aer-lingus', '3.0', 'No'],\n",
              " ['aer-lingus', '9.0', 'Yes'],\n",
              " ['air-berlin', '3.0', 'No'],\n",
              " ['air-berlin', '2.0', 'No'],\n",
              " ['air-berlin', '2.0', 'No'],\n",
              " ['aer-lingus', '10.0', 'Yes'],\n",
              " ['aer-lingus', '9.0', 'Yes'],\n",
              " ['aer-lingus', '1.0', 'No'],\n",
              " ['air-canada', '3.0', 'No'],\n",
              " ['air-berlin', '5.0', 'No'],\n",
              " ['air-berlin', '1.0', 'No'],\n",
              " ['air-berlin', '9.0', 'Yes'],\n",
              " ['aer-lingus', '8.0', 'Yes'],\n",
              " ['aer-lingus', '9.0', 'Yes'],\n",
              " ['aer-lingus', '9.0', 'Yes'],\n",
              " ['air-canada', '1.0', 'No'],\n",
              " ['air-canada', '1.0', 'No'],\n",
              " ['air-canada', '5.0', 'Yes'],\n",
              " ['air-berlin', '7.0', 'Yes'],\n",
              " ['air-berlin', '8.0', 'Yes'],\n",
              " ...]"
            ]
          },
          "metadata": {},
          "execution_count": 503
        }
      ]
    },
    {
      "cell_type": "code",
      "source": [
        "association_rules = apriori(transacts, min_support=0.0005, min_confidence=0.0005, min_length=4, min_lift=2)"
      ],
      "metadata": {
        "id": "-CwDEkUUWOao"
      },
      "execution_count": 539,
      "outputs": []
    },
    {
      "cell_type": "code",
      "source": [
        "output = list(association_rules) # returns a non-tabular output\n",
        "# putting output into a pandas dataframe\n",
        "def inspect(output):\n",
        "    lhs         = [tuple(result[0]) for result in output]\n",
        "    # rhs         = [tuple(result[2][0][1]) for result in output]\n",
        "    support    = [result[1] for result in output]\n",
        "    confidence = [result[2][0][2] for result in output]\n",
        "    lift       = [result[2][0][3] for result in output]\n",
        "    return list(zip(lhs, support, confidence, lift))\n",
        "output_DataFrame = pd.DataFrame(inspect(output), columns = ['rule', 'Support', 'Confidence', 'Lift'])"
      ],
      "metadata": {
        "id": "FQ8YwgxBWiX0"
      },
      "execution_count": 540,
      "outputs": []
    },
    {
      "cell_type": "code",
      "source": [
        "output_DataFrame.head(50)"
      ],
      "metadata": {
        "colab": {
          "base_uri": "https://localhost:8080/",
          "height": 1000
        },
        "id": "yD5sVO5Ee4tN",
        "outputId": "16589509-5650-41e4-c811-dcdfb4464677"
      },
      "execution_count": 541,
      "outputs": [
        {
          "output_type": "execute_result",
          "data": {
            "text/plain": [
              "                                        rule   Support  Confidence      Lift\n",
              "0                                  (1.0, No)  0.142653    0.996416  2.515519\n",
              "1                          (1.0, air-canada)  0.005058    0.035330  2.008157\n",
              "2                    (air-canada-rouge, 1.0)  0.015064    0.105223  4.083630\n",
              "3                   (1.0, american-airlines)  0.009273    0.064772  3.052122\n",
              "4                   (frontier-airlines, 1.0)  0.002749    0.019201  2.632498\n",
              "5                     (1.0, royal-air-maroc)  0.000880    0.006144  2.748155\n",
              "6                     (spirit-airlines, 1.0)  0.003482    0.024322  5.065382\n",
              "7                    (sunwing-airlines, 1.0)  0.005938    0.041475  3.017475\n",
              "8                     (1.0, united-airlines)  0.013965    0.097542  3.314128\n",
              "9                         (aeromexico, 10.0)  0.000880    0.005390  2.042294\n",
              "10                        (air-astana, 10.0)  0.001136    0.006962  2.922051\n",
              "11                        (air-serbia, 10.0)  0.000843    0.005165  2.348638\n",
              "12                         (airasia-x, 10.0)  0.001503    0.009207  2.025823\n",
              "13                   (asiana-airlines, 10.0)  0.003299    0.020211  2.223465\n",
              "14                   (indigo-airlines, 10.0)  0.000916    0.005614  2.320788\n",
              "15                         (norwegian, 10.0)  0.003995    0.024478  2.093511\n",
              "16                                 (2.0, No)  0.082176    0.987230  2.492329\n",
              "17              (aerolineas-argentinas, 2.0)  0.000660    0.007926  2.059483\n",
              "18                       (2.0, fiji-airways)  0.000916    0.011008  2.441799\n",
              "19                  (2.0, frontier-airlines)  0.001356    0.016292  2.233694\n",
              "20               (2.0, thomas-cook-airlines)  0.001979    0.023778  2.092700\n",
              "21                                 (3.0, No)  0.063226    0.968013  2.443815\n",
              "22                                 (4.0, No)  0.039768    0.884992  2.234222\n",
              "23          (7.0, aeroflot-russian-airlines)  0.001393    0.015504  2.169191\n",
              "24  (9.0, bmi-british-midland-international)  0.000586    0.003992  2.054984\n",
              "25                   (9.0, garuda-indonesia)  0.004545    0.030938  2.411671\n",
              "26                         (9.0, korean-air)  0.003189    0.021707  2.107547\n",
              "27              (9.0, royal-brunei-airlines)  0.002163    0.014721  2.218901\n",
              "28                    (air-canada-rouge, No)  0.022285    0.056260  2.183410\n",
              "29                     (spirit-airlines, No)  0.003995    0.010086  2.100594\n",
              "30          (aerolineas-argentinas, 1.0, No)  0.000550    0.003840  2.095469\n",
              "31                     (1.0, air-berlin, No)  0.000953    0.006656  2.017859\n",
              "32                     (1.0, air-canada, No)  0.005021    0.035074  3.334253\n",
              "33               (air-canada-rouge, 1.0, No)  0.015064    0.105223  4.721697\n",
              "34                      (1.0, air-china, No)  0.001466    0.010241  2.472529\n",
              "35                     (air-france, 1.0, No)  0.002749    0.019201  2.593402\n",
              "36                      (1.0, air-india, No)  0.000990    0.002498  2.524567\n",
              "37                (1.0, air-new-zealand, No)  0.000660    0.001666  2.524567\n",
              "38                    (air-transat, 1.0, No)  0.000990    0.002498  2.524567\n",
              "39                        (1.0, airasia, No)  0.001173    0.008193  2.829325\n",
              "40                       (1.0, alitalia, No)  0.001576    0.011009  2.160795\n",
              "41                  (1.0, allegiant-air, No)  0.002126    0.014849  3.215269\n",
              "42              (1.0, american-airlines, No)  0.009273    0.064772  4.440147\n",
              "43              (austrian-airlines, 1.0, No)  0.000733    0.001851  2.524567\n",
              "44                (british-airways, 1.0, No)  0.003739    0.009438  2.524567\n",
              "45         (cathay-pacific-airways, 1.0, No)  0.001503    0.003794  2.524567\n",
              "46         (1.0, china-eastern-airlines, No)  0.000953    0.002406  2.524567\n",
              "47        (1.0, china-southern-airlines, No)  0.001100    0.007680  2.205756\n",
              "48                (delta-air-lines, 1.0, No)  0.001686    0.011777  2.362538\n",
              "49                       (1.0, emirates, No)  0.002786    0.019457  2.033916"
            ],
            "text/html": [
              "\n",
              "  <div id=\"df-d99bb347-927b-4849-ad32-5a535a8270dd\">\n",
              "    <div class=\"colab-df-container\">\n",
              "      <div>\n",
              "<style scoped>\n",
              "    .dataframe tbody tr th:only-of-type {\n",
              "        vertical-align: middle;\n",
              "    }\n",
              "\n",
              "    .dataframe tbody tr th {\n",
              "        vertical-align: top;\n",
              "    }\n",
              "\n",
              "    .dataframe thead th {\n",
              "        text-align: right;\n",
              "    }\n",
              "</style>\n",
              "<table border=\"1\" class=\"dataframe\">\n",
              "  <thead>\n",
              "    <tr style=\"text-align: right;\">\n",
              "      <th></th>\n",
              "      <th>rule</th>\n",
              "      <th>Support</th>\n",
              "      <th>Confidence</th>\n",
              "      <th>Lift</th>\n",
              "    </tr>\n",
              "  </thead>\n",
              "  <tbody>\n",
              "    <tr>\n",
              "      <th>0</th>\n",
              "      <td>(1.0, No)</td>\n",
              "      <td>0.142653</td>\n",
              "      <td>0.996416</td>\n",
              "      <td>2.515519</td>\n",
              "    </tr>\n",
              "    <tr>\n",
              "      <th>1</th>\n",
              "      <td>(1.0, air-canada)</td>\n",
              "      <td>0.005058</td>\n",
              "      <td>0.035330</td>\n",
              "      <td>2.008157</td>\n",
              "    </tr>\n",
              "    <tr>\n",
              "      <th>2</th>\n",
              "      <td>(air-canada-rouge, 1.0)</td>\n",
              "      <td>0.015064</td>\n",
              "      <td>0.105223</td>\n",
              "      <td>4.083630</td>\n",
              "    </tr>\n",
              "    <tr>\n",
              "      <th>3</th>\n",
              "      <td>(1.0, american-airlines)</td>\n",
              "      <td>0.009273</td>\n",
              "      <td>0.064772</td>\n",
              "      <td>3.052122</td>\n",
              "    </tr>\n",
              "    <tr>\n",
              "      <th>4</th>\n",
              "      <td>(frontier-airlines, 1.0)</td>\n",
              "      <td>0.002749</td>\n",
              "      <td>0.019201</td>\n",
              "      <td>2.632498</td>\n",
              "    </tr>\n",
              "    <tr>\n",
              "      <th>5</th>\n",
              "      <td>(1.0, royal-air-maroc)</td>\n",
              "      <td>0.000880</td>\n",
              "      <td>0.006144</td>\n",
              "      <td>2.748155</td>\n",
              "    </tr>\n",
              "    <tr>\n",
              "      <th>6</th>\n",
              "      <td>(spirit-airlines, 1.0)</td>\n",
              "      <td>0.003482</td>\n",
              "      <td>0.024322</td>\n",
              "      <td>5.065382</td>\n",
              "    </tr>\n",
              "    <tr>\n",
              "      <th>7</th>\n",
              "      <td>(sunwing-airlines, 1.0)</td>\n",
              "      <td>0.005938</td>\n",
              "      <td>0.041475</td>\n",
              "      <td>3.017475</td>\n",
              "    </tr>\n",
              "    <tr>\n",
              "      <th>8</th>\n",
              "      <td>(1.0, united-airlines)</td>\n",
              "      <td>0.013965</td>\n",
              "      <td>0.097542</td>\n",
              "      <td>3.314128</td>\n",
              "    </tr>\n",
              "    <tr>\n",
              "      <th>9</th>\n",
              "      <td>(aeromexico, 10.0)</td>\n",
              "      <td>0.000880</td>\n",
              "      <td>0.005390</td>\n",
              "      <td>2.042294</td>\n",
              "    </tr>\n",
              "    <tr>\n",
              "      <th>10</th>\n",
              "      <td>(air-astana, 10.0)</td>\n",
              "      <td>0.001136</td>\n",
              "      <td>0.006962</td>\n",
              "      <td>2.922051</td>\n",
              "    </tr>\n",
              "    <tr>\n",
              "      <th>11</th>\n",
              "      <td>(air-serbia, 10.0)</td>\n",
              "      <td>0.000843</td>\n",
              "      <td>0.005165</td>\n",
              "      <td>2.348638</td>\n",
              "    </tr>\n",
              "    <tr>\n",
              "      <th>12</th>\n",
              "      <td>(airasia-x, 10.0)</td>\n",
              "      <td>0.001503</td>\n",
              "      <td>0.009207</td>\n",
              "      <td>2.025823</td>\n",
              "    </tr>\n",
              "    <tr>\n",
              "      <th>13</th>\n",
              "      <td>(asiana-airlines, 10.0)</td>\n",
              "      <td>0.003299</td>\n",
              "      <td>0.020211</td>\n",
              "      <td>2.223465</td>\n",
              "    </tr>\n",
              "    <tr>\n",
              "      <th>14</th>\n",
              "      <td>(indigo-airlines, 10.0)</td>\n",
              "      <td>0.000916</td>\n",
              "      <td>0.005614</td>\n",
              "      <td>2.320788</td>\n",
              "    </tr>\n",
              "    <tr>\n",
              "      <th>15</th>\n",
              "      <td>(norwegian, 10.0)</td>\n",
              "      <td>0.003995</td>\n",
              "      <td>0.024478</td>\n",
              "      <td>2.093511</td>\n",
              "    </tr>\n",
              "    <tr>\n",
              "      <th>16</th>\n",
              "      <td>(2.0, No)</td>\n",
              "      <td>0.082176</td>\n",
              "      <td>0.987230</td>\n",
              "      <td>2.492329</td>\n",
              "    </tr>\n",
              "    <tr>\n",
              "      <th>17</th>\n",
              "      <td>(aerolineas-argentinas, 2.0)</td>\n",
              "      <td>0.000660</td>\n",
              "      <td>0.007926</td>\n",
              "      <td>2.059483</td>\n",
              "    </tr>\n",
              "    <tr>\n",
              "      <th>18</th>\n",
              "      <td>(2.0, fiji-airways)</td>\n",
              "      <td>0.000916</td>\n",
              "      <td>0.011008</td>\n",
              "      <td>2.441799</td>\n",
              "    </tr>\n",
              "    <tr>\n",
              "      <th>19</th>\n",
              "      <td>(2.0, frontier-airlines)</td>\n",
              "      <td>0.001356</td>\n",
              "      <td>0.016292</td>\n",
              "      <td>2.233694</td>\n",
              "    </tr>\n",
              "    <tr>\n",
              "      <th>20</th>\n",
              "      <td>(2.0, thomas-cook-airlines)</td>\n",
              "      <td>0.001979</td>\n",
              "      <td>0.023778</td>\n",
              "      <td>2.092700</td>\n",
              "    </tr>\n",
              "    <tr>\n",
              "      <th>21</th>\n",
              "      <td>(3.0, No)</td>\n",
              "      <td>0.063226</td>\n",
              "      <td>0.968013</td>\n",
              "      <td>2.443815</td>\n",
              "    </tr>\n",
              "    <tr>\n",
              "      <th>22</th>\n",
              "      <td>(4.0, No)</td>\n",
              "      <td>0.039768</td>\n",
              "      <td>0.884992</td>\n",
              "      <td>2.234222</td>\n",
              "    </tr>\n",
              "    <tr>\n",
              "      <th>23</th>\n",
              "      <td>(7.0, aeroflot-russian-airlines)</td>\n",
              "      <td>0.001393</td>\n",
              "      <td>0.015504</td>\n",
              "      <td>2.169191</td>\n",
              "    </tr>\n",
              "    <tr>\n",
              "      <th>24</th>\n",
              "      <td>(9.0, bmi-british-midland-international)</td>\n",
              "      <td>0.000586</td>\n",
              "      <td>0.003992</td>\n",
              "      <td>2.054984</td>\n",
              "    </tr>\n",
              "    <tr>\n",
              "      <th>25</th>\n",
              "      <td>(9.0, garuda-indonesia)</td>\n",
              "      <td>0.004545</td>\n",
              "      <td>0.030938</td>\n",
              "      <td>2.411671</td>\n",
              "    </tr>\n",
              "    <tr>\n",
              "      <th>26</th>\n",
              "      <td>(9.0, korean-air)</td>\n",
              "      <td>0.003189</td>\n",
              "      <td>0.021707</td>\n",
              "      <td>2.107547</td>\n",
              "    </tr>\n",
              "    <tr>\n",
              "      <th>27</th>\n",
              "      <td>(9.0, royal-brunei-airlines)</td>\n",
              "      <td>0.002163</td>\n",
              "      <td>0.014721</td>\n",
              "      <td>2.218901</td>\n",
              "    </tr>\n",
              "    <tr>\n",
              "      <th>28</th>\n",
              "      <td>(air-canada-rouge, No)</td>\n",
              "      <td>0.022285</td>\n",
              "      <td>0.056260</td>\n",
              "      <td>2.183410</td>\n",
              "    </tr>\n",
              "    <tr>\n",
              "      <th>29</th>\n",
              "      <td>(spirit-airlines, No)</td>\n",
              "      <td>0.003995</td>\n",
              "      <td>0.010086</td>\n",
              "      <td>2.100594</td>\n",
              "    </tr>\n",
              "    <tr>\n",
              "      <th>30</th>\n",
              "      <td>(aerolineas-argentinas, 1.0, No)</td>\n",
              "      <td>0.000550</td>\n",
              "      <td>0.003840</td>\n",
              "      <td>2.095469</td>\n",
              "    </tr>\n",
              "    <tr>\n",
              "      <th>31</th>\n",
              "      <td>(1.0, air-berlin, No)</td>\n",
              "      <td>0.000953</td>\n",
              "      <td>0.006656</td>\n",
              "      <td>2.017859</td>\n",
              "    </tr>\n",
              "    <tr>\n",
              "      <th>32</th>\n",
              "      <td>(1.0, air-canada, No)</td>\n",
              "      <td>0.005021</td>\n",
              "      <td>0.035074</td>\n",
              "      <td>3.334253</td>\n",
              "    </tr>\n",
              "    <tr>\n",
              "      <th>33</th>\n",
              "      <td>(air-canada-rouge, 1.0, No)</td>\n",
              "      <td>0.015064</td>\n",
              "      <td>0.105223</td>\n",
              "      <td>4.721697</td>\n",
              "    </tr>\n",
              "    <tr>\n",
              "      <th>34</th>\n",
              "      <td>(1.0, air-china, No)</td>\n",
              "      <td>0.001466</td>\n",
              "      <td>0.010241</td>\n",
              "      <td>2.472529</td>\n",
              "    </tr>\n",
              "    <tr>\n",
              "      <th>35</th>\n",
              "      <td>(air-france, 1.0, No)</td>\n",
              "      <td>0.002749</td>\n",
              "      <td>0.019201</td>\n",
              "      <td>2.593402</td>\n",
              "    </tr>\n",
              "    <tr>\n",
              "      <th>36</th>\n",
              "      <td>(1.0, air-india, No)</td>\n",
              "      <td>0.000990</td>\n",
              "      <td>0.002498</td>\n",
              "      <td>2.524567</td>\n",
              "    </tr>\n",
              "    <tr>\n",
              "      <th>37</th>\n",
              "      <td>(1.0, air-new-zealand, No)</td>\n",
              "      <td>0.000660</td>\n",
              "      <td>0.001666</td>\n",
              "      <td>2.524567</td>\n",
              "    </tr>\n",
              "    <tr>\n",
              "      <th>38</th>\n",
              "      <td>(air-transat, 1.0, No)</td>\n",
              "      <td>0.000990</td>\n",
              "      <td>0.002498</td>\n",
              "      <td>2.524567</td>\n",
              "    </tr>\n",
              "    <tr>\n",
              "      <th>39</th>\n",
              "      <td>(1.0, airasia, No)</td>\n",
              "      <td>0.001173</td>\n",
              "      <td>0.008193</td>\n",
              "      <td>2.829325</td>\n",
              "    </tr>\n",
              "    <tr>\n",
              "      <th>40</th>\n",
              "      <td>(1.0, alitalia, No)</td>\n",
              "      <td>0.001576</td>\n",
              "      <td>0.011009</td>\n",
              "      <td>2.160795</td>\n",
              "    </tr>\n",
              "    <tr>\n",
              "      <th>41</th>\n",
              "      <td>(1.0, allegiant-air, No)</td>\n",
              "      <td>0.002126</td>\n",
              "      <td>0.014849</td>\n",
              "      <td>3.215269</td>\n",
              "    </tr>\n",
              "    <tr>\n",
              "      <th>42</th>\n",
              "      <td>(1.0, american-airlines, No)</td>\n",
              "      <td>0.009273</td>\n",
              "      <td>0.064772</td>\n",
              "      <td>4.440147</td>\n",
              "    </tr>\n",
              "    <tr>\n",
              "      <th>43</th>\n",
              "      <td>(austrian-airlines, 1.0, No)</td>\n",
              "      <td>0.000733</td>\n",
              "      <td>0.001851</td>\n",
              "      <td>2.524567</td>\n",
              "    </tr>\n",
              "    <tr>\n",
              "      <th>44</th>\n",
              "      <td>(british-airways, 1.0, No)</td>\n",
              "      <td>0.003739</td>\n",
              "      <td>0.009438</td>\n",
              "      <td>2.524567</td>\n",
              "    </tr>\n",
              "    <tr>\n",
              "      <th>45</th>\n",
              "      <td>(cathay-pacific-airways, 1.0, No)</td>\n",
              "      <td>0.001503</td>\n",
              "      <td>0.003794</td>\n",
              "      <td>2.524567</td>\n",
              "    </tr>\n",
              "    <tr>\n",
              "      <th>46</th>\n",
              "      <td>(1.0, china-eastern-airlines, No)</td>\n",
              "      <td>0.000953</td>\n",
              "      <td>0.002406</td>\n",
              "      <td>2.524567</td>\n",
              "    </tr>\n",
              "    <tr>\n",
              "      <th>47</th>\n",
              "      <td>(1.0, china-southern-airlines, No)</td>\n",
              "      <td>0.001100</td>\n",
              "      <td>0.007680</td>\n",
              "      <td>2.205756</td>\n",
              "    </tr>\n",
              "    <tr>\n",
              "      <th>48</th>\n",
              "      <td>(delta-air-lines, 1.0, No)</td>\n",
              "      <td>0.001686</td>\n",
              "      <td>0.011777</td>\n",
              "      <td>2.362538</td>\n",
              "    </tr>\n",
              "    <tr>\n",
              "      <th>49</th>\n",
              "      <td>(1.0, emirates, No)</td>\n",
              "      <td>0.002786</td>\n",
              "      <td>0.019457</td>\n",
              "      <td>2.033916</td>\n",
              "    </tr>\n",
              "  </tbody>\n",
              "</table>\n",
              "</div>\n",
              "      <button class=\"colab-df-convert\" onclick=\"convertToInteractive('df-d99bb347-927b-4849-ad32-5a535a8270dd')\"\n",
              "              title=\"Convert this dataframe to an interactive table.\"\n",
              "              style=\"display:none;\">\n",
              "        \n",
              "  <svg xmlns=\"http://www.w3.org/2000/svg\" height=\"24px\"viewBox=\"0 0 24 24\"\n",
              "       width=\"24px\">\n",
              "    <path d=\"M0 0h24v24H0V0z\" fill=\"none\"/>\n",
              "    <path d=\"M18.56 5.44l.94 2.06.94-2.06 2.06-.94-2.06-.94-.94-2.06-.94 2.06-2.06.94zm-11 1L8.5 8.5l.94-2.06 2.06-.94-2.06-.94L8.5 2.5l-.94 2.06-2.06.94zm10 10l.94 2.06.94-2.06 2.06-.94-2.06-.94-.94-2.06-.94 2.06-2.06.94z\"/><path d=\"M17.41 7.96l-1.37-1.37c-.4-.4-.92-.59-1.43-.59-.52 0-1.04.2-1.43.59L10.3 9.45l-7.72 7.72c-.78.78-.78 2.05 0 2.83L4 21.41c.39.39.9.59 1.41.59.51 0 1.02-.2 1.41-.59l7.78-7.78 2.81-2.81c.8-.78.8-2.07 0-2.86zM5.41 20L4 18.59l7.72-7.72 1.47 1.35L5.41 20z\"/>\n",
              "  </svg>\n",
              "      </button>\n",
              "      \n",
              "  <style>\n",
              "    .colab-df-container {\n",
              "      display:flex;\n",
              "      flex-wrap:wrap;\n",
              "      gap: 12px;\n",
              "    }\n",
              "\n",
              "    .colab-df-convert {\n",
              "      background-color: #E8F0FE;\n",
              "      border: none;\n",
              "      border-radius: 50%;\n",
              "      cursor: pointer;\n",
              "      display: none;\n",
              "      fill: #1967D2;\n",
              "      height: 32px;\n",
              "      padding: 0 0 0 0;\n",
              "      width: 32px;\n",
              "    }\n",
              "\n",
              "    .colab-df-convert:hover {\n",
              "      background-color: #E2EBFA;\n",
              "      box-shadow: 0px 1px 2px rgba(60, 64, 67, 0.3), 0px 1px 3px 1px rgba(60, 64, 67, 0.15);\n",
              "      fill: #174EA6;\n",
              "    }\n",
              "\n",
              "    [theme=dark] .colab-df-convert {\n",
              "      background-color: #3B4455;\n",
              "      fill: #D2E3FC;\n",
              "    }\n",
              "\n",
              "    [theme=dark] .colab-df-convert:hover {\n",
              "      background-color: #434B5C;\n",
              "      box-shadow: 0px 1px 3px 1px rgba(0, 0, 0, 0.15);\n",
              "      filter: drop-shadow(0px 1px 2px rgba(0, 0, 0, 0.3));\n",
              "      fill: #FFFFFF;\n",
              "    }\n",
              "  </style>\n",
              "\n",
              "      <script>\n",
              "        const buttonEl =\n",
              "          document.querySelector('#df-d99bb347-927b-4849-ad32-5a535a8270dd button.colab-df-convert');\n",
              "        buttonEl.style.display =\n",
              "          google.colab.kernel.accessAllowed ? 'block' : 'none';\n",
              "\n",
              "        async function convertToInteractive(key) {\n",
              "          const element = document.querySelector('#df-d99bb347-927b-4849-ad32-5a535a8270dd');\n",
              "          const dataTable =\n",
              "            await google.colab.kernel.invokeFunction('convertToInteractive',\n",
              "                                                     [key], {});\n",
              "          if (!dataTable) return;\n",
              "\n",
              "          const docLinkHtml = 'Like what you see? Visit the ' +\n",
              "            '<a target=\"_blank\" href=https://colab.research.google.com/notebooks/data_table.ipynb>data table notebook</a>'\n",
              "            + ' to learn more about interactive tables.';\n",
              "          element.innerHTML = '';\n",
              "          dataTable['output_type'] = 'display_data';\n",
              "          await google.colab.output.renderOutput(dataTable, element);\n",
              "          const docLink = document.createElement('div');\n",
              "          docLink.innerHTML = docLinkHtml;\n",
              "          element.appendChild(docLink);\n",
              "        }\n",
              "      </script>\n",
              "    </div>\n",
              "  </div>\n",
              "  "
            ]
          },
          "metadata": {},
          "execution_count": 541
        }
      ]
    }
  ]
}